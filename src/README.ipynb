{
 "cells": [
  {
   "cell_type": "markdown",
   "id": "aa69dbfa-3478-4532-8216-bc123ddecb47",
   "metadata": {},
   "source": [
    "This folder contains scripts testing and improving the gpt trainer (which is in the components folder)"
   ]
  },
  {
   "cell_type": "markdown",
   "id": "6fcf2712-564d-4d07-8543-c05af729e2c0",
   "metadata": {},
   "source": [
    "### todo:\n",
    "* ~~move dataloader setup into lightning module~~ (done)\n",
    "* use setup() function in lightning module to setup model\n",
    "* use/test flash attention in attention module to increase speed\n",
    "* try pre-training on simple wikipedia dataset\n",
    "* use torch.compile to increase training speed"
   ]
  },
  {
   "cell_type": "code",
   "execution_count": null,
   "id": "ca4f1cfa-17b0-4833-98d6-f0fa6a2bfe73",
   "metadata": {},
   "outputs": [],
   "source": []
  }
 ],
 "metadata": {
  "kernelspec": {
   "display_name": "Python 3 (ipykernel)",
   "language": "python",
   "name": "python3"
  },
  "language_info": {
   "codemirror_mode": {
    "name": "ipython",
    "version": 3
   },
   "file_extension": ".py",
   "mimetype": "text/x-python",
   "name": "python",
   "nbconvert_exporter": "python",
   "pygments_lexer": "ipython3",
   "version": "3.12.9"
  }
 },
 "nbformat": 4,
 "nbformat_minor": 5
}
