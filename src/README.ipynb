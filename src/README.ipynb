{
 "cells": [
  {
   "cell_type": "markdown",
   "id": "aa69dbfa-3478-4532-8216-bc123ddecb47",
   "metadata": {},
   "source": [
    "This folder contains scripts testing and improving the gpt trainer (which is in the components folder)"
   ]
  },
  {
   "cell_type": "markdown",
   "id": "6fcf2712-564d-4d07-8543-c05af729e2c0",
   "metadata": {},
   "source": [
    "### todo:\n",
    "* ~~move dataloader setup into lightning module~~ (done)\n",
    "* ~~use setup() function in lightning module to setup model~~ (done)\n",
    "* use/test flash attention in attention module to increase speed. head dimension must be one of {16, 32, 64, 128}? context length must be multiple of 64?\n",
    "* try pre-training on simple wikipedia dataset\n",
    "* use torch.compile to increase training speed\n",
    "* ~~modify accuracy function to not count \"endoftoken\" tokens~~ (using sequence packing makes this unnecessary)\n",
    "* ~~investigate mem leak by implementing bare bones training loop~~ (caused by multrithreading, copy on read issue)\n",
    "* ~~process text data into files with tokens and save metadata for use later (e.g., total tokens, total stories, etc.)~~ (using huggingface datasets makes this unnecessary)\n",
    "* use lower memory consumption data types for inputs (e.g., int16)\n",
    "* ~~confirm that attention masks are being used properly. API says error should be thrown when mask and is_causal=True is set, but no error is thrown.~~ (confirmed working. error is thrown when mem_efficient_sdp is disabled. otherwise it applies both causal masking AND the mask applied meaning the only values attended to are the ones that neither mask blocks)\n",
    "* try using triton for cross entropy loss calculation (heavy memory usage with torch implementation?)\n",
    "* configure positional encodings so that they match the story positions in the packed sequences"
   ]
  },
  {
   "cell_type": "markdown",
   "id": "36682db3",
   "metadata": {},
   "source": [
    "### resolve:\n",
    "* importing in scripts made from notebook in different folder"
   ]
  }
 ],
 "metadata": {
  "kernelspec": {
   "display_name": "Python 3 (ipykernel)",
   "language": "python",
   "name": "python3"
  },
  "language_info": {
   "codemirror_mode": {
    "name": "ipython",
    "version": 3
   },
   "file_extension": ".py",
   "mimetype": "text/x-python",
   "name": "python",
   "nbconvert_exporter": "python",
   "pygments_lexer": "ipython3",
   "version": "3.12.9"
  }
 },
 "nbformat": 4,
 "nbformat_minor": 5
}
