{
 "cells": [
  {
   "cell_type": "code",
   "execution_count": null,
   "id": "25fdef16-0075-4744-b4a5-6e31f7255504",
   "metadata": {},
   "outputs": [],
   "source": []
  },
  {
   "cell_type": "code",
   "execution_count": 1,
   "id": "9549c88c-6c5c-4127-bd6b-c3954ee25a05",
   "metadata": {},
   "outputs": [],
   "source": [
    "valid_file_loc = \"../data/TinyStories/TinyStoriesV2-GPT4-valid.txt\"\n",
    "with open(valid_file_loc, encoding=\"utf-8\") as f:\n",
    "    valid_text = f.read()\n",
    "\n",
    "valid_text_split = valid_text.split(\"<|endoftext|>\")"
   ]
  },
  {
   "cell_type": "code",
   "execution_count": 3,
   "id": "a3fbb2f1-6114-42b1-b449-ed6f868e18fa",
   "metadata": {},
   "outputs": [],
   "source": [
    "from tokenizers import Tokenizer\n",
    "\n",
    "tokenizer = Tokenizer.from_file(\"./TinyStories_tokenizer.json\")"
   ]
  },
  {
   "cell_type": "code",
   "execution_count": 4,
   "id": "a9f0106f-d5ac-45d2-9686-8fcedbe5566b",
   "metadata": {},
   "outputs": [
    {
     "name": "stdout",
     "output_type": "stream",
     "text": [
      "CPU times: user 8.09 s, sys: 0 ns, total: 8.09 s\n",
      "Wall time: 8.25 s\n"
     ]
    }
   ],
   "source": [
    "%%time\n",
    "\n",
    "story_tokens_counts = []\n",
    "\n",
    "for story in valid_text_split:\n",
    "    story_tokens = tokenizer.encode(story).ids\n",
    "    story_tokens_counts.append(len(story_tokens))"
   ]
  },
  {
   "cell_type": "code",
   "execution_count": 11,
   "id": "56e3b2fd-bdd3-4b8c-a9dc-f93fe53eca0a",
   "metadata": {},
   "outputs": [
    {
     "name": "stdout",
     "output_type": "stream",
     "text": [
      "27631\n",
      "CPU times: user 7.58 s, sys: 0 ns, total: 7.58 s\n",
      "Wall time: 7.12 s\n"
     ]
    }
   ],
   "source": [
    "%%time\n",
    "\n",
    "story_tokens_counts = [len(tokenizer.encode(txt)) for txt in valid_text_split]\n",
    "print(len(story_tokens_counts))"
   ]
  },
  {
   "cell_type": "code",
   "execution_count": 5,
   "id": "fb1f0417-16f2-41c2-8057-7565f5802332",
   "metadata": {},
   "outputs": [
    {
     "name": "stdout",
     "output_type": "stream",
     "text": [
      "27631\n",
      "CPU times: user 13.2 s, sys: 2.45 s, total: 15.7 s\n",
      "Wall time: 1.9 s\n"
     ]
    }
   ],
   "source": [
    "%%time\n",
    "\n",
    "story_tokens_counts = []\n",
    "\n",
    "story_tokens = tokenizer.encode_batch(valid_text_split)\n",
    "[story_tokens_counts.append(len(s)) for s in story_tokens]\n",
    "print(len(story_tokens_counts))"
   ]
  },
  {
   "cell_type": "code",
   "execution_count": 6,
   "id": "eed4ef62-4306-4365-b2fa-704696be8bc4",
   "metadata": {},
   "outputs": [
    {
     "name": "stdout",
     "output_type": "stream",
     "text": [
      "27631\n",
      "CPU times: user 13.6 s, sys: 2.37 s, total: 16 s\n",
      "Wall time: 2.68 s\n"
     ]
    }
   ],
   "source": [
    "%%time\n",
    "\n",
    "story_tokens_counts = [len(tok) for tok in tokenizer.encode_batch(valid_text_split)]\n",
    "print(len(story_tokens_counts))"
   ]
  },
  {
   "cell_type": "code",
   "execution_count": 7,
   "id": "0e651d78-5641-43d9-8e89-1ce0d8c1163b",
   "metadata": {},
   "outputs": [
    {
     "data": {
      "text/plain": [
       "(array([1.000e+00, 0.000e+00, 6.000e+00, 1.570e+02, 1.841e+03, 6.579e+03,\n",
       "        7.644e+03, 4.983e+03, 2.482e+03, 1.131e+03, 6.150e+02, 3.160e+02,\n",
       "        2.620e+02, 2.530e+02, 2.510e+02, 2.080e+02, 1.620e+02, 1.470e+02,\n",
       "        1.080e+02, 9.300e+01, 8.100e+01, 6.600e+01, 5.000e+01, 4.500e+01,\n",
       "        3.400e+01, 2.400e+01, 2.300e+01, 9.000e+00, 1.100e+01, 1.000e+01,\n",
       "        1.100e+01, 5.000e+00, 5.000e+00, 2.000e+00, 2.000e+00, 0.000e+00,\n",
       "        3.000e+00, 2.000e+00, 1.000e+00, 8.000e+00]),\n",
       " array([   2. ,   28.2,   54.4,   80.6,  106.8,  133. ,  159.2,  185.4,\n",
       "         211.6,  237.8,  264. ,  290.2,  316.4,  342.6,  368.8,  395. ,\n",
       "         421.2,  447.4,  473.6,  499.8,  526. ,  552.2,  578.4,  604.6,\n",
       "         630.8,  657. ,  683.2,  709.4,  735.6,  761.8,  788. ,  814.2,\n",
       "         840.4,  866.6,  892.8,  919. ,  945.2,  971.4,  997.6, 1023.8,\n",
       "        1050. ]),\n",
       " <BarContainer object of 40 artists>)"
      ]
     },
     "execution_count": 7,
     "metadata": {},
     "output_type": "execute_result"
    },
    {
     "data": {
      "image/png": "[encoded data removed]",
      "text/plain": [
       "<Figure size 640x480 with 1 Axes>"
      ]
     },
     "metadata": {},
     "output_type": "display_data"
    }
   ],
   "source": [
    "import matplotlib.pyplot as plt\n",
    "\n",
    "plt.hist(story_tokens_counts, bins=40)"
   ]
  },
  {
   "cell_type": "code",
   "execution_count": 13,
   "id": "98664003-a17d-4168-b2ea-3bce92902825",
   "metadata": {},
   "outputs": [
    {
     "name": "stdout",
     "output_type": "stream",
     "text": [
      "proportion of stories with less than 128 tokens:  0.04958199124172125\n"
     ]
    }
   ],
   "source": [
    "import numpy as np\n",
    "\n",
    "count = np.sum(np.array(story_tokens_counts) < 128)\n",
    "print(\"proportion of stories with less than 128 tokens: \", count / (len(story_tokens_counts)))"
   ]
  },
  {
   "cell_type": "code",
   "execution_count": 14,
   "id": "cd275d37-f884-4d6a-b04a-b580ffaa794b",
   "metadata": {},
   "outputs": [
    {
     "name": "stdout",
     "output_type": "stream",
     "text": [
      "proportion of stories with less than 256 tokens:  0.8892186312475119\n"
     ]
    }
   ],
   "source": [
    "count = np.sum(np.array(story_tokens_counts) < 256)\n",
    "print(\"proportion of stories with less than 256 tokens: \", count / (len(story_tokens_counts)))"
   ]
  },
  {
   "cell_type": "code",
   "execution_count": 15,
   "id": "8c5ae52d-975d-4cdf-b54f-97c8aaeb3d39",
   "metadata": {},
   "outputs": [
    {
     "name": "stdout",
     "output_type": "stream",
     "text": [
      "proportion of stories with less than 512 tokens:  0.9842206217654084\n"
     ]
    }
   ],
   "source": [
    "count = np.sum(np.array(story_tokens_counts) < 512)\n",
    "print(\"proportion of stories with less than 512 tokens: \", count / (len(story_tokens_counts)))"
   ]
  },
  {
   "cell_type": "code",
   "execution_count": null,
   "id": "2a378cd6-bdc6-4dc3-bf83-28532e8518e9",
   "metadata": {},
   "outputs": [],
   "source": []
  },
  {
   "cell_type": "markdown",
   "id": "dff7c87c-a809-486e-b4cb-6fc7af7d78ca",
   "metadata": {},
   "source": [
    "count how many time each token shows up, and plot a histogram"
   ]
  },
  {
   "cell_type": "code",
   "execution_count": null,
   "id": "2a7e00a1-9754-44cf-b8d7-19c7ad9c7925",
   "metadata": {},
   "outputs": [],
   "source": []
  }
 ],
 "metadata": {
  "kernelspec": {
   "display_name": "Python 3 (ipykernel)",
   "language": "python",
   "name": "python3"
  },
  "language_info": {
   "codemirror_mode": {
    "name": "ipython",
    "version": 3
   },
   "file_extension": ".py",
   "mimetype": "text/x-python",
   "name": "python",
   "nbconvert_exporter": "python",
   "pygments_lexer": "ipython3",
   "version": "3.12.9"
  }
 },
 "nbformat": 4,
 "nbformat_minor": 5
}
