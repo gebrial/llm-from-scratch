{
 "cells": [
  {
   "cell_type": "markdown",
   "id": "4c22a32f-cb2c-47cd-96fc-fea8953ac491",
   "metadata": {},
   "source": [
    "This script contains some improvement from train.ipynb by default:\n",
    "* much few layers, heads, and embedding dimension to reduce the model size\n",
    "* dataloader v2 which uses a custom tokenizer (again to reduce model size)\n",
    "* no positional embeddings (to reduce model complexity)\n",
    "* weight tying (to reduce model size)\n",
    "\n",
    "\n",
    "We implemented a few things here first and not before:\n",
    "* validation losses\n",
    "* increased the model size to be just below 30M parameters\n",
    "* reduced the amount of data trained with to keep the training (wall) time consistent\n",
    "* made graph more informative"
   ]
  },
  {
   "cell_type": "markdown",
   "id": "ce834d77-2417-42fc-b17f-d30e90267ea7",
   "metadata": {},
   "source": [
    "This script contains a couple improvements from train2.ipynb:\n",
    "* gradient accumulation is enabled\n",
    "* the dataloader chunks from the start of an example up to the max_length or the endoftext token"
   ]
  },
  {
   "cell_type": "markdown",
   "id": "58cab6bf-b4da-4f70-8c24-b249c7645936",
   "metadata": {},
   "source": [
    "This contains some changes from train3.ipynb:\n",
    "* an accuracy metric has been implemented\n",
    "* one cycle learning rate schedule is being used\n",
    "* weight tying is disabled"
   ]
  },
  {
   "cell_type": "markdown",
   "id": "055e84e5-33f4-408f-8a1f-eccb869f813e",
   "metadata": {},
   "source": [
    "This contains some improvements from train4.ipynb: just that the attention module used uses pytorchs implementation for sdpa. This also uses a text generation function to display the capabilities of the trained model."
   ]
  },
  {
   "cell_type": "code",
   "execution_count": 1,
   "id": "7751102e-909c-4a2a-820a-bfad8a752ab5",
   "metadata": {},
   "outputs": [],
   "source": [
    "import socket"
   ]
  },
  {
   "cell_type": "code",
   "execution_count": 2,
   "id": "67f6070d-346d-4394-8346-a67481f4f7b0",
   "metadata": {},
   "outputs": [
    {
     "data": {
      "text/plain": [
       "'LAPTOP-V1QE676P'"
      ]
     },
     "execution_count": 2,
     "metadata": {},
     "output_type": "execute_result"
    }
   ],
   "source": [
    "socket.gethostname()"
   ]
  },
  {
   "cell_type": "code",
   "execution_count": 3,
   "id": "55ed6a11-1e99-444f-b4b2-7e54873f2d53",
   "metadata": {},
   "outputs": [],
   "source": [
    "GPT_CONFIG_30M = {\n",
    "    \"vocab_size\": 30002,\n",
    "    \"context_length\": 256,\n",
    "    \"emb_dim\": 512,\n",
    "    \"n_heads\": 4,\n",
    "    \"n_layers\": 4,\n",
    "    \"drop_rate\": 0.0,\n",
    "    \"qkv_bias\": False,\n",
    "    \"weight_tying\": True,\n",
    "    \"no_pos_emb\": True\n",
    "}"
   ]
  },
  {
   "cell_type": "code",
   "execution_count": 4,
   "id": "13c7e0f3-3ba2-4e90-8549-180e8390bf52",
   "metadata": {},
   "outputs": [],
   "source": [
    "GPT_CONFIG_60M = {\n",
    "    \"vocab_size\": 30002,\n",
    "    \"context_length\": 512,\n",
    "    \"emb_dim\": 512,\n",
    "    \"n_heads\": 8,\n",
    "    \"n_layers\": 8,\n",
    "    \"drop_rate\": 0.0,\n",
    "    \"qkv_bias\": False,\n",
    "    \"weight_tying\": False,\n",
    "    \"no_pos_emb\": True\n",
    "}"
   ]
  },
  {
   "cell_type": "code",
   "execution_count": 5,
   "id": "6bea6bd3-62db-4184-83e5-8284297f51f1",
   "metadata": {},
   "outputs": [],
   "source": [
    "import socket\n",
    "hostname = socket.gethostname().lower()\n",
    "if \"laptop\" in hostname:\n",
    "    GPT_CONFIG = GPT_CONFIG_30M\n",
    "else:\n",
    "    GPT_CONFIG = GPT_CONFIG_60M"
   ]
  },
  {
   "cell_type": "code",
   "execution_count": 6,
   "id": "59742e54-fcc7-49a2-b971-66d24cfcd605",
   "metadata": {},
   "outputs": [],
   "source": [
    "import torch.nn as nn\n",
    "import torch\n",
    "\n",
    "torch.set_float32_matmul_precision('medium')"
   ]
  },
  {
   "cell_type": "code",
   "execution_count": null,
   "id": "9641a1af-5cd5-4ea0-b10f-6f673dea2840",
   "metadata": {},
   "outputs": [],
   "source": []
  },
  {
   "cell_type": "code",
   "execution_count": 7,
   "id": "5a88551b-b45a-486d-ad49-c0b8e29f41d9",
   "metadata": {},
   "outputs": [],
   "source": [
    "trainer_config = {\n",
    "    \"dataset_scale\": 300,\n",
    "    \"batch_size\": 32 if \"laptop\" in hostname else 32,\n",
    "    \"epochs\": 1,\n",
    "    \"train_file_loc\": \"../data/TinyStories/TinyStoriesV2-GPT4-train.txt\",\n",
    "    \"valid_file_loc\": \"../data/TinyStories/TinyStoriesV2-GPT4-valid.txt\",\n",
    "    \"num_workers\": 11 if \"laptop\" in hostname else 23,\n",
    "    \"max_lr\": 1e-3\n",
    "}\n",
    "trainer_config[\"grad_batches\"] = 256 // trainer_config[\"batch_size\"]"
   ]
  },
  {
   "cell_type": "code",
   "execution_count": null,
   "id": "10c777bb-c339-47f8-a8d8-2ef7fe3cab6e",
   "metadata": {},
   "outputs": [],
   "source": []
  },
  {
   "cell_type": "code",
   "execution_count": 34,
   "id": "177bc581-d01c-4691-9e05-2b30b2738808",
   "metadata": {},
   "outputs": [],
   "source": [
    "from torch.optim.lr_scheduler import OneCycleLR\n",
    "from components.data import create_dataloader_v3\n",
    "import lightning as L\n",
    "\n",
    "class LitGPTModel(L.LightningModule):\n",
    "    def __init__(self, GPTModel, trainer_config, gpt_config):\n",
    "        super().__init__()\n",
    "        self.gpt_config = gpt_config\n",
    "        self.trainer_config = trainer_config\n",
    "        self.model = GPTModel\n",
    "\n",
    "        self.train_accuracy = []\n",
    "        self.val_accuracy = []\n",
    "        self.train_losses = []\n",
    "        self.val_losses = []\n",
    "        self.val_steps = []\n",
    "        self.learning_rates = []\n",
    "        self.batch_step = 0\n",
    "\n",
    "    def _accuracy(self, output, expected):\n",
    "        total_matching = (torch.argmax(output, dim=-1) == expected).sum().item()\n",
    "        total_numel = expected.numel()\n",
    "        return total_matching / total_numel\n",
    "\n",
    "    def training_step(self, batch, batch_idx):\n",
    "        self.batch_step += 1\n",
    "        x, y = batch\n",
    "        logits = self.model(x)\n",
    "\n",
    "        accuracy = self._accuracy(logits, y)\n",
    "        self.log(\"accuracy\", accuracy, prog_bar=True, on_step=True, on_epoch=True)\n",
    "        self.train_accuracy.append(accuracy)\n",
    "\n",
    "        loss = self.loss(logits, y)\n",
    "        self.log(\"loss\", loss, prog_bar=True, on_step=True, on_epoch=True)\n",
    "        self.train_losses.append(loss.item())\n",
    "\n",
    "        current_lr = self.optimizers().param_groups[0][\"lr\"]\n",
    "        self.learning_rates.append(current_lr)\n",
    "\n",
    "        return loss\n",
    "\n",
    "    def validation_step(self, batch, batch_idx):\n",
    "        self.val_steps.append(self.batch_step)\n",
    "        x, y = batch\n",
    "\n",
    "        logits = self.model(x)\n",
    "\n",
    "        accuracy = self._accuracy(logits, y)\n",
    "        self.log(\"val_accuracy\", accuracy, prog_bar=True, on_step=True, on_epoch=True)\n",
    "        self.val_accuracy.append(accuracy)\n",
    "\n",
    "        loss = self.loss(logits, y)\n",
    "        self.log(\"val_loss\", loss, prog_bar=True, on_step=True, on_epoch=True)\n",
    "        self.val_losses.append(loss.item())\n",
    "        \n",
    "        return loss\n",
    "\n",
    "    def loss(self, output, expected):\n",
    "        loss = nn.functional.cross_entropy(\n",
    "            output.flatten(0, 1), expected.flatten()\n",
    "        )\n",
    "        return loss\n",
    "\n",
    "    def configure_optimizers(self):\n",
    "        optimizer = torch.optim.AdamW(\n",
    "            self.parameters(), lr=self.trainer_config[\"max_lr\"], weight_decay=0.1\n",
    "        )\n",
    "\n",
    "        scheduler = OneCycleLR(\n",
    "            optimizer,\n",
    "            max_lr=self.trainer_config[\"max_lr\"],\n",
    "            total_steps=self.trainer.estimated_stepping_batches,\n",
    "        )\n",
    "        lr_scheduler_config = {\n",
    "            \"scheduler\": scheduler,\n",
    "            \"interval\": \"step\",\n",
    "            \"monitor\": \"loss\"\n",
    "        }\n",
    "\n",
    "        return {\n",
    "            \"optimizer\": optimizer,\n",
    "            \"lr_scheduler\": lr_scheduler_config\n",
    "        }\n",
    "\n",
    "    def setup(self, stage):\n",
    "        # todo, build model in this function\n",
    "        with open(self.trainer_config[\"train_file_loc\"], encoding=\"utf-8\") as f:\n",
    "            self.train_text = f.read()\n",
    "\n",
    "            text_len = len(self.train_text)\n",
    "            dataset_scale = self.trainer_config[\"dataset_scale\"]\n",
    "            self.train_text = self.train_text[:text_len // dataset_scale]\n",
    "\n",
    "        with open(self.trainer_config[\"valid_file_loc\"], encoding=\"utf-8\") as f:\n",
    "            self.valid_text = f.read()\n",
    "\n",
    "            train_len = len(self.train_text)\n",
    "            self.valid_text = self.valid_text[:train_len // 10]\n",
    "        \n",
    "    def _create_dataloader(self, text, train_loader):\n",
    "        return create_dataloader_v3(\n",
    "            text,\n",
    "            batch_size=self.trainer_config[\"batch_size\"],\n",
    "            max_length=self.gpt_config[\"context_length\"],\n",
    "            stride=self.gpt_config[\"context_length\"],\n",
    "            drop_last=train_loader,\n",
    "            shuffle=train_loader,\n",
    "            num_workers=self.trainer_config[\"num_workers\"]\n",
    "        )\n",
    "\n",
    "    def train_dataloader(self):\n",
    "        # consider setting self.train_text = None if memory consumption is an issue\n",
    "        train_loader = self._create_dataloader(\n",
    "            self.train_text,\n",
    "            train_loader=True\n",
    "        )\n",
    "        return train_loader\n",
    "\n",
    "    def val_dataloader(self):\n",
    "        return self._create_dataloader(\n",
    "            self.valid_text,\n",
    "            train_loader=False\n",
    "        )\n"
   ]
  },
  {
   "cell_type": "code",
   "execution_count": null,
   "id": "b995d95d-edd2-4a21-9e69-0361d5bf21b3",
   "metadata": {},
   "outputs": [],
   "source": []
  },
  {
   "cell_type": "code",
   "execution_count": 35,
   "id": "3af01d54-1a9d-484d-bd23-573bb249cb58",
   "metadata": {},
   "outputs": [],
   "source": [
    "from components.gptmodel import GPTModel_v2\n",
    "model = GPTModel_v2(GPT_CONFIG)\n",
    "litmodel = LitGPTModel(\n",
    "    model,\n",
    "    trainer_config,\n",
    "    GPT_CONFIG\n",
    ")"
   ]
  },
  {
   "cell_type": "code",
   "execution_count": 36,
   "id": "d9a8b447-2a4d-4eaf-aeef-fc98a417e7c1",
   "metadata": {},
   "outputs": [
    {
     "name": "stderr",
     "output_type": "stream",
     "text": [
      "You are using the plain ModelCheckpoint callback. Consider using LitModelCheckpoint which with seamless uploading to Model registry.\n",
      "GPU available: True (cuda), used: True\n",
      "TPU available: False, using: 0 TPU cores\n",
      "HPU available: False, using: 0 HPUs\n",
      "LOCAL_RANK: 0 - CUDA_VISIBLE_DEVICES: [0]\n",
      "Loading `train_dataloader` to estimate number of stepping batches.\n",
      "\n",
      "  | Name  | Type        | Params | Mode \n",
      "----------------------------------------------\n",
      "0 | model | GPTModel_v2 | 28.1 M | train\n",
      "----------------------------------------------\n",
      "28.1 M    Trainable params\n",
      "0         Non-trainable params\n",
      "28.1 M    Total params\n",
      "112.506   Total estimated model params size (MB)\n",
      "64        Modules in train mode\n",
      "0         Modules in eval mode\n"
     ]
    },
    {
     "data": {
      "application/vnd.jupyter.widget-view+json": {
       "model_id": "a52e4310e7ee40428d1d88ed1b75dfcd",
       "version_major": 2,
       "version_minor": 0
      },
      "text/plain": [
       "Sanity Checking: |                                                                             | 0/? [00:00<?,…"
      ]
     },
     "metadata": {},
     "output_type": "display_data"
    },
    {
     "data": {
      "application/vnd.jupyter.widget-view+json": {
       "model_id": "d2f9bc2032904f70a43c9c495f6258fb",
       "version_major": 2,
       "version_minor": 0
      },
      "text/plain": [
       "Training: |                                                                                    | 0/? [00:00<?,…"
      ]
     },
     "metadata": {},
     "output_type": "display_data"
    },
    {
     "data": {
      "application/vnd.jupyter.widget-view+json": {
       "model_id": "9bc8ba179dd7486a82b65fcc8cea6a17",
       "version_major": 2,
       "version_minor": 0
      },
      "text/plain": [
       "Validation: |                                                                                  | 0/? [00:00<?,…"
      ]
     },
     "metadata": {},
     "output_type": "display_data"
    },
    {
     "name": "stderr",
     "output_type": "stream",
     "text": [
      "`Trainer.fit` stopped: `max_epochs=1` reached.\n"
     ]
    },
    {
     "name": "stdout",
     "output_type": "stream",
     "text": [
      "CPU times: user 1min 52s, sys: 4.18 s, total: 1min 56s\n",
      "Wall time: 1min 57s\n"
     ]
    }
   ],
   "source": [
    "%%time\n",
    "\n",
    "trainer = L.Trainer(\n",
    "    max_epochs=trainer_config[\"epochs\"],\n",
    "    enable_progress_bar=True,\n",
    "    accumulate_grad_batches=trainer_config[\"grad_batches\"]\n",
    ")\n",
    "trainer.fit(model=litmodel)"
   ]
  },
  {
   "cell_type": "code",
   "execution_count": 37,
   "id": "d2a5eaef-72ed-4086-9f39-52de8fecda65",
   "metadata": {},
   "outputs": [
    {
     "data": {
      "image/png": "[encoded data removed]",
      "text/plain": [
       "<Figure size 1000x600 with 2 Axes>"
      ]
     },
     "metadata": {},
     "output_type": "display_data"
    }
   ],
   "source": [
    "import matplotlib.pyplot as plt\n",
    "\n",
    "fig, ax1 = plt.subplots(figsize=(10, 6))\n",
    "\n",
    "ax1.plot(litmodel.train_losses, label=\"Training Loss\", color=\"blue\")\n",
    "ax1.scatter(litmodel.val_steps, litmodel.val_losses, label=\"Validation Loss\", color=\"red\")\n",
    "ax1.set_xlabel(\"Training Step\")\n",
    "ax1.set_ylabel(\"Loss\")\n",
    "ax1.legend(loc=\"upper left\")\n",
    "\n",
    "ax2 = ax1.twinx()\n",
    "ax2.plot(litmodel.learning_rates, label=\"Learning Rate\", color=\"green\")\n",
    "ax2.set_ylabel(\"Learning Rate\")\n",
    "ax2.legend(loc=\"upper right\")\n",
    "\n",
    "plt.title(\"Training/Validation Loss and Learning Rate\")\n",
    "plt.tight_layout()\n",
    "plt.grid(True)\n",
    "plt.show()"
   ]
  },
  {
   "cell_type": "code",
   "execution_count": 38,
   "id": "12848dbc-0678-43d4-a13b-12ce7be0a4a7",
   "metadata": {},
   "outputs": [
    {
     "data": {
      "image/png": "[encoded data removed]",
      "text/plain": [
       "<Figure size 1000x600 with 1 Axes>"
      ]
     },
     "metadata": {},
     "output_type": "display_data"
    }
   ],
   "source": [
    "plt.figure(figsize=(10, 6))\n",
    "plt.plot(litmodel.train_accuracy, color=\"blue\")\n",
    "plt.scatter(litmodel.val_steps, litmodel.val_accuracy, color=\"red\")\n",
    "plt.xlabel(\"Training Step\")\n",
    "plt.ylabel(\"Accuracy\")\n",
    "plt.grid(True)\n",
    "plt.ylim(0, 1)\n",
    "plt.show()"
   ]
  },
  {
   "cell_type": "code",
   "execution_count": null,
   "id": "4e1c344a-57df-4d89-9369-b177fb873022",
   "metadata": {},
   "outputs": [],
   "source": []
  },
  {
   "cell_type": "code",
   "execution_count": null,
   "id": "a9dd0a0a-0864-4340-83e0-906c65ea6a71",
   "metadata": {},
   "outputs": [],
   "source": []
  },
  {
   "cell_type": "code",
   "execution_count": 13,
   "id": "687d2c30-2a2c-480c-b2c9-568372d957d0",
   "metadata": {},
   "outputs": [],
   "source": [
    "from tokenizers import Tokenizer"
   ]
  },
  {
   "cell_type": "code",
   "execution_count": 14,
   "id": "47a312c6-dfc5-4a71-9599-67384fa7375e",
   "metadata": {},
   "outputs": [],
   "source": [
    "tokenizer = Tokenizer.from_file(\"./TinyStories_tokenizer.json\")"
   ]
  },
  {
   "cell_type": "code",
   "execution_count": 15,
   "id": "6cdae804-8fc1-4e23-b02f-ef2afa908114",
   "metadata": {},
   "outputs": [],
   "source": [
    "from tokenizers import decoders\n",
    "tokenizer.decoder = decoders.WordPiece()"
   ]
  },
  {
   "cell_type": "code",
   "execution_count": 16,
   "id": "16bee019-4f49-486f-a0eb-de85fb46de5e",
   "metadata": {},
   "outputs": [],
   "source": [
    "from components.generatetext import generate_text"
   ]
  },
  {
   "cell_type": "code",
   "execution_count": null,
   "id": "00ee44a9-13ed-474b-ae31-363895177b59",
   "metadata": {},
   "outputs": [],
   "source": []
  },
  {
   "cell_type": "code",
   "execution_count": 17,
   "id": "9e03bec4-4b3d-4c44-96fa-79ce95b73979",
   "metadata": {
    "scrolled": true
   },
   "outputs": [
    {
     "data": {
      "text/plain": [
       "GPTModel_v2(\n",
       "  (tok_emb): Embedding(30002, 512)\n",
       "  (pos_emb): Embedding(256, 512)\n",
       "  (drop_emb): Dropout(p=0.0, inplace=False)\n",
       "  (trf_blocks): Sequential(\n",
       "    (0): TransformerBlock_v2(\n",
       "      (att): MultiHeadAttention_v2(\n",
       "        (W_query): Linear(in_features=512, out_features=512, bias=False)\n",
       "        (W_key): Linear(in_features=512, out_features=512, bias=False)\n",
       "        (W_value): Linear(in_features=512, out_features=512, bias=False)\n",
       "        (out_proj): Linear(in_features=512, out_features=512, bias=True)\n",
       "      )\n",
       "      (ff): FeedForward(\n",
       "        (layers): Sequential(\n",
       "          (0): Linear(in_features=512, out_features=2048, bias=True)\n",
       "          (1): GELU(approximate='none')\n",
       "          (2): Linear(in_features=2048, out_features=512, bias=True)\n",
       "        )\n",
       "      )\n",
       "      (norm1): LayerNorm((512,), eps=1e-05, elementwise_affine=True)\n",
       "      (norm2): LayerNorm((512,), eps=1e-05, elementwise_affine=True)\n",
       "      (drop_shortcut): Dropout(p=0.0, inplace=False)\n",
       "    )\n",
       "    (1): TransformerBlock_v2(\n",
       "      (att): MultiHeadAttention_v2(\n",
       "        (W_query): Linear(in_features=512, out_features=512, bias=False)\n",
       "        (W_key): Linear(in_features=512, out_features=512, bias=False)\n",
       "        (W_value): Linear(in_features=512, out_features=512, bias=False)\n",
       "        (out_proj): Linear(in_features=512, out_features=512, bias=True)\n",
       "      )\n",
       "      (ff): FeedForward(\n",
       "        (layers): Sequential(\n",
       "          (0): Linear(in_features=512, out_features=2048, bias=True)\n",
       "          (1): GELU(approximate='none')\n",
       "          (2): Linear(in_features=2048, out_features=512, bias=True)\n",
       "        )\n",
       "      )\n",
       "      (norm1): LayerNorm((512,), eps=1e-05, elementwise_affine=True)\n",
       "      (norm2): LayerNorm((512,), eps=1e-05, elementwise_affine=True)\n",
       "      (drop_shortcut): Dropout(p=0.0, inplace=False)\n",
       "    )\n",
       "    (2): TransformerBlock_v2(\n",
       "      (att): MultiHeadAttention_v2(\n",
       "        (W_query): Linear(in_features=512, out_features=512, bias=False)\n",
       "        (W_key): Linear(in_features=512, out_features=512, bias=False)\n",
       "        (W_value): Linear(in_features=512, out_features=512, bias=False)\n",
       "        (out_proj): Linear(in_features=512, out_features=512, bias=True)\n",
       "      )\n",
       "      (ff): FeedForward(\n",
       "        (layers): Sequential(\n",
       "          (0): Linear(in_features=512, out_features=2048, bias=True)\n",
       "          (1): GELU(approximate='none')\n",
       "          (2): Linear(in_features=2048, out_features=512, bias=True)\n",
       "        )\n",
       "      )\n",
       "      (norm1): LayerNorm((512,), eps=1e-05, elementwise_affine=True)\n",
       "      (norm2): LayerNorm((512,), eps=1e-05, elementwise_affine=True)\n",
       "      (drop_shortcut): Dropout(p=0.0, inplace=False)\n",
       "    )\n",
       "    (3): TransformerBlock_v2(\n",
       "      (att): MultiHeadAttention_v2(\n",
       "        (W_query): Linear(in_features=512, out_features=512, bias=False)\n",
       "        (W_key): Linear(in_features=512, out_features=512, bias=False)\n",
       "        (W_value): Linear(in_features=512, out_features=512, bias=False)\n",
       "        (out_proj): Linear(in_features=512, out_features=512, bias=True)\n",
       "      )\n",
       "      (ff): FeedForward(\n",
       "        (layers): Sequential(\n",
       "          (0): Linear(in_features=512, out_features=2048, bias=True)\n",
       "          (1): GELU(approximate='none')\n",
       "          (2): Linear(in_features=2048, out_features=512, bias=True)\n",
       "        )\n",
       "      )\n",
       "      (norm1): LayerNorm((512,), eps=1e-05, elementwise_affine=True)\n",
       "      (norm2): LayerNorm((512,), eps=1e-05, elementwise_affine=True)\n",
       "      (drop_shortcut): Dropout(p=0.0, inplace=False)\n",
       "    )\n",
       "  )\n",
       "  (final_norm): LayerNorm((512,), eps=1e-05, elementwise_affine=True)\n",
       "  (out_head): Linear(in_features=512, out_features=30002, bias=True)\n",
       "  (seq_layers): Sequential(\n",
       "    (0): Dropout(p=0.0, inplace=False)\n",
       "    (1): Sequential(\n",
       "      (0): TransformerBlock_v2(\n",
       "        (att): MultiHeadAttention_v2(\n",
       "          (W_query): Linear(in_features=512, out_features=512, bias=False)\n",
       "          (W_key): Linear(in_features=512, out_features=512, bias=False)\n",
       "          (W_value): Linear(in_features=512, out_features=512, bias=False)\n",
       "          (out_proj): Linear(in_features=512, out_features=512, bias=True)\n",
       "        )\n",
       "        (ff): FeedForward(\n",
       "          (layers): Sequential(\n",
       "            (0): Linear(in_features=512, out_features=2048, bias=True)\n",
       "            (1): GELU(approximate='none')\n",
       "            (2): Linear(in_features=2048, out_features=512, bias=True)\n",
       "          )\n",
       "        )\n",
       "        (norm1): LayerNorm((512,), eps=1e-05, elementwise_affine=True)\n",
       "        (norm2): LayerNorm((512,), eps=1e-05, elementwise_affine=True)\n",
       "        (drop_shortcut): Dropout(p=0.0, inplace=False)\n",
       "      )\n",
       "      (1): TransformerBlock_v2(\n",
       "        (att): MultiHeadAttention_v2(\n",
       "          (W_query): Linear(in_features=512, out_features=512, bias=False)\n",
       "          (W_key): Linear(in_features=512, out_features=512, bias=False)\n",
       "          (W_value): Linear(in_features=512, out_features=512, bias=False)\n",
       "          (out_proj): Linear(in_features=512, out_features=512, bias=True)\n",
       "        )\n",
       "        (ff): FeedForward(\n",
       "          (layers): Sequential(\n",
       "            (0): Linear(in_features=512, out_features=2048, bias=True)\n",
       "            (1): GELU(approximate='none')\n",
       "            (2): Linear(in_features=2048, out_features=512, bias=True)\n",
       "          )\n",
       "        )\n",
       "        (norm1): LayerNorm((512,), eps=1e-05, elementwise_affine=True)\n",
       "        (norm2): LayerNorm((512,), eps=1e-05, elementwise_affine=True)\n",
       "        (drop_shortcut): Dropout(p=0.0, inplace=False)\n",
       "      )\n",
       "      (2): TransformerBlock_v2(\n",
       "        (att): MultiHeadAttention_v2(\n",
       "          (W_query): Linear(in_features=512, out_features=512, bias=False)\n",
       "          (W_key): Linear(in_features=512, out_features=512, bias=False)\n",
       "          (W_value): Linear(in_features=512, out_features=512, bias=False)\n",
       "          (out_proj): Linear(in_features=512, out_features=512, bias=True)\n",
       "        )\n",
       "        (ff): FeedForward(\n",
       "          (layers): Sequential(\n",
       "            (0): Linear(in_features=512, out_features=2048, bias=True)\n",
       "            (1): GELU(approximate='none')\n",
       "            (2): Linear(in_features=2048, out_features=512, bias=True)\n",
       "          )\n",
       "        )\n",
       "        (norm1): LayerNorm((512,), eps=1e-05, elementwise_affine=True)\n",
       "        (norm2): LayerNorm((512,), eps=1e-05, elementwise_affine=True)\n",
       "        (drop_shortcut): Dropout(p=0.0, inplace=False)\n",
       "      )\n",
       "      (3): TransformerBlock_v2(\n",
       "        (att): MultiHeadAttention_v2(\n",
       "          (W_query): Linear(in_features=512, out_features=512, bias=False)\n",
       "          (W_key): Linear(in_features=512, out_features=512, bias=False)\n",
       "          (W_value): Linear(in_features=512, out_features=512, bias=False)\n",
       "          (out_proj): Linear(in_features=512, out_features=512, bias=True)\n",
       "        )\n",
       "        (ff): FeedForward(\n",
       "          (layers): Sequential(\n",
       "            (0): Linear(in_features=512, out_features=2048, bias=True)\n",
       "            (1): GELU(approximate='none')\n",
       "            (2): Linear(in_features=2048, out_features=512, bias=True)\n",
       "          )\n",
       "        )\n",
       "        (norm1): LayerNorm((512,), eps=1e-05, elementwise_affine=True)\n",
       "        (norm2): LayerNorm((512,), eps=1e-05, elementwise_affine=True)\n",
       "        (drop_shortcut): Dropout(p=0.0, inplace=False)\n",
       "      )\n",
       "    )\n",
       "    (2): LayerNorm((512,), eps=1e-05, elementwise_affine=True)\n",
       "    (3): Linear(in_features=512, out_features=30002, bias=True)\n",
       "  )\n",
       ")"
      ]
     },
     "execution_count": 17,
     "metadata": {},
     "output_type": "execute_result"
    }
   ],
   "source": [
    "device = torch.device(\"cuda\" if torch.cuda.is_available() else \"cpu\")\n",
    "litmodel.model.to(device)"
   ]
  },
  {
   "cell_type": "code",
   "execution_count": null,
   "id": "c238ebca-b2d2-45c5-bef5-053ceab0b528",
   "metadata": {},
   "outputs": [],
   "source": []
  },
  {
   "cell_type": "code",
   "execution_count": 18,
   "id": "e7a97d30-3c74-4192-9408-09b684fa9753",
   "metadata": {
    "scrolled": true
   },
   "outputs": [
    {
     "name": "stdout",
     "output_type": "stream",
     "text": [
      "text:  Tom and Jane are friends. One day, Jane goes to Tom ’ s house. Tom has a big pot of soup. He wants to share it with Jane. “ Jane, do you want some soup?” Tom asks. “ Yes, please. It looks yummy,” Jane says. Tom pours some soup into two bowls. He gives one bowl to Jane. Jane takes a spoonful of soup, but then she makes a face. The soup is is is is is wobbly wobbly bib bib bib bib Haha Haha mouse Matches alleyway alleyway Creamy Creamy Creamy Creamy Creamy Creamy Creamy Creamy demean demean demean wonder wonder wonder adding adding adding adding adding Spark Spark Spark Spark Spark Spark adding adding adding adding wonder?',?',?',?',?',?',?', wonder wonder wonder wonder wonder wonder wonder?', savoring Vet clubhouse clubhouse clubhouse clubhouse clubhouse clubhouse clubhouse clubhouse miraculously miraculously ê ê ê miraculously miraculously miraculously miraculously clubhouse fashioned fashioned fashioned fashioned fashioned fashioned turquoise Eskimos Eskimos Eskimos Eskimos Eskimos boldness diapers diapers shuffling shuffling shuffling shuffling imagine imagine imagine Squar handshake handshake Nino Nino bossiness bossiness patience patience patience patience patience patience patience patience strolled Lotus Lotus Lotus combed combed combed combed combed combed couch couch couch couch couch incible dama dama dama dama entries dama entries dama dama lap Hesitantly Hesitantly Hesitantly Hesitantly Hesitantly lap lap lap lap Hesitantly Hesitantly lap Hesitantly Hesitantly Hesitantly Hesitantly Hesitantly Hesitantly Hesitantly Hesitantly lap lap Hesitantly Hesitantly Hesitantly Hesitantly Hesitantly Hesitantly Hesitantly Hesitantly Hesitantly Hesitantly Hesitantly revealed zag zag zag zag zag zag zag zag zag zag zag zag alie alie alie alie toddlers fold footing footing footing count count count count count count count count count count count count count count count count count our our ú ú ú our our our our our our Make Make Make Make Make Make Make Make Make Make Make Liberty lumberjack lumberjack lumberjack lumberjack lumberjack inte lumberjack lumberjack lumberjack lumberjack consist consist consist Swirl rang rang emergen emergen \"! wren wren wren wren ishing ishing ishing ishing ishing ishing key key key key uel uel uel uel uel chases chases chases chases chases chases Telling Telling Telling Telling Telling Telling Telling Telling belong belong belong belong belong belong Telling Telling Telling Telling Telling impuls impuls hust hust hust hust hust hust hust hust hust api api saltwater saltwater NOT manage nies bellies bellies squeaks squeaks squeaks squeaks squeaks Sean smilingly Francis Francis Francis Francis Francis Francis Francis Francis Francis Francis Francis Francis Francis Francis Francis Francis Francis Francis Francis Francis smilingly smilingly Snoop Snoop Snoop uced uced uced uced uced uced uced Snoop Snoop Snoop listening listening listening listening listening listening Enny Enny Enny plings plings plings plings plings plings plings chomp chomp chomp chomp chomp chomp chomp sugary scree scree scree scree scree scree scree scree scree scree scree scree scree scree scree ly groans rabbits rabbits rabbits rabbits rabbits groans groans groans rabbits Scarlet pinwheel lessen lessen lessen Rhona gency gency gency\n",
      "CPU times: user 3.9 s, sys: 212 ms, total: 4.11 s\n",
      "Wall time: 4.32 s\n"
     ]
    }
   ],
   "source": [
    "%%time\n",
    "litmodel.eval()\n",
    "starting_text = \"Tom and Jane are friends. One day, Jane goes to Tom’s house. Tom has a big pot of soup. He wants to share it with Jane. “Jane, do you want some soup?” Tom asks. “Yes, please. It looks yummy,” Jane says. Tom pours some soup into two bowls. He gives one bowl to Jane. Jane takes a spoonful of soup, but then she makes a face. The soup is\"\n",
    "text = generate_text(litmodel.model, tokenizer, starting_text, 512, device, topk=3, temperature=1)\n",
    "print(\"text: \", text)"
   ]
  },
  {
   "cell_type": "code",
   "execution_count": 19,
   "id": "ac9c0ad9-71fe-4330-871a-754e90bc3f23",
   "metadata": {
    "scrolled": true
   },
   "outputs": [
    {
     "name": "stdout",
     "output_type": "stream",
     "text": [
      "text:  Tom and Jane are friends. One day, Jane goes to Tom ’ s house. Tom has a big pot of soup. He wants to share it with Jane. “ Jane, do you want some soup?” Tom asks. “ Yes, please. It looks yummy,” Jane says. Tom pours some soup into two bowls. He gives one bowl to Jane. Jane takes a spoonful of soup, but then she makes a face. The soup is is is Shiney Shiney cere Aar resent resent colle Cinderella Cinderella Cinderella Cinderella Cinderella zig zig needing cheddar vul diction diction diction diction diction diction impact impact impact impact impact impact things things things things things things things things pecked pecked pecked pecked pecked pecked things things things things things things things things things pecked things pecked pecked things pecked pecked greatness greatness greatness greatness greatness greatness Frame Frame Frame Frame strike strike strike Frame Frame ult ult ult ult Nicki lica athlet athlet athlet athlet athlet athlet athlet guides sunbathe sunbathe sunbathe swoosh swoosh swoosh swoosh swoosh sunbathe mor mor mor retraced retraced retraced retraced retraced retraced retraced quills Forky Speck Speck Speck Speck stitching stitching Monci Locked Locked Locked freshly freshly freshly Stewy Stewy rabbing rabbing steed steed steed steed steed steed steed steed Jazzy lollies Jazzy Jazzy Jazzy steed venir affection affection affection reserve reserve Cass Cass Cass Cass roasted roasted roasted roasted roasted rip rip rip rip rip daydream daydream daydream high high high high Piece Lassa Lassa Lassa Lassa Lassa creations creations creations Private Private Strangers Strangers Strangers Strangers Strangers payoff payoff payoff payoff payoff payoff alism alism alism payoff payoff payoff shriveled shriveled shriveled shriveled shriveled shriveled shriveled shriveled shriveled shriveled shriveled shriveled shriveled ako ako statement statement nor trashcan masterpiece masterpiece masterpiece colorfully colorfully anest pulse annoys pulse pulse pulse cleare cleare curiously curiously curiously curiously curiously curiously curiously curiously curiously curiously curiously cheapest cheapest cheapest cheapest Signing Make Liberty lumberjack inte inte inte inte resolution inte inte inte inte inte inte resolution resolution resolution resolution antsy sitive blot blot blot polish carn carn carn pepper pepper pepper pepper pepper pepper wilting wilting wilting wilting sting upl upl Spark Spark Spark xedo xedo xedo xedo xedo xedo xedo xedo Ever Ever Ever Ever licop licop licop licop licop Ever Ever Ever Ever Ever Ever Ever licop licop licop licop licop licop licop licop licop licop licop licop Floor Floor Floor Floor Floor licop licop licop licop licop licop Floor respect respect respect respect respect Floor Floor Floor respect respect respect respect Floor Floor respect respect respect Floor Floor licop licop Floor licop licop licop licop Floor Floor Floor licop licop licop licop Ever Ever Ever Ever Ever Ever xedo xedo xedo xedo xedo xedo xedo Spark Spark Spark Spark Spark Spark xedo xedo xedo Ever Ever Ever Ever xedo xedo xedo xedo xedo xedo xedo Spark xedo xedo xedo xedo Spark xedo xedo xedo xedo xedo xedo xedo xedo Spark xedo xedo Spark adding adding adding\n",
      "CPU times: user 3.64 s, sys: 99.3 ms, total: 3.74 s\n",
      "Wall time: 3.75 s\n"
     ]
    }
   ],
   "source": [
    "%%time\n",
    "litmodel.eval()\n",
    "starting_text = \"Tom and Jane are friends. One day, Jane goes to Tom’s house. Tom has a big pot of soup. He wants to share it with Jane. “Jane, do you want some soup?” Tom asks. “Yes, please. It looks yummy,” Jane says. Tom pours some soup into two bowls. He gives one bowl to Jane. Jane takes a spoonful of soup, but then she makes a face. The soup is\"\n",
    "text = generate_text(litmodel.model, tokenizer, starting_text, 512, device, topk=3, temperature=1)\n",
    "print(\"text: \", text)"
   ]
  },
  {
   "cell_type": "code",
   "execution_count": 20,
   "id": "574fe07f-981d-4a6c-a8c0-0bd27b2c4014",
   "metadata": {
    "scrolled": true
   },
   "outputs": [
    {
     "name": "stdout",
     "output_type": "stream",
     "text": [
      "text:  Tom and Jane are friends. One day, Jane goes to Tom ’ s house. Tom has a big pot of soup. He wants to share it with Jane. “ Jane, do you want some soup?” Tom asks. “ Yes, please. It looks yummy,” Jane says. Tom pours some soup into two bowls. He gives one bowl to Jane. Jane takes a spoonful of soup, but then she makes a face. The soup is is is is is is is is is is is is is is is is is is piece ripping ripping ripping ripping ripping ripping ripping Anty Anty Anty Anty Anty Mishu Mishu playdates playdates playdates playdates playdates playdates playdates playdates Mom Mom Mom Mom FooFoo FooFoo FooFoo FooFoo FooFoo FooFoo Papaya Papaya Gemma Gemma clanked tuss tuss tuss tuss tuss tuss tuss tuss Respec Respec Respec tuss tuss tuss tuss tuss tuss Hig Hig Hig delicous fring fring Thermie soups soups soups soups soups soups soups soups soups soups soups soups soups soups beverages beverages beverages beverages beverages beverages beverages beverages beverages beverages beverages abruptly abruptly abruptly abruptly abruptly abruptly abruptly abruptly abruptly abruptly abruptly abruptly abruptly common common common common common common common common common Raising amidst amidst amidst amidst Raising Raising Raising Raising Raising delays Tenty Tenty delays delays Tenty delays delays delays delays Raising Raising Raising amidst amidst amidst amidst amidst amidst amidst amidst Maker Maker Maker Maker mines mines Strawberries lliest lliest Strawberries microwave microwave microwave microwave microwave microwave microwave realm realm realm bab bab bab bab bab bab bab bab bab bab bab bab hills hills hills hills hills hills raindrops raindrops raindrops raindrops raindrops Floating Floating tester tester tester tester tester tester tester tester tester tester tester Floating Floating Floating Floating Floating Floating Floating Floating Floating Floating tester Floating Floating replant replant replant replant replant replant replant replant fran Sad grandad grandad grandad splintered familiar familiar familiar familiar ouded ouded ouded ouded ouded ouded ouded familiar familiar Marriage survivors survivors survivors survivors survivors Marriage Marriage Marriage Marriage Marriage Marriage survivors Marriage Marriage Marriage survivors survivors survivors Ladder worlds Ladder worlds worlds worlds worlds worlds worlds worlds worlds worlds Ladder Ladder Ladder Ladder survivors Marriage Marriage Marriage Marriage Marriage Marriage Marriage Marriage Marriage Marriage Marriage Marriage Marriage Marriage familiar familiar familiar familiar Marriage Marriage Marriage Marriage Marriage Marriage Marriage Marriage Marriage Marriage familiar familiar familiar familiar familiar familiar familiar ouded ouded ouded foggy foggy foggy foggy foggy foggy notep notep exploring notep notep notep notep exploring exploring notep notep notep notep ctors ctors ctors ctors ctors ctors casserole casserole casserole sucked Wom Wom Wom Wom Wom Wom Wom Wom Wom Wom Wom Wom Wom Wom provides provides hed hed hed hed provides provides provides jade jade jade jade jade jade jade Tutor Lo Dudley Dudley Dudley Dudley Dudley Dudley Dudley Dudley Dudley Dudley Dudley Dudley Dudley Dudley Dudley Dudley Dudley Dudley Lo Lo Lo Lo Lo Lo Lo Lo Lo Lo Lo Dudley Lo Nicki Nicki Nicki Nicki\n",
      "CPU times: user 3.69 s, sys: 108 ms, total: 3.8 s\n",
      "Wall time: 3.81 s\n"
     ]
    }
   ],
   "source": [
    "%%time\n",
    "litmodel.eval()\n",
    "starting_text = \"Tom and Jane are friends. One day, Jane goes to Tom’s house. Tom has a big pot of soup. He wants to share it with Jane. “Jane, do you want some soup?” Tom asks. “Yes, please. It looks yummy,” Jane says. Tom pours some soup into two bowls. He gives one bowl to Jane. Jane takes a spoonful of soup, but then she makes a face. The soup is\"\n",
    "text = generate_text(litmodel.model, tokenizer, starting_text, 512, device, topk=3, temperature=1)\n",
    "print(\"text: \", text)"
   ]
  },
  {
   "cell_type": "code",
   "execution_count": 21,
   "id": "7ad7083a-63f2-4da5-abad-a9acd3f94414",
   "metadata": {
    "scrolled": true
   },
   "outputs": [
    {
     "name": "stdout",
     "output_type": "stream",
     "text": [
      "text:  Tom and Jane are friends. One day, Jane goes to Tom ’ s house. Tom has a big pot of soup. He wants to share it with Jane. “ Jane, do you want some soup?” Tom asks. “ Yes, please. It looks yummy,” Jane says. Tom pours some soup into two bowls. He gives one bowl to Jane. Jane takes a spoonful of soup, but then she makes a face. The soup is is is Shiney Shiney Shiney Shiney cere cere Aar Aar resent resent resent Truckie Truckie Truckie Truckie Truckie Truckie Truckie Truckie Truckie Truckie Truckie Truckie ugly ugly ugly ugly ugly ugly ugly Pandy Pandy Pandy ugly peer peer peer peer peer peer ars ars Score Score Grr Grr chord chord chord chord chord chances chances chances chances chances chances chances Scooby Scooby Rip Rip Rip FUN Birdie Birdie Birdie Birdie Birdie Snowflake etc etc etc Timi Timi prying chanic cobs Jupiter cobs cobs cobs cobs raine detail detail detail detail detail detail detail detail detail detail detail detail detail detail detail detail detail detail detail detail detail detail detail detail detail Anton Anton Anton Anton detail detail detail detail detail detail detail detail patient mewed mewed Makeup Makeup Makeup Makeup Makeup Makeup Elliot Elliot Elliot Elliot Elliot Elliot Elliot Elliot Makeup Makeup Makeup Makeup Makeup bug defiant defiant defiant ped defiant defiant attics attics Douggie Douggie roof roof announcer Pippi Pippi Pippi Pippi gown colm colm colm colm gown gown colm colm colm gown bbies imagine Rocco Rocco Rocco lean Mozzy Mozzy Mozzy lacked shampoos lacked cave cave cave lacked shampoos shampoos lacked shampoos shampoos pranced Woodruff dotted Leigh Leigh Leigh Leigh Leigh Leigh Leigh Leigh Leigh swish works works works works works sorcere screams groans groans 24 24 24 24 24 suffers suffers suffers beckoning beckoning beckoning beckoning Dark Dark Dark Dark Dark safaris throats morse throats throats throats morse morse morse morse morse morse throats throats throats throats morse morse morse throats throats throats safaris throats throats throats morse morse morse morse althy lip lip althy lip raindrop raindrop raindrop raindrop raindrop lip lip lip lip lip lip lip althy althy althy Reply Reply Reply Reply Reply Reply Reply Reply Reply althy lip Sport Sport wily knit knit stat stat greenery greenery greenery greenery greenery Gir Gir Mom FooFoo FooFoo FooFoo FooFoo FooFoo FooFoo FooFoo FooFoo FooFoo FooFoo FooFoo FooFoo FooFoo Marm Printer Marm Fiffy Fiffy Fiffy Fiffy Strongy Strongy Kitchen Kitchen antiques antiques SPLAT SPLAT SPLAT SPLAT SPLAT SPLAT SPLAT SPLAT SPLAT SPLAT SPLAT SPLAT owed owed owed grass grass grass grass grass grass Pssss Pssss Pssss Pssss Pssss Pssss Pssss igzag igzag igzag igzag igzag igzag igzag Pssss Pssss Pssss Pssss Pssss igzag igzag Pssss Pssss Glenda Glenda Glenda Glenda Glenda Glenda Glenda Glenda Glenda Glenda Glenda Glenda Glenda Glenda Glenda Shouldn Shouldn Shouldn Shouldn Una Shouldn Una lessons lessons lessons Midi Midi – fragrant fragrant fragrant fragrant fragrant fragrant – fragrant fragrant fragrant – – – – –\n",
      "CPU times: user 3.72 s, sys: 89.8 ms, total: 3.81 s\n",
      "Wall time: 3.83 s\n"
     ]
    }
   ],
   "source": [
    "%%time\n",
    "litmodel.eval()\n",
    "starting_text = \"Tom and Jane are friends. One day, Jane goes to Tom’s house. Tom has a big pot of soup. He wants to share it with Jane. “Jane, do you want some soup?” Tom asks. “Yes, please. It looks yummy,” Jane says. Tom pours some soup into two bowls. He gives one bowl to Jane. Jane takes a spoonful of soup, but then she makes a face. The soup is\"\n",
    "text = generate_text(litmodel.model, tokenizer, starting_text, 512, device, topk=3, temperature=1)\n",
    "print(\"text: \", text)"
   ]
  },
  {
   "cell_type": "code",
   "execution_count": null,
   "id": "e300f101-ae6b-404b-bb31-5cba114fd537",
   "metadata": {},
   "outputs": [],
   "source": []
  }
 ],
 "metadata": {
  "kernelspec": {
   "display_name": "Python 3 (ipykernel)",
   "language": "python",
   "name": "python3"
  },
  "language_info": {
   "codemirror_mode": {
    "name": "ipython",
    "version": 3
   },
   "file_extension": ".py",
   "mimetype": "text/x-python",
   "name": "python",
   "nbconvert_exporter": "python",
   "pygments_lexer": "ipython3",
   "version": "3.12.9"
  }
 },
 "nbformat": 4,
 "nbformat_minor": 5
}
