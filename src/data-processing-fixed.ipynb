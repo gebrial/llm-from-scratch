{
 "cells": [
  {
   "cell_type": "markdown",
   "id": "ad0cf107",
   "metadata": {},
   "source": [
    "this script processes text data into huggingface datasets and saves that to the disk.\n",
    "\n",
    "this script fixes the issue where hf dataset would split on paragraphs instead of whole stories. this script also loads the dataset directly from huggingface"
   ]
  },
  {
   "cell_type": "code",
   "execution_count": 1,
   "id": "a694d667",
   "metadata": {},
   "outputs": [
    {
     "name": "stdout",
     "output_type": "stream",
     "text": [
      "[0]\n"
     ]
    }
   ],
   "source": [
    "from tokenizers import Tokenizer\n",
    "\n",
    "# Load your tokenizer\n",
    "tokenizer = Tokenizer.from_file(\"./TinyStories_tokenizer_small_cleaned.json\")\n",
    "\n",
    "endoftext_token = tokenizer.encode(\"<|endoftext|>\").ids  # This is the end of text token\n",
    "print(endoftext_token)\n"
   ]
  },
  {
   "cell_type": "code",
   "execution_count": 2,
   "id": "51ae8e8f",
   "metadata": {},
   "outputs": [
    {
     "name": "stderr",
     "output_type": "stream",
     "text": [
      "/home/gebrial/miniforge3/lib/python3.12/site-packages/tqdm/auto.py:21: TqdmWarning: IProgress not found. Please update jupyter and ipywidgets. See https://ipywidgets.readthedocs.io/en/stable/user_install.html\n",
      "  from .autonotebook import tqdm as notebook_tqdm\n"
     ]
    }
   ],
   "source": [
    "from datasets import load_dataset_builder\n",
    "\n",
    "# Load dataset\n",
    "dataset_builder = load_dataset_builder(\"roneneldan/TinyStories\")\n"
   ]
  },
  {
   "cell_type": "code",
   "execution_count": 2,
   "id": "1a0320f1",
   "metadata": {},
   "outputs": [
    {
     "name": "stderr",
     "output_type": "stream",
     "text": [
      "/home/gebrial/miniforge3/lib/python3.12/site-packages/tqdm/auto.py:21: TqdmWarning: IProgress not found. Please update jupyter and ipywidgets. See https://ipywidgets.readthedocs.io/en/stable/user_install.html\n",
      "  from .autonotebook import tqdm as notebook_tqdm\n"
     ]
    }
   ],
   "source": [
    "from datasets import load_dataset\n",
    "\n",
    "# load and split dataset into train and validation\n",
    "dataset = load_dataset(\"roneneldan/TinyStories\")"
   ]
  },
  {
   "cell_type": "code",
   "execution_count": 3,
   "id": "274463f2",
   "metadata": {},
   "outputs": [
    {
     "data": {
      "text/plain": [
       "{'train': 140, 'validation': 0}"
      ]
     },
     "execution_count": 3,
     "metadata": {},
     "output_type": "execute_result"
    }
   ],
   "source": [
    "dataset.cleanup_cache_files()"
   ]
  },
  {
   "cell_type": "code",
   "execution_count": 4,
   "id": "c9d14549",
   "metadata": {},
   "outputs": [
    {
     "name": "stderr",
     "output_type": "stream",
     "text": [
      "Map (num_proc=23): 100%|██████████| 2119719/2119719 [00:40<00:00, 51923.51 examples/s]\n",
      "Map (num_proc=23): 100%|██████████| 21990/21990 [00:00<00:00, 39893.31 examples/s]\n"
     ]
    }
   ],
   "source": [
    "def tokenize_function(examples):\n",
    "    # Tokenize the batch\n",
    "    encodings = tokenizer.encode_batch_fast(examples[\"text\"])\n",
    "    \n",
    "    # Convert to dictionary format\n",
    "    return {\n",
    "        \"input_ids\": [encoding.ids + endoftext_token for encoding in encodings],\n",
    "    }\n",
    "\n",
    "# Tokenize the dataset\n",
    "dataset = dataset.map(\n",
    "    tokenize_function,\n",
    "    batched=True,\n",
    "    remove_columns=[\"text\"],\n",
    "    num_proc=23\n",
    ")"
   ]
  },
  {
   "cell_type": "code",
   "execution_count": 5,
   "id": "1f2a1e23",
   "metadata": {},
   "outputs": [
    {
     "name": "stdout",
     "output_type": "stream",
     "text": [
      "Dataset size: 21990\n",
      "mean length: 218.36330150068213\n",
      "stdev length: 102.0722346708042\n",
      "max length: 1122\n",
      "min length: 16\n",
      "CPU times: user 3.09 s, sys: 101 ms, total: 3.19 s\n",
      "Wall time: 3.18 s\n"
     ]
    }
   ],
   "source": [
    "%%time\n",
    "\n",
    "import numpy as np\n",
    "# stats\n",
    "print(\"Dataset size:\", len(dataset[\"validation\"]))\n",
    "print(\"mean length:\", np.mean([len(x) for x in dataset[\"validation\"][\"input_ids\"]]))\n",
    "print(\"stdev length:\", np.std([len(x) for x in dataset[\"validation\"][\"input_ids\"]]))\n",
    "print(\"max length:\", np.max([len(x) for x in dataset[\"validation\"][\"input_ids\"]]))\n",
    "print(\"min length:\", np.min([len(x) for x in dataset[\"validation\"][\"input_ids\"]]))"
   ]
  },
  {
   "cell_type": "code",
   "execution_count": 6,
   "id": "19b42986",
   "metadata": {},
   "outputs": [
    {
     "name": "stdout",
     "output_type": "stream",
     "text": [
      "CPU times: user 251 μs, sys: 0 ns, total: 251 μs\n",
      "Wall time: 238 μs\n"
     ]
    },
    {
     "data": {
      "text/plain": [
       "135"
      ]
     },
     "execution_count": 6,
     "metadata": {},
     "output_type": "execute_result"
    }
   ],
   "source": [
    "%%time\n",
    "\n",
    "dataset[\"train\"][0][\"input_ids\"][0]"
   ]
  },
  {
   "cell_type": "code",
   "execution_count": 7,
   "id": "aa7c36b0",
   "metadata": {},
   "outputs": [],
   "source": [
    "# %%time\n",
    "\n",
    "# dataset[\"train\"][\"input_ids\"][0][0]"
   ]
  },
  {
   "cell_type": "code",
   "execution_count": 7,
   "id": "72909609",
   "metadata": {},
   "outputs": [],
   "source": [
    "def pack_token_lists(stories, max_length=513):\n",
    "    \"\"\"\n",
    "    Packs token lists into batches without exceeding max_length.\n",
    "    \n",
    "    Args:\n",
    "        token_lists: List of lists of token IDs\n",
    "        max_length: Maximum allowed length for each batch (default: 513)\n",
    "    \n",
    "    Returns:\n",
    "        Dictionary with packed inputs no longer than max_length (not padded)\n",
    "    \"\"\"\n",
    "    # Sort token lists in descending order of length to improve packing efficiency\n",
    "    stories_len_sorted = sorted(stories[\"input_ids\"], key=len, reverse=True)\n",
    "    \n",
    "    inputs = []\n",
    "    token_positions = []\n",
    "    \n",
    "    for story in stories_len_sorted:\n",
    "        placed = False\n",
    "        story_length = len(story)\n",
    "\n",
    "        if story_length >= max_length:\n",
    "            # truncate the token list if it exceeds max_length\n",
    "            story = story[:max_length]\n",
    "            inputs.append(story)\n",
    "\n",
    "            # Add the positions of every token in the story\n",
    "            token_positions.append(list(range(len(story))))\n",
    "\n",
    "            placed = True\n",
    "            continue\n",
    "        \n",
    "        # iterate over both inputs and token_positions\n",
    "        for (input, position) in zip(inputs, token_positions):\n",
    "            input_length = len(input)\n",
    "            if input_length + story_length <= max_length:\n",
    "                # Extend the existing input with the new story\n",
    "                input.extend(story)\n",
    "                \n",
    "                # Update token positions\n",
    "                position.extend(list(range(story_length)))\n",
    "                \n",
    "                placed = True\n",
    "                break\n",
    "                \n",
    "        # If no existing batch can accommodate, create a new batch\n",
    "        if not placed:\n",
    "            inputs.append(story)\n",
    "            token_positions.append(list(range(len(story))))\n",
    "    \n",
    "    return {\n",
    "        \"packed_inputs\": inputs,\n",
    "        \"positions\": token_positions,\n",
    "    }\n"
   ]
  },
  {
   "cell_type": "code",
   "execution_count": 8,
   "id": "d181e9d6",
   "metadata": {},
   "outputs": [
    {
     "name": "stderr",
     "output_type": "stream",
     "text": [
      "Map: 100%|██████████| 2119719/2119719 [02:25<00:00, 14608.86 examples/s]\n",
      "Map: 100%|██████████| 21990/21990 [00:01<00:00, 15053.54 examples/s]\n"
     ]
    }
   ],
   "source": [
    "dataset = dataset.map(\n",
    "  pack_token_lists,\n",
    "  batched=True,\n",
    "  remove_columns=[\"input_ids\"],\n",
    "  num_proc=None,\n",
    ")"
   ]
  },
  {
   "cell_type": "code",
   "execution_count": 9,
   "id": "f5c665bf",
   "metadata": {},
   "outputs": [],
   "source": [
    "# pad inputs to max length\n",
    "def pad_sequences(example, max_length=513, padding_value=endoftext_token[0]):\n",
    "    \"\"\"\n",
    "    Pads sequences to a fixed length.\n",
    "    \n",
    "    Args:\n",
    "        examples: Dictionary containing packed inputs\n",
    "        max_length: Desired length for padding (default: 513)\n",
    "    \n",
    "    Returns:\n",
    "        Dictionary with padded sequences\n",
    "    \"\"\"\n",
    "    # Pad sequence to the specified max_length\n",
    "    sequence = example[\"packed_inputs\"]\n",
    "    padded_input = sequence + [padding_value] * (max_length - len(sequence)) if len(sequence) < max_length else sequence[:max_length]\n",
    "    positions = example[\"positions\"]\n",
    "    padded_positions = positions + [0] * (max_length - len(positions)) if len(positions) < max_length else positions[:max_length]\n",
    "\n",
    "    return {\n",
    "        \"input_ids\": padded_input,\n",
    "        \"padded_positions\": padded_positions,\n",
    "    }\n"
   ]
  },
  {
   "cell_type": "code",
   "execution_count": 10,
   "id": "5f3980b9",
   "metadata": {},
   "outputs": [
    {
     "name": "stderr",
     "output_type": "stream",
     "text": [
      "Map (num_proc=23): 100%|██████████| 965090/965090 [00:19<00:00, 49474.41 examples/s]\n",
      "Map (num_proc=23): 100%|██████████| 9718/9718 [00:00<00:00, 29360.78 examples/s]\n"
     ]
    }
   ],
   "source": [
    "dataset = dataset.map(\n",
    "  pad_sequences,\n",
    "  batched=False,\n",
    "  remove_columns=[\"packed_inputs\", \"positions\"],\n",
    "  num_proc=23,\n",
    ")"
   ]
  },
  {
   "cell_type": "code",
   "execution_count": 11,
   "id": "8e412ad3",
   "metadata": {},
   "outputs": [],
   "source": [
    "dataset.set_format(\"torch\")"
   ]
  },
  {
   "cell_type": "code",
   "execution_count": 12,
   "id": "3fbf8acc",
   "metadata": {},
   "outputs": [
    {
     "data": {
      "text/plain": [
       "DatasetDict({\n",
       "    train: Dataset({\n",
       "        features: ['input_ids', 'padded_positions'],\n",
       "        num_rows: 965090\n",
       "    })\n",
       "    validation: Dataset({\n",
       "        features: ['input_ids', 'padded_positions'],\n",
       "        num_rows: 9718\n",
       "    })\n",
       "})"
      ]
     },
     "execution_count": 12,
     "metadata": {},
     "output_type": "execute_result"
    }
   ],
   "source": [
    "dataset"
   ]
  },
  {
   "cell_type": "code",
   "execution_count": 13,
   "id": "a4c2ac1b",
   "metadata": {},
   "outputs": [],
   "source": [
    "import numpy as np\n",
    "\n",
    "# create square attention mask for sequence packed inputs\n",
    "def create_attention_mask(example, padding_value=endoftext_token[0]):\n",
    "    \"\"\"\n",
    "    Creates an attention mask for packed inputs.\n",
    "    \n",
    "    Args:\n",
    "        example: padded input example\n",
    "    \n",
    "    Returns:\n",
    "        Dictionary with attention masks\n",
    "    \"\"\"\n",
    "\n",
    "    # get indexes of padding tokens\n",
    "    input_ids = np.array(example[\"input_ids\"])\n",
    "    padding_indexes = np.where(input_ids == endoftext_token[0])[0]\n",
    "\n",
    "    # Create a square attention mask\n",
    "    # the attention mask should be 0 if there is a padding token between i and j and 1 otherwise\n",
    "    attention_mask = np.ones((len(input_ids), len(input_ids)), dtype=np.bool)\n",
    "    for padding_index in padding_indexes:\n",
    "        # each story delineated by a padding token\n",
    "        # set attention to 0 for all tokens outside of the story\n",
    "        attention_mask[:padding_index+1, padding_index+1:] = 0\n",
    "        attention_mask[padding_index+1:, :padding_index+1] = 0\n",
    "    \n",
    "    return {\n",
    "        \"packed_inputs\": example[\"input_ids\"],\n",
    "        \"attention_mask\": attention_mask,\n",
    "    }"
   ]
  },
  {
   "cell_type": "code",
   "execution_count": 14,
   "id": "2d41d281",
   "metadata": {},
   "outputs": [
    {
     "name": "stderr",
     "output_type": "stream",
     "text": [
      "Map (num_proc=23):   0%|          | 0/965090 [00:00<?, ? examples/s]/tmp/ipykernel_691764/3439229134.py:16: DeprecationWarning: __array__ implementation doesn't accept a copy keyword, so passing copy=False failed. __array__ must implement 'dtype' and 'copy' keyword arguments. To learn more, see the migration guide https://numpy.org/devdocs/numpy_2_0_migration_guide.html#adapting-to-changes-in-the-copy-keyword\n",
      "  input_ids = np.array(example[\"input_ids\"])\n",
      "/tmp/ipykernel_691764/3439229134.py:16: DeprecationWarning: __array__ implementation doesn't accept a copy keyword, so passing copy=False failed. __array__ must implement 'dtype' and 'copy' keyword arguments. To learn more, see the migration guide https://numpy.org/devdocs/numpy_2_0_migration_guide.html#adapting-to-changes-in-the-copy-keyword\n",
      "  input_ids = np.array(example[\"input_ids\"])\n",
      "/tmp/ipykernel_691764/3439229134.py:16: DeprecationWarning: __array__ implementation doesn't accept a copy keyword, so passing copy=False failed. __array__ must implement 'dtype' and 'copy' keyword arguments. To learn more, see the migration guide https://numpy.org/devdocs/numpy_2_0_migration_guide.html#adapting-to-changes-in-the-copy-keyword\n",
      "  input_ids = np.array(example[\"input_ids\"])\n",
      "/tmp/ipykernel_691764/3439229134.py:16: DeprecationWarning: __array__ implementation doesn't accept a copy keyword, so passing copy=False failed. __array__ must implement 'dtype' and 'copy' keyword arguments. To learn more, see the migration guide https://numpy.org/devdocs/numpy_2_0_migration_guide.html#adapting-to-changes-in-the-copy-keyword\n",
      "  input_ids = np.array(example[\"input_ids\"])\n",
      "/tmp/ipykernel_691764/3439229134.py:16: DeprecationWarning: __array__ implementation doesn't accept a copy keyword, so passing copy=False failed. __array__ must implement 'dtype' and 'copy' keyword arguments. To learn more, see the migration guide https://numpy.org/devdocs/numpy_2_0_migration_guide.html#adapting-to-changes-in-the-copy-keyword\n",
      "  input_ids = np.array(example[\"input_ids\"])\n",
      "/tmp/ipykernel_691764/3439229134.py:16: DeprecationWarning: __array__ implementation doesn't accept a copy keyword, so passing copy=False failed. __array__ must implement 'dtype' and 'copy' keyword arguments. To learn more, see the migration guide https://numpy.org/devdocs/numpy_2_0_migration_guide.html#adapting-to-changes-in-the-copy-keyword\n",
      "  input_ids = np.array(example[\"input_ids\"])\n",
      "/tmp/ipykernel_691764/3439229134.py:16: DeprecationWarning: __array__ implementation doesn't accept a copy keyword, so passing copy=False failed. __array__ must implement 'dtype' and 'copy' keyword arguments. To learn more, see the migration guide https://numpy.org/devdocs/numpy_2_0_migration_guide.html#adapting-to-changes-in-the-copy-keyword\n",
      "  input_ids = np.array(example[\"input_ids\"])\n",
      "/tmp/ipykernel_691764/3439229134.py:16: DeprecationWarning: __array__ implementation doesn't accept a copy keyword, so passing copy=False failed. __array__ must implement 'dtype' and 'copy' keyword arguments. To learn more, see the migration guide https://numpy.org/devdocs/numpy_2_0_migration_guide.html#adapting-to-changes-in-the-copy-keyword\n",
      "  input_ids = np.array(example[\"input_ids\"])\n",
      "/tmp/ipykernel_691764/3439229134.py:16: DeprecationWarning: __array__ implementation doesn't accept a copy keyword, so passing copy=False failed. __array__ must implement 'dtype' and 'copy' keyword arguments. To learn more, see the migration guide https://numpy.org/devdocs/numpy_2_0_migration_guide.html#adapting-to-changes-in-the-copy-keyword\n",
      "  input_ids = np.array(example[\"input_ids\"])\n",
      "/tmp/ipykernel_691764/3439229134.py:16: DeprecationWarning: __array__ implementation doesn't accept a copy keyword, so passing copy=False failed. __array__ must implement 'dtype' and 'copy' keyword arguments. To learn more, see the migration guide https://numpy.org/devdocs/numpy_2_0_migration_guide.html#adapting-to-changes-in-the-copy-keyword\n",
      "  input_ids = np.array(example[\"input_ids\"])\n",
      "/tmp/ipykernel_691764/3439229134.py:16: DeprecationWarning: __array__ implementation doesn't accept a copy keyword, so passing copy=False failed. __array__ must implement 'dtype' and 'copy' keyword arguments. To learn more, see the migration guide https://numpy.org/devdocs/numpy_2_0_migration_guide.html#adapting-to-changes-in-the-copy-keyword\n",
      "  input_ids = np.array(example[\"input_ids\"])\n",
      "/tmp/ipykernel_691764/3439229134.py:16: DeprecationWarning: __array__ implementation doesn't accept a copy keyword, so passing copy=False failed. __array__ must implement 'dtype' and 'copy' keyword arguments. To learn more, see the migration guide https://numpy.org/devdocs/numpy_2_0_migration_guide.html#adapting-to-changes-in-the-copy-keyword\n",
      "  input_ids = np.array(example[\"input_ids\"])\n",
      "/tmp/ipykernel_691764/3439229134.py:16: DeprecationWarning: __array__ implementation doesn't accept a copy keyword, so passing copy=False failed. __array__ must implement 'dtype' and 'copy' keyword arguments. To learn more, see the migration guide https://numpy.org/devdocs/numpy_2_0_migration_guide.html#adapting-to-changes-in-the-copy-keyword\n",
      "  input_ids = np.array(example[\"input_ids\"])\n",
      "/tmp/ipykernel_691764/3439229134.py:16: DeprecationWarning: __array__ implementation doesn't accept a copy keyword, so passing copy=False failed. __array__ must implement 'dtype' and 'copy' keyword arguments. To learn more, see the migration guide https://numpy.org/devdocs/numpy_2_0_migration_guide.html#adapting-to-changes-in-the-copy-keyword\n",
      "  input_ids = np.array(example[\"input_ids\"])\n",
      "/tmp/ipykernel_691764/3439229134.py:16: DeprecationWarning: __array__ implementation doesn't accept a copy keyword, so passing copy=False failed. __array__ must implement 'dtype' and 'copy' keyword arguments. To learn more, see the migration guide https://numpy.org/devdocs/numpy_2_0_migration_guide.html#adapting-to-changes-in-the-copy-keyword\n",
      "  input_ids = np.array(example[\"input_ids\"])\n",
      "/tmp/ipykernel_691764/3439229134.py:16: DeprecationWarning: __array__ implementation doesn't accept a copy keyword, so passing copy=False failed. __array__ must implement 'dtype' and 'copy' keyword arguments. To learn more, see the migration guide https://numpy.org/devdocs/numpy_2_0_migration_guide.html#adapting-to-changes-in-the-copy-keyword\n",
      "  input_ids = np.array(example[\"input_ids\"])\n",
      "/tmp/ipykernel_691764/3439229134.py:16: DeprecationWarning: __array__ implementation doesn't accept a copy keyword, so passing copy=False failed. __array__ must implement 'dtype' and 'copy' keyword arguments. To learn more, see the migration guide https://numpy.org/devdocs/numpy_2_0_migration_guide.html#adapting-to-changes-in-the-copy-keyword\n",
      "  input_ids = np.array(example[\"input_ids\"])\n",
      "/tmp/ipykernel_691764/3439229134.py:16: DeprecationWarning: __array__ implementation doesn't accept a copy keyword, so passing copy=False failed. __array__ must implement 'dtype' and 'copy' keyword arguments. To learn more, see the migration guide https://numpy.org/devdocs/numpy_2_0_migration_guide.html#adapting-to-changes-in-the-copy-keyword\n",
      "  input_ids = np.array(example[\"input_ids\"])\n",
      "/tmp/ipykernel_691764/3439229134.py:16: DeprecationWarning: __array__ implementation doesn't accept a copy keyword, so passing copy=False failed. __array__ must implement 'dtype' and 'copy' keyword arguments. To learn more, see the migration guide https://numpy.org/devdocs/numpy_2_0_migration_guide.html#adapting-to-changes-in-the-copy-keyword\n",
      "  input_ids = np.array(example[\"input_ids\"])\n",
      "/tmp/ipykernel_691764/3439229134.py:16: DeprecationWarning: __array__ implementation doesn't accept a copy keyword, so passing copy=False failed. __array__ must implement 'dtype' and 'copy' keyword arguments. To learn more, see the migration guide https://numpy.org/devdocs/numpy_2_0_migration_guide.html#adapting-to-changes-in-the-copy-keyword\n",
      "  input_ids = np.array(example[\"input_ids\"])\n",
      "/tmp/ipykernel_691764/3439229134.py:16: DeprecationWarning: __array__ implementation doesn't accept a copy keyword, so passing copy=False failed. __array__ must implement 'dtype' and 'copy' keyword arguments. To learn more, see the migration guide https://numpy.org/devdocs/numpy_2_0_migration_guide.html#adapting-to-changes-in-the-copy-keyword\n",
      "  input_ids = np.array(example[\"input_ids\"])\n",
      "Map (num_proc=23):   0%|          | 913/965090 [00:00<02:01, 7939.18 examples/s]/tmp/ipykernel_691764/3439229134.py:16: DeprecationWarning: __array__ implementation doesn't accept a copy keyword, so passing copy=False failed. __array__ must implement 'dtype' and 'copy' keyword arguments. To learn more, see the migration guide https://numpy.org/devdocs/numpy_2_0_migration_guide.html#adapting-to-changes-in-the-copy-keyword\n",
      "  input_ids = np.array(example[\"input_ids\"])\n",
      "/tmp/ipykernel_691764/3439229134.py:16: DeprecationWarning: __array__ implementation doesn't accept a copy keyword, so passing copy=False failed. __array__ must implement 'dtype' and 'copy' keyword arguments. To learn more, see the migration guide https://numpy.org/devdocs/numpy_2_0_migration_guide.html#adapting-to-changes-in-the-copy-keyword\n",
      "  input_ids = np.array(example[\"input_ids\"])\n",
      "Map (num_proc=23): 100%|██████████| 965090/965090 [01:05<00:00, 14695.15 examples/s]\n",
      "Map (num_proc=23):   0%|          | 0/9718 [00:00<?, ? examples/s]/tmp/ipykernel_691764/3439229134.py:16: DeprecationWarning: __array__ implementation doesn't accept a copy keyword, so passing copy=False failed. __array__ must implement 'dtype' and 'copy' keyword arguments. To learn more, see the migration guide https://numpy.org/devdocs/numpy_2_0_migration_guide.html#adapting-to-changes-in-the-copy-keyword\n",
      "  input_ids = np.array(example[\"input_ids\"])\n",
      "/tmp/ipykernel_691764/3439229134.py:16: DeprecationWarning: __array__ implementation doesn't accept a copy keyword, so passing copy=False failed. __array__ must implement 'dtype' and 'copy' keyword arguments. To learn more, see the migration guide https://numpy.org/devdocs/numpy_2_0_migration_guide.html#adapting-to-changes-in-the-copy-keyword\n",
      "  input_ids = np.array(example[\"input_ids\"])\n",
      "/tmp/ipykernel_691764/3439229134.py:16: DeprecationWarning: __array__ implementation doesn't accept a copy keyword, so passing copy=False failed. __array__ must implement 'dtype' and 'copy' keyword arguments. To learn more, see the migration guide https://numpy.org/devdocs/numpy_2_0_migration_guide.html#adapting-to-changes-in-the-copy-keyword\n",
      "  input_ids = np.array(example[\"input_ids\"])\n",
      "/tmp/ipykernel_691764/3439229134.py:16: DeprecationWarning: __array__ implementation doesn't accept a copy keyword, so passing copy=False failed. __array__ must implement 'dtype' and 'copy' keyword arguments. To learn more, see the migration guide https://numpy.org/devdocs/numpy_2_0_migration_guide.html#adapting-to-changes-in-the-copy-keyword\n",
      "  input_ids = np.array(example[\"input_ids\"])\n",
      "/tmp/ipykernel_691764/3439229134.py:16: DeprecationWarning: __array__ implementation doesn't accept a copy keyword, so passing copy=False failed. __array__ must implement 'dtype' and 'copy' keyword arguments. To learn more, see the migration guide https://numpy.org/devdocs/numpy_2_0_migration_guide.html#adapting-to-changes-in-the-copy-keyword\n",
      "  input_ids = np.array(example[\"input_ids\"])\n",
      "/tmp/ipykernel_691764/3439229134.py:16: DeprecationWarning: __array__ implementation doesn't accept a copy keyword, so passing copy=False failed. __array__ must implement 'dtype' and 'copy' keyword arguments. To learn more, see the migration guide https://numpy.org/devdocs/numpy_2_0_migration_guide.html#adapting-to-changes-in-the-copy-keyword\n",
      "  input_ids = np.array(example[\"input_ids\"])\n",
      "/tmp/ipykernel_691764/3439229134.py:16: DeprecationWarning: __array__ implementation doesn't accept a copy keyword, so passing copy=False failed. __array__ must implement 'dtype' and 'copy' keyword arguments. To learn more, see the migration guide https://numpy.org/devdocs/numpy_2_0_migration_guide.html#adapting-to-changes-in-the-copy-keyword\n",
      "  input_ids = np.array(example[\"input_ids\"])\n",
      "/tmp/ipykernel_691764/3439229134.py:16: DeprecationWarning: __array__ implementation doesn't accept a copy keyword, so passing copy=False failed. __array__ must implement 'dtype' and 'copy' keyword arguments. To learn more, see the migration guide https://numpy.org/devdocs/numpy_2_0_migration_guide.html#adapting-to-changes-in-the-copy-keyword\n",
      "  input_ids = np.array(example[\"input_ids\"])\n",
      "/tmp/ipykernel_691764/3439229134.py:16: DeprecationWarning: __array__ implementation doesn't accept a copy keyword, so passing copy=False failed. __array__ must implement 'dtype' and 'copy' keyword arguments. To learn more, see the migration guide https://numpy.org/devdocs/numpy_2_0_migration_guide.html#adapting-to-changes-in-the-copy-keyword\n",
      "  input_ids = np.array(example[\"input_ids\"])\n",
      "/tmp/ipykernel_691764/3439229134.py:16: DeprecationWarning: __array__ implementation doesn't accept a copy keyword, so passing copy=False failed. __array__ must implement 'dtype' and 'copy' keyword arguments. To learn more, see the migration guide https://numpy.org/devdocs/numpy_2_0_migration_guide.html#adapting-to-changes-in-the-copy-keyword\n",
      "  input_ids = np.array(example[\"input_ids\"])\n",
      "/tmp/ipykernel_691764/3439229134.py:16: DeprecationWarning: __array__ implementation doesn't accept a copy keyword, so passing copy=False failed. __array__ must implement 'dtype' and 'copy' keyword arguments. To learn more, see the migration guide https://numpy.org/devdocs/numpy_2_0_migration_guide.html#adapting-to-changes-in-the-copy-keyword\n",
      "  input_ids = np.array(example[\"input_ids\"])\n",
      "/tmp/ipykernel_691764/3439229134.py:16: DeprecationWarning: __array__ implementation doesn't accept a copy keyword, so passing copy=False failed. __array__ must implement 'dtype' and 'copy' keyword arguments. To learn more, see the migration guide https://numpy.org/devdocs/numpy_2_0_migration_guide.html#adapting-to-changes-in-the-copy-keyword\n",
      "  input_ids = np.array(example[\"input_ids\"])\n",
      "/tmp/ipykernel_691764/3439229134.py:16: DeprecationWarning: __array__ implementation doesn't accept a copy keyword, so passing copy=False failed. __array__ must implement 'dtype' and 'copy' keyword arguments. To learn more, see the migration guide https://numpy.org/devdocs/numpy_2_0_migration_guide.html#adapting-to-changes-in-the-copy-keyword\n",
      "  input_ids = np.array(example[\"input_ids\"])\n",
      "/tmp/ipykernel_691764/3439229134.py:16: DeprecationWarning: __array__ implementation doesn't accept a copy keyword, so passing copy=False failed. __array__ must implement 'dtype' and 'copy' keyword arguments. To learn more, see the migration guide https://numpy.org/devdocs/numpy_2_0_migration_guide.html#adapting-to-changes-in-the-copy-keyword\n",
      "  input_ids = np.array(example[\"input_ids\"])\n",
      "/tmp/ipykernel_691764/3439229134.py:16: DeprecationWarning: __array__ implementation doesn't accept a copy keyword, so passing copy=False failed. __array__ must implement 'dtype' and 'copy' keyword arguments. To learn more, see the migration guide https://numpy.org/devdocs/numpy_2_0_migration_guide.html#adapting-to-changes-in-the-copy-keyword\n",
      "  input_ids = np.array(example[\"input_ids\"])\n",
      "/tmp/ipykernel_691764/3439229134.py:16: DeprecationWarning: __array__ implementation doesn't accept a copy keyword, so passing copy=False failed. __array__ must implement 'dtype' and 'copy' keyword arguments. To learn more, see the migration guide https://numpy.org/devdocs/numpy_2_0_migration_guide.html#adapting-to-changes-in-the-copy-keyword\n",
      "  input_ids = np.array(example[\"input_ids\"])\n",
      "/tmp/ipykernel_691764/3439229134.py:16: DeprecationWarning: __array__ implementation doesn't accept a copy keyword, so passing copy=False failed. __array__ must implement 'dtype' and 'copy' keyword arguments. To learn more, see the migration guide https://numpy.org/devdocs/numpy_2_0_migration_guide.html#adapting-to-changes-in-the-copy-keyword\n",
      "  input_ids = np.array(example[\"input_ids\"])\n",
      "/tmp/ipykernel_691764/3439229134.py:16: DeprecationWarning: __array__ implementation doesn't accept a copy keyword, so passing copy=False failed. __array__ must implement 'dtype' and 'copy' keyword arguments. To learn more, see the migration guide https://numpy.org/devdocs/numpy_2_0_migration_guide.html#adapting-to-changes-in-the-copy-keyword\n",
      "  input_ids = np.array(example[\"input_ids\"])\n",
      "/tmp/ipykernel_691764/3439229134.py:16: DeprecationWarning: __array__ implementation doesn't accept a copy keyword, so passing copy=False failed. __array__ must implement 'dtype' and 'copy' keyword arguments. To learn more, see the migration guide https://numpy.org/devdocs/numpy_2_0_migration_guide.html#adapting-to-changes-in-the-copy-keyword\n",
      "  input_ids = np.array(example[\"input_ids\"])\n",
      "/tmp/ipykernel_691764/3439229134.py:16: DeprecationWarning: __array__ implementation doesn't accept a copy keyword, so passing copy=False failed. __array__ must implement 'dtype' and 'copy' keyword arguments. To learn more, see the migration guide https://numpy.org/devdocs/numpy_2_0_migration_guide.html#adapting-to-changes-in-the-copy-keyword\n",
      "  input_ids = np.array(example[\"input_ids\"])\n",
      "/tmp/ipykernel_691764/3439229134.py:16: DeprecationWarning: __array__ implementation doesn't accept a copy keyword, so passing copy=False failed. __array__ must implement 'dtype' and 'copy' keyword arguments. To learn more, see the migration guide https://numpy.org/devdocs/numpy_2_0_migration_guide.html#adapting-to-changes-in-the-copy-keyword\n",
      "  input_ids = np.array(example[\"input_ids\"])\n",
      "/tmp/ipykernel_691764/3439229134.py:16: DeprecationWarning: __array__ implementation doesn't accept a copy keyword, so passing copy=False failed. __array__ must implement 'dtype' and 'copy' keyword arguments. To learn more, see the migration guide https://numpy.org/devdocs/numpy_2_0_migration_guide.html#adapting-to-changes-in-the-copy-keyword\n",
      "  input_ids = np.array(example[\"input_ids\"])\n",
      "Map (num_proc=23):  11%|█▏        | 1106/9718 [00:00<00:00, 10034.11 examples/s]/tmp/ipykernel_691764/3439229134.py:16: DeprecationWarning: __array__ implementation doesn't accept a copy keyword, so passing copy=False failed. __array__ must implement 'dtype' and 'copy' keyword arguments. To learn more, see the migration guide https://numpy.org/devdocs/numpy_2_0_migration_guide.html#adapting-to-changes-in-the-copy-keyword\n",
      "  input_ids = np.array(example[\"input_ids\"])\n",
      "Map (num_proc=23): 100%|██████████| 9718/9718 [00:01<00:00, 9558.82 examples/s] \n"
     ]
    }
   ],
   "source": [
    "dataset = dataset.map(\n",
    "    create_attention_mask,\n",
    "    batched=False,\n",
    "    remove_columns=[\"input_ids\"],\n",
    "    num_proc=23,\n",
    ")"
   ]
  },
  {
   "cell_type": "code",
   "execution_count": 15,
   "id": "0eccbc7a",
   "metadata": {},
   "outputs": [
    {
     "name": "stderr",
     "output_type": "stream",
     "text": [
      "Saving the dataset (84/84 shards): 100%|██████████| 965090/965090 [01:10<00:00, 13683.05 examples/s]\n",
      "Saving the dataset (1/1 shards): 100%|██████████| 9718/9718 [00:00<00:00, 11631.82 examples/s]\n"
     ]
    }
   ],
   "source": [
    "dataset.save_to_disk(\"packed_dataset_with_mask_smallVocab_cleaned\")"
   ]
  },
  {
   "cell_type": "code",
   "execution_count": 16,
   "id": "120e2a6e",
   "metadata": {},
   "outputs": [],
   "source": [
    "# Usage:\n",
    "\n",
    "from datasets import load_from_disk\n",
    "packed_dataset = load_from_disk(\"packed_dataset_with_mask_smallVocab_cleaned\")\n",
    "packed_dataset.set_format('torch')\n",
    "\n",
    "from torch.utils.data import DataLoader\n",
    "# Create DataLoader\n",
    "dataloader_train = DataLoader(packed_dataset[\"train\"], batch_size=1, shuffle=True)\n",
    "dataloader_valid = DataLoader(packed_dataset[\"validation\"], batch_size=1, shuffle=False)\n"
   ]
  },
  {
   "cell_type": "code",
   "execution_count": 17,
   "id": "a6d7bd8e",
   "metadata": {},
   "outputs": [],
   "source": [
    "# look at the first batch\n",
    "for input in dataloader_train:\n",
    "    first_batch = input\n",
    "    break"
   ]
  },
  {
   "cell_type": "code",
   "execution_count": 18,
   "id": "7d018431",
   "metadata": {},
   "outputs": [
    {
     "data": {
      "text/plain": [
       "{'padded_positions': tensor([[  0,   1,   2,   3,   4,   5,   6,   7,   8,   9,  10,  11,  12,  13,\n",
       "           14,  15,  16,  17,  18,  19,  20,  21,  22,  23,  24,  25,  26,  27,\n",
       "           28,  29,  30,  31,  32,  33,  34,  35,  36,  37,  38,  39,  40,  41,\n",
       "           42,  43,  44,  45,  46,  47,  48,  49,  50,  51,  52,  53,  54,  55,\n",
       "           56,  57,  58,  59,  60,  61,  62,  63,  64,  65,  66,  67,  68,  69,\n",
       "           70,  71,  72,  73,  74,  75,  76,  77,  78,  79,  80,  81,  82,  83,\n",
       "           84,  85,  86,  87,  88,  89,  90,  91,  92,  93,  94,  95,  96,  97,\n",
       "           98,  99, 100, 101, 102, 103, 104, 105, 106, 107, 108, 109, 110, 111,\n",
       "          112, 113, 114, 115, 116, 117, 118, 119, 120, 121, 122, 123, 124, 125,\n",
       "          126, 127, 128, 129, 130, 131, 132, 133, 134, 135, 136, 137, 138, 139,\n",
       "          140, 141, 142, 143, 144, 145, 146, 147, 148, 149, 150, 151, 152, 153,\n",
       "          154, 155, 156, 157, 158, 159,   0,   1,   2,   3,   4,   5,   6,   7,\n",
       "            8,   9,  10,  11,  12,  13,  14,  15,  16,  17,  18,  19,  20,  21,\n",
       "           22,  23,  24,  25,  26,  27,  28,  29,  30,  31,  32,  33,  34,  35,\n",
       "           36,  37,  38,  39,  40,  41,  42,  43,  44,  45,  46,  47,  48,  49,\n",
       "           50,  51,  52,  53,  54,  55,  56,  57,  58,  59,  60,  61,  62,  63,\n",
       "           64,  65,  66,  67,  68,  69,  70,  71,  72,  73,  74,  75,  76,  77,\n",
       "           78,  79,  80,  81,  82,  83,  84,  85,  86,  87,  88,  89,  90,  91,\n",
       "           92,  93,  94,  95,  96,  97,  98,  99, 100, 101, 102, 103, 104, 105,\n",
       "          106, 107, 108, 109, 110, 111, 112, 113, 114, 115, 116, 117, 118, 119,\n",
       "          120, 121, 122, 123, 124, 125, 126, 127, 128, 129, 130, 131, 132, 133,\n",
       "          134, 135, 136, 137, 138, 139, 140, 141, 142, 143, 144, 145, 146, 147,\n",
       "          148, 149, 150, 151, 152, 153, 154, 155, 156, 157, 158,   0,   1,   2,\n",
       "            3,   4,   5,   6,   7,   8,   9,  10,  11,  12,  13,  14,  15,  16,\n",
       "           17,  18,  19,  20,  21,  22,  23,  24,  25,  26,  27,  28,  29,  30,\n",
       "           31,  32,  33,  34,  35,  36,  37,  38,  39,  40,  41,  42,  43,  44,\n",
       "           45,  46,  47,  48,  49,  50,  51,  52,  53,  54,  55,  56,  57,  58,\n",
       "           59,  60,  61,  62,  63,  64,  65,  66,  67,  68,  69,  70,  71,  72,\n",
       "           73,  74,  75,  76,  77,  78,  79,  80,  81,  82,  83,  84,  85,  86,\n",
       "           87,  88,  89,  90,  91,  92,  93,  94,  95,  96,  97,  98,  99, 100,\n",
       "          101, 102, 103, 104, 105, 106, 107, 108, 109, 110, 111, 112, 113, 114,\n",
       "          115, 116, 117, 118, 119, 120, 121, 122, 123, 124, 125, 126, 127, 128,\n",
       "          129, 130, 131, 132, 133, 134, 135, 136, 137, 138, 139, 140, 141, 142,\n",
       "          143, 144, 145, 146, 147, 148, 149, 150, 151, 152, 153, 154, 155, 156,\n",
       "          157, 158,   0,   0,   0,   0,   0,   0,   0,   0,   0,   0,   0,   0,\n",
       "            0,   0,   0,   0,   0,   0,   0,   0,   0,   0,   0,   0,   0,   0,\n",
       "            0,   0,   0,   0,   0,   0,   0,   0,   0]]),\n",
       " 'packed_inputs': tensor([[ 203,  218,   42,  181,  176,  202,  610,  245,   18, 2816,   78,  393,\n",
       "            20,   99,  202,  607,  144,  363,  407,  650,   84,   75,  703,   20,\n",
       "             1,    1, 2816,  317,  355, 1163,   92,   42, 2476, 2115,   20,   73,\n",
       "           329,   42,  188, 3141,  138,  478,   78,  191, 1888, 1035,   60,   79,\n",
       "            74, 2476, 2115,   20,   73,  675,  329,   79,   42, 1567,  138, 2746,\n",
       "          2652,   20,    1,    1,  393,  120,   77, 2816,   18,    8,  244,   94,\n",
       "           141,  958,   19,  713, 2652,  141,  114,  172, 1492,  243,    1,    1,\n",
       "          2816,  771,   18,    8,   80,   13,   60, 2746, 2652,   20,   80,   13,\n",
       "            60,  901, 1694,   78,   50,  418,   80,  294,  109,  513,   77,  230,\n",
       "            84,  399,  703,  199,    1,    1,  121,   18,  131,   74, 2746, 2652,\n",
       "            79,  219, 2476, 2115,   78, 1188,   84,  219, 1824,   18, 2816,   78,\n",
       "           393,  694,  508,   20,   99,  158,  112,  682,  512,  219, 1621,  294,\n",
       "           389,  221,   20,   99,  202,  363,   77,  668,   78,  277,  244,   99,\n",
       "           229,  388,    7,    0,  203,  218,   42,  181,   18,  176,   87,   42,\n",
       "          1469,  380,   20,  128,  951,   87,  564,   20,   73,  215,   77,  388,\n",
       "            42,  670,   77, 1474,   20,   73,  285, 1090,   18,  145,   73,  446,\n",
       "           486,   13,   61,  388,   42,  670,  141,   87, 1162,  160,  208,   20,\n",
       "             1,    1,  135,  143,   18,   73,  375,   77,  986,   77,   74,  889,\n",
       "           138,   42,  188, 1082,   20,  247,   73,  905,   74,  889,   18,   73,\n",
       "           190,   42,  188,  629,  138, 2222,   20,   99,  202,  356,   78,  902,\n",
       "           257,   78,   99,  161,  285,  121,  186,   20,    1,    1,  564,  439,\n",
       "           510,  309,  141,  382,   87,   74, 1162,  670,  160,  208,   77, 1474,\n",
       "            20,   73,  264,  385,   74, 1082,   78, 2715,   74,  299, 2222,   20,\n",
       "           564,   87,  121,  186,    7,    1,    1,   74,  629,  138, 2222, 3750,\n",
       "           208,  131,  843, 1562,   20,  255,  141,  143,   84,   18,  564,  158,\n",
       "           592,  138,  245,   20,   73, 2446,  108,   74,  889,  138,   74, 1082,\n",
       "            78,   73,   87, 1162,  176,   20,    0,  203,  218,   42,  181,   18,\n",
       "            79,   42,  525,  450,   18,  617,   42,  295,  273,  124,   20,  124,\n",
       "           158,   42, 2386,  281,   20,   80,   87,   42, 3457,  281,   20,   73,\n",
       "           408,   80, 1090,   20,   73,  501,  131,   80,  161,  143,   20,    1,\n",
       "             1,  135,  143,   18,  124, 1030,  128, 3457,  281,   20,   73,   87,\n",
       "           144,  328,   20,   73,  285,  578,  128,  542,   20,   73,  285,   79,\n",
       "            74, 2104,   20,   73,  285, 1090,   18,  145,   73,  229,  175,  388,\n",
       "           128, 3457,  281,   20,    1,    1,  124,   13,   60,  133,  190,  141,\n",
       "            73,   87,  328,   20,   91,  215,   77,  239,  208,   20,   91,  237,\n",
       "            77,   74,  805,   78, 1666,   42,  238, 3457,  281,   20,   91,  473,\n",
       "            80,   77,  124,   77,   81,  670,   74, 1030,  135,   20,  124,   87,\n",
       "           144,  186,   20,   73,  501,  131,  128,  238, 3457,  281,   78,  272,\n",
       "            20,  255,  141,  143,   84,   18,  124,  408,  330,  379,  138,  128,\n",
       "          2386, 3457,  281,   78,  449, 1030,   80,  340,   20,    0,    0,    0,\n",
       "             0,    0,    0,    0,    0,    0,    0,    0,    0,    0,    0,    0,\n",
       "             0,    0,    0,    0,    0,    0,    0,    0,    0,    0,    0,    0,\n",
       "             0,    0,    0,    0,    0,    0,    0,    0,    0]]),\n",
       " 'attention_mask': tensor([[[ True,  True,  True,  ..., False, False, False],\n",
       "          [ True,  True,  True,  ..., False, False, False],\n",
       "          [ True,  True,  True,  ..., False, False, False],\n",
       "          ...,\n",
       "          [False, False, False,  ...,  True, False, False],\n",
       "          [False, False, False,  ..., False,  True, False],\n",
       "          [False, False, False,  ..., False, False,  True]]])}"
      ]
     },
     "execution_count": 18,
     "metadata": {},
     "output_type": "execute_result"
    }
   ],
   "source": [
    "first_batch"
   ]
  },
  {
   "cell_type": "code",
   "execution_count": null,
   "id": "7ab69043",
   "metadata": {},
   "outputs": [],
   "source": []
  }
 ],
 "metadata": {
  "kernelspec": {
   "display_name": "base",
   "language": "python",
   "name": "python3"
  },
  "language_info": {
   "codemirror_mode": {
    "name": "ipython",
    "version": 3
   },
   "file_extension": ".py",
   "mimetype": "text/x-python",
   "name": "python",
   "nbconvert_exporter": "python",
   "pygments_lexer": "ipython3",
   "version": "3.12.9"
  }
 },
 "nbformat": 4,
 "nbformat_minor": 5
}
