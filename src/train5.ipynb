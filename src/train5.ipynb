{
 "cells": [
  {
   "cell_type": "markdown",
   "id": "4c22a32f-cb2c-47cd-96fc-fea8953ac491",
   "metadata": {},
   "source": [
    "This script contains some improvement from train.ipynb by default:\n",
    "* much few layers, heads, and embedding dimension to reduce the model size\n",
    "* dataloader v2 which uses a custom tokenizer (again to reduce model size)\n",
    "* no positional embeddings (to reduce model complexity)\n",
    "* weight tying (to reduce model size)\n",
    "\n",
    "\n",
    "We implemented a few things here first and not before:\n",
    "* validation losses\n",
    "* increased the model size to be just below 30M parameters\n",
    "* reduced the amount of data trained with to keep the training (wall) time consistent\n",
    "* made graph more informative"
   ]
  },
  {
   "cell_type": "markdown",
   "id": "ce834d77-2417-42fc-b17f-d30e90267ea7",
   "metadata": {},
   "source": [
    "This script contains a couple improvements from train2.ipynb:\n",
    "* gradient accumulation is enabled\n",
    "* the dataloader chunks from the start of an example up to the max_length or the endoftext token"
   ]
  },
  {
   "cell_type": "markdown",
   "id": "58cab6bf-b4da-4f70-8c24-b249c7645936",
   "metadata": {},
   "source": [
    "This contains some changes from train3.ipynb:\n",
    "* an accuracy metric has been implemented\n",
    "* one cycle learning rate schedule is being used\n",
    "* weight tying is disabled"
   ]
  },
  {
   "cell_type": "markdown",
   "id": "055e84e5-33f4-408f-8a1f-eccb869f813e",
   "metadata": {},
   "source": [
    "This contains some improvements from train4.ipynb: just that the attention module used uses pytorchs implementation for sdpa. This also uses a text generation function to display the capabilities of the trained model."
   ]
  },
  {
   "cell_type": "code",
   "execution_count": 1,
   "id": "1b627f5c-924f-4df1-8f87-f62a6b2079c7",
   "metadata": {},
   "outputs": [],
   "source": [
    "from components.gptmodel import GPTModel_v2"
   ]
  },
  {
   "cell_type": "code",
   "execution_count": 2,
   "id": "6d23feb8-a522-4258-90a7-0c74ad37f0b0",
   "metadata": {},
   "outputs": [],
   "source": [
    "import lightning as L"
   ]
  },
  {
   "cell_type": "code",
   "execution_count": null,
   "id": "09b1cbdd-bd03-48df-804b-909a81ccf877",
   "metadata": {},
   "outputs": [],
   "source": []
  },
  {
   "cell_type": "code",
   "execution_count": 3,
   "id": "7751102e-909c-4a2a-820a-bfad8a752ab5",
   "metadata": {},
   "outputs": [],
   "source": [
    "import socket"
   ]
  },
  {
   "cell_type": "code",
   "execution_count": 4,
   "id": "67f6070d-346d-4394-8346-a67481f4f7b0",
   "metadata": {},
   "outputs": [
    {
     "data": {
      "text/plain": [
       "'LAPTOP-V1QE676P'"
      ]
     },
     "execution_count": 4,
     "metadata": {},
     "output_type": "execute_result"
    }
   ],
   "source": [
    "socket.gethostname()"
   ]
  },
  {
   "cell_type": "code",
   "execution_count": 5,
   "id": "55ed6a11-1e99-444f-b4b2-7e54873f2d53",
   "metadata": {},
   "outputs": [],
   "source": [
    "GPT_CONFIG_30M = {\n",
    "    \"vocab_size\": 30002,\n",
    "    \"context_length\": 256,\n",
    "    \"emb_dim\": 512,\n",
    "    \"n_heads\": 4,\n",
    "    \"n_layers\": 4,\n",
    "    \"drop_rate\": 0.0,\n",
    "    \"qkv_bias\": False,\n",
    "    \"weight_tying\": True,\n",
    "    \"no_pos_emb\": True\n",
    "}"
   ]
  },
  {
   "cell_type": "code",
   "execution_count": 6,
   "id": "13c7e0f3-3ba2-4e90-8549-180e8390bf52",
   "metadata": {},
   "outputs": [],
   "source": [
    "GPT_CONFIG_60M = {\n",
    "    \"vocab_size\": 30002,\n",
    "    \"context_length\": 512,\n",
    "    \"emb_dim\": 512,\n",
    "    \"n_heads\": 8,\n",
    "    \"n_layers\": 8,\n",
    "    \"drop_rate\": 0.0,\n",
    "    \"qkv_bias\": False,\n",
    "    \"weight_tying\": False,\n",
    "    \"no_pos_emb\": True\n",
    "}"
   ]
  },
  {
   "cell_type": "code",
   "execution_count": 7,
   "id": "6bea6bd3-62db-4184-83e5-8284297f51f1",
   "metadata": {},
   "outputs": [],
   "source": [
    "import socket\n",
    "hostname = socket.gethostname().lower()\n",
    "if \"laptop\" in hostname:\n",
    "    GPT_CONFIG = GPT_CONFIG_30M\n",
    "else:\n",
    "    GPT_CONFIG = GPT_CONFIG_60M"
   ]
  },
  {
   "cell_type": "code",
   "execution_count": 8,
   "id": "59742e54-fcc7-49a2-b971-66d24cfcd605",
   "metadata": {},
   "outputs": [],
   "source": [
    "import torch.nn as nn\n",
    "import torch\n",
    "\n",
    "torch.set_float32_matmul_precision('medium')"
   ]
  },
  {
   "cell_type": "code",
   "execution_count": null,
   "id": "9641a1af-5cd5-4ea0-b10f-6f673dea2840",
   "metadata": {},
   "outputs": [],
   "source": []
  },
  {
   "cell_type": "code",
   "execution_count": 9,
   "id": "57750fa6-f436-42f1-87fa-2b7c52f01543",
   "metadata": {},
   "outputs": [],
   "source": [
    "from components.data import create_dataloader_v3"
   ]
  },
  {
   "cell_type": "code",
   "execution_count": 10,
   "id": "5a88551b-b45a-486d-ad49-c0b8e29f41d9",
   "metadata": {},
   "outputs": [],
   "source": [
    "trainer_config = {\n",
    "    \"dataset_scale\": 300,\n",
    "    \"batch_size\": 32 if \"laptop\" in hostname else 32,\n",
    "    \"epochs\": 1\n",
    "}\n",
    "trainer_config[\"grad_batches\"] = 256 // trainer_config[\"batch_size\"]"
   ]
  },
  {
   "cell_type": "code",
   "execution_count": 11,
   "id": "467a93a2-032a-4a22-b2b8-dca86bb51c93",
   "metadata": {},
   "outputs": [],
   "source": [
    "def create_dataloader(text, num_workers, train=True):\n",
    "    return create_dataloader_v3(\n",
    "        text,\n",
    "        batch_size=trainer_config[\"batch_size\"],\n",
    "        max_length=GPT_CONFIG[\"context_length\"],\n",
    "        stride=GPT_CONFIG[\"context_length\"],\n",
    "        drop_last=train,\n",
    "        shuffle=train,\n",
    "        num_workers=num_workers\n",
    "    )\n",
    "\n",
    "workers = 11 if \"laptop\" in hostname else 23"
   ]
  },
  {
   "cell_type": "code",
   "execution_count": 12,
   "id": "968ce8c6-9d09-47d7-a447-e680bfdb273d",
   "metadata": {},
   "outputs": [
    {
     "name": "stdout",
     "output_type": "stream",
     "text": [
      "CPU times: user 1.75 s, sys: 2.43 s, total: 4.18 s\n",
      "Wall time: 4.19 s\n"
     ]
    }
   ],
   "source": [
    "%%time\n",
    "\n",
    "train_file = \"../data/TinyStories/TinyStoriesV2-GPT4-train.txt\"\n",
    "with open(train_file, \"r\", encoding=\"utf-8\") as f:\n",
    "    train_text = f.read()\n",
    "\n",
    "train_len = len(train_text)\n",
    "train_text = train_text[:train_len // trainer_config[\"dataset_scale\"]]\n",
    "train_loader = create_dataloader(train_text, workers)"
   ]
  },
  {
   "cell_type": "code",
   "execution_count": 13,
   "id": "5601360e-c8f4-4753-9e7c-f62e7c099c25",
   "metadata": {},
   "outputs": [],
   "source": [
    "val_file = \"../data/TinyStories/TinyStoriesV2-GPT4-valid.txt\"\n",
    "with open(val_file, \"r\", encoding=\"utf-8\") as f:\n",
    "    val_text = f.read()\n",
    "\n",
    "val_loader = create_dataloader(val_text[:len(train_text)//10], workers, train=False)"
   ]
  },
  {
   "cell_type": "code",
   "execution_count": null,
   "id": "10c777bb-c339-47f8-a8d8-2ef7fe3cab6e",
   "metadata": {},
   "outputs": [],
   "source": []
  },
  {
   "cell_type": "code",
   "execution_count": 14,
   "id": "177bc581-d01c-4691-9e05-2b30b2738808",
   "metadata": {},
   "outputs": [],
   "source": [
    "from torch.optim.lr_scheduler import OneCycleLR\n",
    "\n",
    "class LitGPTModel(L.LightningModule):\n",
    "    def __init__(self, GPTModel, total_steps, max_lr=1e-3):\n",
    "        super().__init__()\n",
    "        self.max_lr = max_lr\n",
    "        self.total_steps = total_steps\n",
    "        self.model = GPTModel\n",
    "\n",
    "        self.train_accuracy = []\n",
    "        self.val_accuracy = []\n",
    "        self.train_losses = []\n",
    "        self.val_losses = []\n",
    "        self.val_steps = []\n",
    "        self.learning_rates = []\n",
    "        self.batch_step = 0\n",
    "\n",
    "    def _accuracy(self, output, expected):\n",
    "        total_matching = (torch.argmax(output, dim=-1) == expected).sum().item()\n",
    "        total_numel = expected.numel()\n",
    "        return total_matching / total_numel\n",
    "\n",
    "    def training_step(self, batch, batch_idx):\n",
    "        self.batch_step += 1\n",
    "        x, y = batch\n",
    "        logits = self.model(x)\n",
    "\n",
    "        accuracy = self._accuracy(logits, y)\n",
    "        self.log(\"accuracy\", accuracy, prog_bar=True, on_step=True, on_epoch=True)\n",
    "        self.train_accuracy.append(accuracy)\n",
    "\n",
    "        loss = self.loss(logits, y)\n",
    "        self.log(\"loss\", loss, prog_bar=True, on_step=True, on_epoch=True)\n",
    "        self.train_losses.append(loss.item())\n",
    "\n",
    "        current_lr = self.optimizers().param_groups[0][\"lr\"]\n",
    "        self.learning_rates.append(current_lr)\n",
    "\n",
    "        return loss\n",
    "\n",
    "    def validation_step(self, batch, batch_idx):\n",
    "        self.val_steps.append(self.batch_step)\n",
    "        x, y = batch\n",
    "\n",
    "        logits = self.model(x)\n",
    "\n",
    "        accuracy = self._accuracy(logits, y)\n",
    "        self.log(\"val_accuracy\", accuracy, prog_bar=True, on_step=True, on_epoch=True)\n",
    "        self.val_accuracy.append(accuracy)\n",
    "\n",
    "        loss = self.loss(logits, y)\n",
    "        self.log(\"val_loss\", loss, prog_bar=True, on_step=True, on_epoch=True)\n",
    "        self.val_losses.append(loss.item())\n",
    "        \n",
    "        return loss\n",
    "\n",
    "    def loss(self, output, expected):\n",
    "        loss = nn.functional.cross_entropy(\n",
    "            output.flatten(0, 1), expected.flatten()\n",
    "        )\n",
    "        return loss\n",
    "\n",
    "    def configure_optimizers(self):\n",
    "        optimizer = torch.optim.AdamW(\n",
    "            self.parameters(), lr=self.max_lr, weight_decay=0.1\n",
    "        )\n",
    "\n",
    "        scheduler = OneCycleLR(\n",
    "            optimizer,\n",
    "            max_lr=self.max_lr,\n",
    "            total_steps=self.total_steps,\n",
    "            pct_start=0.1,  # 10% warmup\n",
    "            anneal_strategy='cos'\n",
    "        )\n",
    "        lr_scheduler_config = {\n",
    "            \"scheduler\": scheduler,\n",
    "            \"interval\": \"step\",\n",
    "            \"monitor\": \"loss\"\n",
    "        }\n",
    "\n",
    "        return {\n",
    "            \"optimizer\": optimizer,\n",
    "            \"lr_scheduler\": lr_scheduler_config\n",
    "        }"
   ]
  },
  {
   "cell_type": "code",
   "execution_count": null,
   "id": "b995d95d-edd2-4a21-9e69-0361d5bf21b3",
   "metadata": {},
   "outputs": [],
   "source": []
  },
  {
   "cell_type": "code",
   "execution_count": 15,
   "id": "3af01d54-1a9d-484d-bd23-573bb249cb58",
   "metadata": {},
   "outputs": [],
   "source": [
    "model = GPTModel_v2(GPT_CONFIG)\n",
    "litmodel = LitGPTModel(model, 1 + trainer_config[\"epochs\"]*len(train_loader)//trainer_config[\"grad_batches\"])"
   ]
  },
  {
   "cell_type": "code",
   "execution_count": 16,
   "id": "d9a8b447-2a4d-4eaf-aeef-fc98a417e7c1",
   "metadata": {
    "scrolled": true
   },
   "outputs": [
    {
     "name": "stderr",
     "output_type": "stream",
     "text": [
      "You are using the plain ModelCheckpoint callback. Consider using LitModelCheckpoint which with seamless uploading to Model registry.\n",
      "GPU available: True (cuda), used: True\n",
      "TPU available: False, using: 0 TPU cores\n",
      "HPU available: False, using: 0 HPUs\n",
      "/home/gebrial/miniforge3/envs/fromscratch/lib/python3.12/site-packages/lightning/pytorch/trainer/connectors/logger_connector/logger_connector.py:76: Starting from v1.9.0, `tensorboardX` has been removed as a dependency of the `lightning.pytorch` package, due to potential conflicts with other packages in the ML ecosystem. For this reason, `logger=True` will use `CSVLogger` as the default logger, unless the `tensorboard` or `tensorboardX` packages are found. Please `pip install lightning[extra]` or one of them to enable TensorBoard support by default\n",
      "LOCAL_RANK: 0 - CUDA_VISIBLE_DEVICES: [0]\n",
      "\n",
      "  | Name  | Type        | Params | Mode \n",
      "----------------------------------------------\n",
      "0 | model | GPTModel_v2 | 28.1 M | train\n",
      "----------------------------------------------\n",
      "28.1 M    Trainable params\n",
      "0         Non-trainable params\n",
      "28.1 M    Total params\n",
      "112.506   Total estimated model params size (MB)\n",
      "64        Modules in train mode\n",
      "0         Modules in eval mode\n"
     ]
    },
    {
     "data": {
      "application/vnd.jupyter.widget-view+json": {
       "model_id": "5bd788fd7a53423a8c0174ceebf9cb5b",
       "version_major": 2,
       "version_minor": 0
      },
      "text/plain": [
       "Sanity Checking: |                                                                             | 0/? [00:00<?,…"
      ]
     },
     "metadata": {},
     "output_type": "display_data"
    },
    {
     "data": {
      "application/vnd.jupyter.widget-view+json": {
       "model_id": "a91188041c3b42fa88f0d64775d8f876",
       "version_major": 2,
       "version_minor": 0
      },
      "text/plain": [
       "Training: |                                                                                    | 0/? [00:00<?,…"
      ]
     },
     "metadata": {},
     "output_type": "display_data"
    },
    {
     "data": {
      "application/vnd.jupyter.widget-view+json": {
       "model_id": "7511adb726714c63b36c1d05c0fe242b",
       "version_major": 2,
       "version_minor": 0
      },
      "text/plain": [
       "Validation: |                                                                                  | 0/? [00:00<?,…"
      ]
     },
     "metadata": {},
     "output_type": "display_data"
    },
    {
     "name": "stderr",
     "output_type": "stream",
     "text": [
      "`Trainer.fit` stopped: `max_epochs=1` reached.\n"
     ]
    },
    {
     "name": "stdout",
     "output_type": "stream",
     "text": [
      "CPU times: user 4min 2s, sys: 3.07 s, total: 4min 6s\n",
      "Wall time: 4min 7s\n"
     ]
    }
   ],
   "source": [
    "%%time\n",
    "\n",
    "trainer = L.Trainer(\n",
    "    max_epochs=trainer_config[\"epochs\"],\n",
    "    enable_progress_bar=True,\n",
    "    accumulate_grad_batches=trainer_config[\"grad_batches\"]\n",
    ")\n",
    "trainer.fit(model=litmodel, train_dataloaders=train_loader, val_dataloaders=val_loader)"
   ]
  },
  {
   "cell_type": "code",
   "execution_count": 17,
   "id": "d2a5eaef-72ed-4086-9f39-52de8fecda65",
   "metadata": {},
   "outputs": [
    {
     "data": {
      "image/png": "[encoded data removed]",
      "text/plain": [
       "<Figure size 1000x600 with 2 Axes>"
      ]
     },
     "metadata": {},
     "output_type": "display_data"
    }
   ],
   "source": [
    "import matplotlib.pyplot as plt\n",
    "\n",
    "fig, ax1 = plt.subplots(figsize=(10, 6))\n",
    "\n",
    "ax1.plot(litmodel.train_losses, label=\"Training Loss\", color=\"blue\")\n",
    "ax1.scatter(litmodel.val_steps, litmodel.val_losses, label=\"Validation Loss\", color=\"red\")\n",
    "ax1.set_xlabel(\"Training Step\")\n",
    "ax1.set_ylabel(\"Loss\")\n",
    "ax1.legend(loc=\"upper left\")\n",
    "\n",
    "ax2 = ax1.twinx()\n",
    "ax2.plot(litmodel.learning_rates, label=\"Learning Rate\", color=\"green\")\n",
    "ax2.set_ylabel(\"Learning Rate\")\n",
    "ax2.legend(loc=\"upper right\")\n",
    "\n",
    "plt.title(\"Training/Validation Loss and Learning Rate\")\n",
    "plt.tight_layout()\n",
    "plt.grid(True)\n",
    "plt.show()"
   ]
  },
  {
   "cell_type": "code",
   "execution_count": 18,
   "id": "12848dbc-0678-43d4-a13b-12ce7be0a4a7",
   "metadata": {},
   "outputs": [
    {
     "data": {
      "image/png": "[encoded data removed]",
      "text/plain": [
       "<Figure size 1000x600 with 1 Axes>"
      ]
     },
     "metadata": {},
     "output_type": "display_data"
    }
   ],
   "source": [
    "plt.figure(figsize=(10, 6))\n",
    "plt.plot(litmodel.train_accuracy, color=\"blue\")\n",
    "plt.scatter(litmodel.val_steps, litmodel.val_accuracy, color=\"red\")\n",
    "plt.xlabel(\"Training Step\")\n",
    "plt.ylabel(\"Accuracy\")\n",
    "plt.grid(True)\n",
    "plt.ylim(0, 1)\n",
    "plt.show()"
   ]
  },
  {
   "cell_type": "code",
   "execution_count": null,
   "id": "4e1c344a-57df-4d89-9369-b177fb873022",
   "metadata": {},
   "outputs": [],
   "source": []
  },
  {
   "cell_type": "code",
   "execution_count": null,
   "id": "a9dd0a0a-0864-4340-83e0-906c65ea6a71",
   "metadata": {},
   "outputs": [],
   "source": []
  },
  {
   "cell_type": "code",
   "execution_count": 19,
   "id": "687d2c30-2a2c-480c-b2c9-568372d957d0",
   "metadata": {},
   "outputs": [],
   "source": [
    "from tokenizers import Tokenizer"
   ]
  },
  {
   "cell_type": "code",
   "execution_count": 20,
   "id": "47a312c6-dfc5-4a71-9599-67384fa7375e",
   "metadata": {},
   "outputs": [],
   "source": [
    "tokenizer = Tokenizer.from_file(\"./TinyStories_tokenizer.json\")"
   ]
  },
  {
   "cell_type": "code",
   "execution_count": 21,
   "id": "6cdae804-8fc1-4e23-b02f-ef2afa908114",
   "metadata": {},
   "outputs": [],
   "source": [
    "from tokenizers import decoders\n",
    "tokenizer.decoder = decoders.WordPiece()"
   ]
  },
  {
   "cell_type": "code",
   "execution_count": 22,
   "id": "16bee019-4f49-486f-a0eb-de85fb46de5e",
   "metadata": {},
   "outputs": [],
   "source": [
    "from components.generatetext import generate_text"
   ]
  },
  {
   "cell_type": "code",
   "execution_count": null,
   "id": "00ee44a9-13ed-474b-ae31-363895177b59",
   "metadata": {},
   "outputs": [],
   "source": []
  },
  {
   "cell_type": "code",
   "execution_count": 23,
   "id": "9e03bec4-4b3d-4c44-96fa-79ce95b73979",
   "metadata": {
    "scrolled": true
   },
   "outputs": [
    {
     "data": {
      "text/plain": [
       "GPTModel_v2(\n",
       "  (tok_emb): Embedding(30002, 512)\n",
       "  (pos_emb): Embedding(256, 512)\n",
       "  (drop_emb): Dropout(p=0.0, inplace=False)\n",
       "  (trf_blocks): Sequential(\n",
       "    (0): TransformerBlock_v2(\n",
       "      (att): MultiHeadAttention_v2(\n",
       "        (W_query): Linear(in_features=512, out_features=512, bias=False)\n",
       "        (W_key): Linear(in_features=512, out_features=512, bias=False)\n",
       "        (W_value): Linear(in_features=512, out_features=512, bias=False)\n",
       "        (out_proj): Linear(in_features=512, out_features=512, bias=True)\n",
       "      )\n",
       "      (ff): FeedForward(\n",
       "        (layers): Sequential(\n",
       "          (0): Linear(in_features=512, out_features=2048, bias=True)\n",
       "          (1): GELU(approximate='none')\n",
       "          (2): Linear(in_features=2048, out_features=512, bias=True)\n",
       "        )\n",
       "      )\n",
       "      (norm1): LayerNorm((512,), eps=1e-05, elementwise_affine=True)\n",
       "      (norm2): LayerNorm((512,), eps=1e-05, elementwise_affine=True)\n",
       "      (drop_shortcut): Dropout(p=0.0, inplace=False)\n",
       "    )\n",
       "    (1): TransformerBlock_v2(\n",
       "      (att): MultiHeadAttention_v2(\n",
       "        (W_query): Linear(in_features=512, out_features=512, bias=False)\n",
       "        (W_key): Linear(in_features=512, out_features=512, bias=False)\n",
       "        (W_value): Linear(in_features=512, out_features=512, bias=False)\n",
       "        (out_proj): Linear(in_features=512, out_features=512, bias=True)\n",
       "      )\n",
       "      (ff): FeedForward(\n",
       "        (layers): Sequential(\n",
       "          (0): Linear(in_features=512, out_features=2048, bias=True)\n",
       "          (1): GELU(approximate='none')\n",
       "          (2): Linear(in_features=2048, out_features=512, bias=True)\n",
       "        )\n",
       "      )\n",
       "      (norm1): LayerNorm((512,), eps=1e-05, elementwise_affine=True)\n",
       "      (norm2): LayerNorm((512,), eps=1e-05, elementwise_affine=True)\n",
       "      (drop_shortcut): Dropout(p=0.0, inplace=False)\n",
       "    )\n",
       "    (2): TransformerBlock_v2(\n",
       "      (att): MultiHeadAttention_v2(\n",
       "        (W_query): Linear(in_features=512, out_features=512, bias=False)\n",
       "        (W_key): Linear(in_features=512, out_features=512, bias=False)\n",
       "        (W_value): Linear(in_features=512, out_features=512, bias=False)\n",
       "        (out_proj): Linear(in_features=512, out_features=512, bias=True)\n",
       "      )\n",
       "      (ff): FeedForward(\n",
       "        (layers): Sequential(\n",
       "          (0): Linear(in_features=512, out_features=2048, bias=True)\n",
       "          (1): GELU(approximate='none')\n",
       "          (2): Linear(in_features=2048, out_features=512, bias=True)\n",
       "        )\n",
       "      )\n",
       "      (norm1): LayerNorm((512,), eps=1e-05, elementwise_affine=True)\n",
       "      (norm2): LayerNorm((512,), eps=1e-05, elementwise_affine=True)\n",
       "      (drop_shortcut): Dropout(p=0.0, inplace=False)\n",
       "    )\n",
       "    (3): TransformerBlock_v2(\n",
       "      (att): MultiHeadAttention_v2(\n",
       "        (W_query): Linear(in_features=512, out_features=512, bias=False)\n",
       "        (W_key): Linear(in_features=512, out_features=512, bias=False)\n",
       "        (W_value): Linear(in_features=512, out_features=512, bias=False)\n",
       "        (out_proj): Linear(in_features=512, out_features=512, bias=True)\n",
       "      )\n",
       "      (ff): FeedForward(\n",
       "        (layers): Sequential(\n",
       "          (0): Linear(in_features=512, out_features=2048, bias=True)\n",
       "          (1): GELU(approximate='none')\n",
       "          (2): Linear(in_features=2048, out_features=512, bias=True)\n",
       "        )\n",
       "      )\n",
       "      (norm1): LayerNorm((512,), eps=1e-05, elementwise_affine=True)\n",
       "      (norm2): LayerNorm((512,), eps=1e-05, elementwise_affine=True)\n",
       "      (drop_shortcut): Dropout(p=0.0, inplace=False)\n",
       "    )\n",
       "  )\n",
       "  (final_norm): LayerNorm((512,), eps=1e-05, elementwise_affine=True)\n",
       "  (out_head): Linear(in_features=512, out_features=30002, bias=True)\n",
       "  (seq_layers): Sequential(\n",
       "    (0): Dropout(p=0.0, inplace=False)\n",
       "    (1): Sequential(\n",
       "      (0): TransformerBlock_v2(\n",
       "        (att): MultiHeadAttention_v2(\n",
       "          (W_query): Linear(in_features=512, out_features=512, bias=False)\n",
       "          (W_key): Linear(in_features=512, out_features=512, bias=False)\n",
       "          (W_value): Linear(in_features=512, out_features=512, bias=False)\n",
       "          (out_proj): Linear(in_features=512, out_features=512, bias=True)\n",
       "        )\n",
       "        (ff): FeedForward(\n",
       "          (layers): Sequential(\n",
       "            (0): Linear(in_features=512, out_features=2048, bias=True)\n",
       "            (1): GELU(approximate='none')\n",
       "            (2): Linear(in_features=2048, out_features=512, bias=True)\n",
       "          )\n",
       "        )\n",
       "        (norm1): LayerNorm((512,), eps=1e-05, elementwise_affine=True)\n",
       "        (norm2): LayerNorm((512,), eps=1e-05, elementwise_affine=True)\n",
       "        (drop_shortcut): Dropout(p=0.0, inplace=False)\n",
       "      )\n",
       "      (1): TransformerBlock_v2(\n",
       "        (att): MultiHeadAttention_v2(\n",
       "          (W_query): Linear(in_features=512, out_features=512, bias=False)\n",
       "          (W_key): Linear(in_features=512, out_features=512, bias=False)\n",
       "          (W_value): Linear(in_features=512, out_features=512, bias=False)\n",
       "          (out_proj): Linear(in_features=512, out_features=512, bias=True)\n",
       "        )\n",
       "        (ff): FeedForward(\n",
       "          (layers): Sequential(\n",
       "            (0): Linear(in_features=512, out_features=2048, bias=True)\n",
       "            (1): GELU(approximate='none')\n",
       "            (2): Linear(in_features=2048, out_features=512, bias=True)\n",
       "          )\n",
       "        )\n",
       "        (norm1): LayerNorm((512,), eps=1e-05, elementwise_affine=True)\n",
       "        (norm2): LayerNorm((512,), eps=1e-05, elementwise_affine=True)\n",
       "        (drop_shortcut): Dropout(p=0.0, inplace=False)\n",
       "      )\n",
       "      (2): TransformerBlock_v2(\n",
       "        (att): MultiHeadAttention_v2(\n",
       "          (W_query): Linear(in_features=512, out_features=512, bias=False)\n",
       "          (W_key): Linear(in_features=512, out_features=512, bias=False)\n",
       "          (W_value): Linear(in_features=512, out_features=512, bias=False)\n",
       "          (out_proj): Linear(in_features=512, out_features=512, bias=True)\n",
       "        )\n",
       "        (ff): FeedForward(\n",
       "          (layers): Sequential(\n",
       "            (0): Linear(in_features=512, out_features=2048, bias=True)\n",
       "            (1): GELU(approximate='none')\n",
       "            (2): Linear(in_features=2048, out_features=512, bias=True)\n",
       "          )\n",
       "        )\n",
       "        (norm1): LayerNorm((512,), eps=1e-05, elementwise_affine=True)\n",
       "        (norm2): LayerNorm((512,), eps=1e-05, elementwise_affine=True)\n",
       "        (drop_shortcut): Dropout(p=0.0, inplace=False)\n",
       "      )\n",
       "      (3): TransformerBlock_v2(\n",
       "        (att): MultiHeadAttention_v2(\n",
       "          (W_query): Linear(in_features=512, out_features=512, bias=False)\n",
       "          (W_key): Linear(in_features=512, out_features=512, bias=False)\n",
       "          (W_value): Linear(in_features=512, out_features=512, bias=False)\n",
       "          (out_proj): Linear(in_features=512, out_features=512, bias=True)\n",
       "        )\n",
       "        (ff): FeedForward(\n",
       "          (layers): Sequential(\n",
       "            (0): Linear(in_features=512, out_features=2048, bias=True)\n",
       "            (1): GELU(approximate='none')\n",
       "            (2): Linear(in_features=2048, out_features=512, bias=True)\n",
       "          )\n",
       "        )\n",
       "        (norm1): LayerNorm((512,), eps=1e-05, elementwise_affine=True)\n",
       "        (norm2): LayerNorm((512,), eps=1e-05, elementwise_affine=True)\n",
       "        (drop_shortcut): Dropout(p=0.0, inplace=False)\n",
       "      )\n",
       "    )\n",
       "    (2): LayerNorm((512,), eps=1e-05, elementwise_affine=True)\n",
       "    (3): Linear(in_features=512, out_features=30002, bias=True)\n",
       "  )\n",
       ")"
      ]
     },
     "execution_count": 23,
     "metadata": {},
     "output_type": "execute_result"
    }
   ],
   "source": [
    "device = torch.device(\"cuda\" if torch.cuda.is_available() else \"cpu\")\n",
    "litmodel.model.to(device)"
   ]
  },
  {
   "cell_type": "code",
   "execution_count": null,
   "id": "c238ebca-b2d2-45c5-bef5-053ceab0b528",
   "metadata": {},
   "outputs": [],
   "source": []
  },
  {
   "cell_type": "code",
   "execution_count": 24,
   "id": "e7a97d30-3c74-4192-9408-09b684fa9753",
   "metadata": {
    "scrolled": true
   },
   "outputs": [
    {
     "name": "stdout",
     "output_type": "stream",
     "text": [
      "text:  Tom and Jane are friends. One day, Jane goes to Tom ’ s house. Tom has a big pot of soup. He wants to share it with Jane. “ Jane, do you want some soup?” Tom asks. “ Yes, please. It looks yummy,” Jane says. Tom pours some soup into two bowls. He gives one bowl to Jane. Jane takes a spoonful of soup, but then she makes a face. The soup is the the the the moods the she compromised compromised assigned assigned addition assigned addition addition addition assigned assigned the moods the moods the moods Wonderland the she the she she she the the the moods Wonderland the moods moods the the moods moods Wonderland Wonderland the the she she she the she compromised compromised compromised assigned assigned the moods moods the she she compromised compromised assigned addition assigned assigned assigned the she she compromised compromised compromised compromised assigned the moods the the she the she she the moods the she she she the the she the moods moods moods moods moods the she she compromised she the moods the she compromised she compromised compromised assigned the she compromised assigned panics panics daylight assigned the moods the moods the she compromised she compromised she she the moods Wonderland the she she the moods the she she she compromised assigned panics assigned assigned the the moods moods moods moods Wonderland moods moods moods moods the she compromised she the moods the moods the she she compromised compromised she the she the the the moods Wonderland the moods the the moods Wonderland Wonderland Wonderland Wonderland moods moods the the she compromised she she she the she compromised assigned assigned the the the she the moods the she she she compromised she she compromised compromised compromised compromised assigned the the the she she the she the the she the she compromised assigned the moods moods moods Wonderland the the the moods Wonderland moods the moods moods the the she the moods moods moods moods the she compromised compromised compromised assigned panics daylight assigned panics panics daylight assigned the she compromised she compromised compromised assigned the moods the she she she compromised assigned the she she compromised assigned the the moods moods the moods the the moods Wonderland the moods Wonderland the she the she compromised assigned the the the moods Wonderland Wonderland Wonderland Wonderland moods Wonderland Wonderland moods moods the the she the she she moods Wonderland moods moods the moods moods the she she moods the the she the moods moods moods moods moods moods the she moods the the moods moods moods the the the moods moods the moods moods moods the the moods the the the moods Wonderland moods moods Wonderland the the the she moods moods the the the she the the she moods moods moods the the she the moods Wonderland moods Wonderland Wonderland moods moods moods moods Wonderland moods moods Wonderland the the she moods the the she moods moods the\n",
      "CPU times: user 3.81 s, sys: 130 ms, total: 3.94 s\n",
      "Wall time: 3.96 s\n"
     ]
    }
   ],
   "source": [
    "%%time\n",
    "litmodel.eval()\n",
    "starting_text = \"Tom and Jane are friends. One day, Jane goes to Tom’s house. Tom has a big pot of soup. He wants to share it with Jane. “Jane, do you want some soup?” Tom asks. “Yes, please. It looks yummy,” Jane says. Tom pours some soup into two bowls. He gives one bowl to Jane. Jane takes a spoonful of soup, but then she makes a face. The soup is\"\n",
    "text = generate_text(litmodel.model, tokenizer, starting_text, 512, device, topk=3, temperature=1)\n",
    "print(\"text: \", text)"
   ]
  },
  {
   "cell_type": "code",
   "execution_count": 25,
   "id": "ac9c0ad9-71fe-4330-871a-754e90bc3f23",
   "metadata": {
    "scrolled": true
   },
   "outputs": [
    {
     "name": "stdout",
     "output_type": "stream",
     "text": [
      "text:  Tom and Jane are friends. One day, Jane goes to Tom ’ s house. Tom has a big pot of soup. He wants to share it with Jane. “ Jane, do you want some soup?” Tom asks. “ Yes, please. It looks yummy,” Jane says. Tom pours some soup into two bowls. He gives one bowl to Jane. Jane takes a spoonful of soup, but then she makes a face. The soup is blazing the the she compromised compromised she the the moods moods Wonderland Wonderland moods the she she the she she compromised assigned addition slips assigned assigned the the the moods moods Wonderland Wonderland Wonderland moods Wonderland the she compromised she she the the she the the she the moods moods moods moods moods the she compromised assigned the she compromised she compromised compromised assigned the the moods the moods the she compromised compromised assigned assigned addition addition addition assigned the the moods the the she the she she compromised she compromised she compromised assigned assigned the she she she compromised she she she she she compromised assigned assigned panics daylight panics assigned assigned panics panics panics panics assigned the she compromised she she compromised assigned the the moods the she she the moods moods the she compromised compromised she the moods the she she the the she she compromised she she she compromised she she she she the moods moods Wonderland Wonderland Wonderland Wonderland moods moods Wonderland Wonderland moods Wonderland the the the the moods Wonderland Wonderland Wonderland the moods moods moods Wonderland Wonderland Wonderland the she compromised assigned assigned panics panics daylight assigned panics assigned the the she she the the the moods moods the she compromised compromised assigned the the moods moods moods the the moods moods the she she she the moods moods moods the she she she compromised assigned assigned assigned panics assigned the she compromised assigned the the she she compromised assigned panics panics panics assigned panics panics assigned panics assigned panics panics assigned panics daylight panics daylight assigned panics panics assigned the the she the the she compromised compromised compromised she the she she the the moods Wonderland moods moods Wonderland the she the the she the the she compromised she she the moods the she she the she the moods moods the moods the the moods the moods moods moods the the she the she she the the moods Wonderland moods the the she moods Wonderland the the the she moods Wonderland the moods moods the moods moods Wonderland Wonderland Wonderland Wonderland the moods Wonderland moods Wonderland Wonderland Wonderland Wonderland Wonderland Wonderland moods Wonderland moods the she moods Wonderland moods Wonderland Wonderland Wonderland moods the she the she moods the the the she moods the moods moods moods Wonderland Wonderland Wonderland the moods moods the she she the she the the moods the she moods moods moods moods Wonderland the moods the moods Wonderland the moods the she the she she she she she she the\n",
      "CPU times: user 3.74 s, sys: 82.8 ms, total: 3.83 s\n",
      "Wall time: 3.85 s\n"
     ]
    }
   ],
   "source": [
    "%%time\n",
    "litmodel.eval()\n",
    "starting_text = \"Tom and Jane are friends. One day, Jane goes to Tom’s house. Tom has a big pot of soup. He wants to share it with Jane. “Jane, do you want some soup?” Tom asks. “Yes, please. It looks yummy,” Jane says. Tom pours some soup into two bowls. He gives one bowl to Jane. Jane takes a spoonful of soup, but then she makes a face. The soup is\"\n",
    "text = generate_text(litmodel.model, tokenizer, starting_text, 512, device, topk=3, temperature=1)\n",
    "print(\"text: \", text)"
   ]
  },
  {
   "cell_type": "code",
   "execution_count": 26,
   "id": "574fe07f-981d-4a6c-a8c0-0bd27b2c4014",
   "metadata": {
    "scrolled": true
   },
   "outputs": [
    {
     "name": "stdout",
     "output_type": "stream",
     "text": [
      "text:  Tom and Jane are friends. One day, Jane goes to Tom ’ s house. Tom has a big pot of soup. He wants to share it with Jane. “ Jane, do you want some soup?” Tom asks. “ Yes, please. It looks yummy,” Jane says. Tom pours some soup into two bowls. He gives one bowl to Jane. Jane takes a spoonful of soup, but then she makes a face. The soup is blazing she the moods moods Wonderland Wonderland the moods the she the she the she compromised compromised she compromised assigned assigned the the moods moods moods Wonderland the the the she compromised she the moods the moods Wonderland the the she the the moods the she she she the she compromised compromised she the she the she the the moods moods Wonderland moods the the moods moods the the she she the she she the moods the the moods the she the moods Wonderland Wonderland moods moods the she she she compromised she she the the the she she the she the moods moods moods the the the moods the the moods moods Wonderland the the she she compromised she compromised assigned panics daylight assigned assigned the the moods moods Wonderland Wonderland the she she she the the moods the moods the she she the she the she compromised she the the the the the moods Wonderland Wonderland Wonderland the she compromised she she the she compromised assigned assigned panics panics assigned assigned the she she the she the she compromised compromised compromised she the she the moods Wonderland moods the the she she she compromised compromised she compromised assigned the the moods Wonderland moods the the moods moods the moods moods Wonderland the moods the she the she she compromised assigned the the the moods the the moods moods the the moods Wonderland moods the she she the she compromised she she she compromised compromised she she she she compromised assigned panics panics assigned the moods Wonderland the she compromised compromised she the the she she she she the the she she compromised assigned the she she compromised compromised she the the the moods the moods Wonderland Wonderland the moods moods the moods the moods Wonderland the moods Wonderland Wonderland moods Wonderland moods moods Wonderland the she compromised compromised compromised assigned panics daylight assigned the she compromised assigned panics panics panics panics assigned panics panics daylight daylight daylight panics daylight daylight daylight assigned the moods the the she the the moods the moods the the she the the moods moods Wonderland moods Wonderland the moods Wonderland the she the she moods the she she the moods moods Wonderland moods moods Wonderland Wonderland the she the moods Wonderland Wonderland the she moods moods Wonderland the the moods moods Wonderland the moods Wonderland the moods the she she she moods the the moods the moods moods moods moods the she moods moods Wonderland moods the moods moods moods moods Wonderland the the moods Wonderland\n",
      "CPU times: user 3.75 s, sys: 120 ms, total: 3.87 s\n",
      "Wall time: 3.86 s\n"
     ]
    }
   ],
   "source": [
    "%%time\n",
    "litmodel.eval()\n",
    "starting_text = \"Tom and Jane are friends. One day, Jane goes to Tom’s house. Tom has a big pot of soup. He wants to share it with Jane. “Jane, do you want some soup?” Tom asks. “Yes, please. It looks yummy,” Jane says. Tom pours some soup into two bowls. He gives one bowl to Jane. Jane takes a spoonful of soup, but then she makes a face. The soup is\"\n",
    "text = generate_text(litmodel.model, tokenizer, starting_text, 512, device, topk=3, temperature=1)\n",
    "print(\"text: \", text)"
   ]
  },
  {
   "cell_type": "code",
   "execution_count": 27,
   "id": "7ad7083a-63f2-4da5-abad-a9acd3f94414",
   "metadata": {
    "scrolled": true
   },
   "outputs": [
    {
     "name": "stdout",
     "output_type": "stream",
     "text": [
      "text:  Tom and Jane are friends. One day, Jane goes to Tom ’ s house. Tom has a big pot of soup. He wants to share it with Jane. “ Jane, do you want some soup?” Tom asks. “ Yes, please. It looks yummy,” Jane says. Tom pours some soup into two bowls. He gives one bowl to Jane. Jane takes a spoonful of soup, but then she makes a face. The soup is the she she the the the the moods moods moods Wonderland moods Wonderland Wonderland Wonderland moods Wonderland moods moods moods the she the moods Wonderland Wonderland moods Wonderland the she she the she she she compromised assigned addition slips slips slips assigned the the moods Wonderland Wonderland Wonderland the she compromised compromised she she the she she compromised she compromised she compromised assigned assigned assigned the moods Wonderland the she the the the moods the she the the moods moods moods Wonderland Wonderland Wonderland the the the moods moods moods Wonderland Wonderland moods Wonderland moods moods Wonderland moods the the the the the the moods moods moods Wonderland Wonderland the she she she the moods the she she she she she the the the she compromised she she compromised assigned panics panics assigned assigned panics daylight daylight assigned assigned assigned assigned assigned panics daylight assigned the she the moods Wonderland Wonderland moods moods moods Wonderland the the she compromised assigned assigned panics daylight daylight daylight daylight assigned assigned the she the she she the she she she compromised she she she she the moods the she the moods moods Wonderland moods Wonderland moods Wonderland Wonderland Wonderland Wonderland moods Wonderland moods Wonderland moods moods moods the moods moods moods Wonderland Wonderland the the moods Wonderland the she compromised she the the she the the she the moods Wonderland moods the moods the moods the she she she compromised compromised she compromised compromised assigned assigned assigned the she she moods the the she moods the she the she moods the she moods moods Wonderland Wonderland moods Wonderland Wonderland the the she the she she she she the moods moods moods moods moods the the the the she moods moods Wonderland Wonderland moods Wonderland Wonderland moods Wonderland moods moods Wonderland the she she the the moods moods moods Wonderland Wonderland the moods moods Wonderland moods moods finer finer the she the she the moods the moods moods moods moods moods moods finer finer the moods the the moods finer finer the the moods finer the the the she moods moods finer finer the the moods moods finer the she moods finer finer the the the the the moods the the the moods finer moods finer moods finer finer moods finer finer finer finer moods the the moods the the she the she she she she she she she moods finer moods the moods the she the moods moods moods moods finer the the she the the she she she the she the moods the moods the\n",
      "CPU times: user 3.84 s, sys: 64.6 ms, total: 3.9 s\n",
      "Wall time: 3.85 s\n"
     ]
    }
   ],
   "source": [
    "%%time\n",
    "litmodel.eval()\n",
    "starting_text = \"Tom and Jane are friends. One day, Jane goes to Tom’s house. Tom has a big pot of soup. He wants to share it with Jane. “Jane, do you want some soup?” Tom asks. “Yes, please. It looks yummy,” Jane says. Tom pours some soup into two bowls. He gives one bowl to Jane. Jane takes a spoonful of soup, but then she makes a face. The soup is\"\n",
    "text = generate_text(litmodel.model, tokenizer, starting_text, 512, device, topk=3, temperature=1)\n",
    "print(\"text: \", text)"
   ]
  },
  {
   "cell_type": "code",
   "execution_count": null,
   "id": "e300f101-ae6b-404b-bb31-5cba114fd537",
   "metadata": {},
   "outputs": [],
   "source": []
  }
 ],
 "metadata": {
  "kernelspec": {
   "display_name": "Python 3 (ipykernel)",
   "language": "python",
   "name": "python3"
  },
  "language_info": {
   "codemirror_mode": {
    "name": "ipython",
    "version": 3
   },
   "file_extension": ".py",
   "mimetype": "text/x-python",
   "name": "python",
   "nbconvert_exporter": "python",
   "pygments_lexer": "ipython3",
   "version": "3.12.9"
  }
 },
 "nbformat": 4,
 "nbformat_minor": 5
}
