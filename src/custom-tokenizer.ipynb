{
 "cells": [
  {
   "cell_type": "code",
   "execution_count": 1,
   "id": "1ef2aa57-c58b-4faa-9f2f-0ca9041446f2",
   "metadata": {},
   "outputs": [],
   "source": [
    "from tokenizers import Tokenizer\n",
    "from tokenizers.models import BPE\n",
    "\n",
    "tokenizer = Tokenizer(BPE())"
   ]
  },
  {
   "cell_type": "code",
   "execution_count": 2,
   "id": "91792a59-bb99-4ea0-aa5a-929d8ca1259b",
   "metadata": {},
   "outputs": [],
   "source": [
    "from tokenizers.pre_tokenizers import Whitespace\n",
    "\n",
    "tokenizer.pre_tokenizer = Whitespace()"
   ]
  },
  {
   "cell_type": "code",
   "execution_count": 3,
   "id": "74d51fce-c4ff-41f0-ac15-e42762f9e11d",
   "metadata": {},
   "outputs": [
    {
     "name": "stdout",
     "output_type": "stream",
     "text": [
      "\n",
      "\n",
      "\n",
      "CPU times: user 12min 4s, sys: 24.2 s, total: 12min 28s\n",
      "Wall time: 1min 10s\n"
     ]
    }
   ],
   "source": [
    "%%time\n",
    "\n",
    "from tokenizers.trainers import BpeTrainer\n",
    "\n",
    "data_folder = \"../data/TinyStories/\"\n",
    "files = [\n",
    "    data_folder + \"TinyStoriesV2-GPT4-train.txt\",\n",
    "    # data_folder + \"TinyStoriesV2-GPT4-valid.txt\",\n",
    "]\n",
    "\n",
    "trainer = BpeTrainer(special_tokens=[\"[UNK]\", \"[CLS]\", \"[SEP]\", \"[PAD]\", \"[MASK]\"])\n",
    "tokenizer.train(files=files, trainer=trainer)"
   ]
  },
  {
   "cell_type": "code",
   "execution_count": 4,
   "id": "9d548de2-a4d8-45a0-9cc8-b83c7b9f20ec",
   "metadata": {},
   "outputs": [
    {
     "name": "stdout",
     "output_type": "stream",
     "text": [
      "['Hello', ',', 'y', \"'\", 'all', '!', 'How', 'are', 'you', '?']\n"
     ]
    }
   ],
   "source": [
    "output = tokenizer.encode(\"Hello, y'all! How are you 😁 ?\")\n",
    "print(output.tokens)\n",
    "# [\"Hello\", \",\", \"y\", \"'\", \"all\", \"!\", \"How\", \"are\", \"you\", \"[UNK]\", \"?\"]"
   ]
  },
  {
   "cell_type": "code",
   "execution_count": 5,
   "id": "9db51d05-4d24-4626-b9cd-ef7c001befa3",
   "metadata": {},
   "outputs": [
    {
     "data": {
      "text/plain": [
       "30000"
      ]
     },
     "execution_count": 5,
     "metadata": {},
     "output_type": "execute_result"
    }
   ],
   "source": [
    "tokenizer.get_vocab_size()"
   ]
  },
  {
   "cell_type": "code",
   "execution_count": null,
   "id": "f2e442fb-a2ff-4f8f-9eda-648a92e14666",
   "metadata": {},
   "outputs": [],
   "source": []
  },
  {
   "cell_type": "code",
   "execution_count": 16,
   "id": "968ce8c6-9d09-47d7-a447-e680bfdb273d",
   "metadata": {},
   "outputs": [
    {
     "name": "stdout",
     "output_type": "stream",
     "text": [
      "CPU times: user 62.8 ms, sys: 31.4 ms, total: 94.2 ms\n",
      "Wall time: 90 ms\n"
     ]
    }
   ],
   "source": [
    "%%time\n",
    "\n",
    "valid_file = \"../data/TinyStories/TinyStoriesV2-GPT4-valid.txt\"\n",
    "with open(valid_file, \"r\", encoding=\"utf-8\") as f:\n",
    "    valid_text = f.read()\n"
   ]
  },
  {
   "cell_type": "code",
   "execution_count": 17,
   "id": "a18b4954-d972-4d7c-a075-e145c95cd27d",
   "metadata": {},
   "outputs": [
    {
     "data": {
      "text/plain": [
       "'u don\\'t have to be scared of the loud dog, I\\'ll protect you\". The mole felt so safe with the little girl. She was very kind and the mole soon came to trust her. He leaned against her and she kept him safe. The mole had found his best friend.\\n<|endoftext|>\\nOnce upon a time, in a warm and sunny place, there was a big pit. A little boy named Tom liked to play near the pit. One day, Tom lost his red ball. He was very sad.\\nTom asked his friend, Sam, to help him search for the ball. They looked high and low, but they could not find the ball. Tom said, \"I think my ball fell into the pit.\"\\nSam and Tom went close to the pit. They were scared, but they wanted to find the red ball. They looked into the pit, but it was too dark to see. Tom said, \"We must go in and search for my ball.\"\\nThey went into the pit to search. It was dark and scary. They could not find the ball. They tried to get out, but the pit was too deep. Tom and Sam were stuck in the pit. They called for help, but no one could hear t'"
      ]
     },
     "execution_count": 17,
     "metadata": {},
     "output_type": "execute_result"
    }
   ],
   "source": [
    "valid_text[:1000]"
   ]
  },
  {
   "cell_type": "code",
   "execution_count": 8,
   "id": "d5f8ad74-6e5e-44a2-a189-eb2b9bb44120",
   "metadata": {},
   "outputs": [
    {
     "data": {
      "text/plain": [
       "2"
      ]
     },
     "execution_count": 8,
     "metadata": {},
     "output_type": "execute_result"
    }
   ],
   "source": [
    "tokenizer.add_special_tokens([\"<|endoftext|>\", \"\\n\"])"
   ]
  },
  {
   "cell_type": "code",
   "execution_count": 18,
   "id": "5370ed65-c928-4415-8889-f14c458ebe9c",
   "metadata": {},
   "outputs": [
    {
     "name": "stdout",
     "output_type": "stream",
     "text": [
      "['u', 'don', \"'\", 't', 'have', 'to', 'be', 'scared', 'of', 'the', 'loud', 'dog', ',', 'I', \"'\", 'll', 'protect', 'you', '\".', 'The', 'mole', 'felt', 'so', 'safe', 'with', 'the', 'little', 'girl', '.', 'She', 'was', 'very', 'kind', 'and', 'the', 'mole', 'soon', 'came', 'to', 'trust', 'her', '.', 'He', 'leaned', 'against', 'her', 'and', 'she', 'kept', 'him', 'safe', '.', 'The', 'mole', 'had', 'found', 'his', 'best', 'friend', '.', '\\n', '<|endoftext|>', '\\n', 'Once', 'upon', 'a', 'time', ',', 'in', 'a', 'warm', 'and', 'sunny', 'place', ',', 'there', 'was', 'a', 'big', 'pit', '.', 'A', 'little', 'boy', 'named', 'Tom', 'liked', 'to', 'play', 'near', 'the', 'pit', '.', 'One', 'day', ',', 'Tom', 'lost', 'his', 'red', 'ball', '.', 'He', 'was', 'very', 'sad', '.', '\\n', 'Tom', 'asked', 'his', 'friend', ',', 'Sam', ',', 'to', 'help', 'him', 'search', 'for', 'the', 'ball', '.', 'They', 'looked', 'high', 'and', 'low', ',', 'but', 'they', 'could', 'not', 'find', 'the', 'ball', '.', 'Tom', 'said', ',', '\"', 'I', 'think', 'my', 'ball', 'fell', 'into', 'the', 'pit', '.\"', '\\n', 'Sam', 'and', 'Tom', 'went', 'close', 'to', 'the', 'pit', '.', 'They', 'were', 'scared', ',', 'but', 'they', 'wanted', 'to', 'find', 'the', 'red', 'ball', '.', 'They', 'looked', 'into', 'the', 'pit', ',', 'but', 'it', 'was', 'too', 'dark', 'to', 'see', '.', 'Tom', 'said', ',', '\"', 'We', 'must', 'go', 'in', 'and', 'search', 'for', 'my', 'ball', '.\"', '\\n', 'They', 'went', 'into', 'the', 'pit', 'to', 'search', '.', 'It', 'was', 'dark', 'and', 'scary', '.', 'They', 'could', 'not', 'find', 'the', 'ball', '.', 'They', 'tried', 'to', 'get', 'out', ',', 'but', 'the', 'pit', 'was', 'too', 'deep', '.', 'Tom', 'and', 'Sam', 'were', 'stuck', 'in', 'the', 'pit', '.', 'They', 'called', 'for', 'help', ',', 'but', 'no', 'one', 'could', 'hear', 't']\n"
     ]
    }
   ],
   "source": [
    "output = tokenizer.encode(valid_text[:1000])\n",
    "print(output.tokens)\n",
    "# [\"Hello\", \",\", \"y\", \"'\", \"all\", \"!\", \"How\", \"are\", \"you\", \"[UNK]\", \"?\"]"
   ]
  },
  {
   "cell_type": "code",
   "execution_count": null,
   "id": "92d4c1ec-75e0-4601-a61b-02db737dbd9a",
   "metadata": {},
   "outputs": [],
   "source": []
  },
  {
   "cell_type": "code",
   "execution_count": 10,
   "id": "76f8a458-1a6a-4df3-965c-ff7bc80bbe84",
   "metadata": {},
   "outputs": [],
   "source": [
    "tokenizer.save(\"TinyStories_tokenizer.json\")"
   ]
  },
  {
   "cell_type": "code",
   "execution_count": 11,
   "id": "6a3337f3-d4e4-421b-a749-4912557d7d01",
   "metadata": {},
   "outputs": [
    {
     "data": {
      "text/plain": [
       "Tokenizer(version=\"1.0\", truncation=None, padding=None, added_tokens=[{\"id\":0, \"content\":\"[UNK]\", \"single_word\":False, \"lstrip\":False, \"rstrip\":False, \"normalized\":False, \"special\":True}, {\"id\":1, \"content\":\"[CLS]\", \"single_word\":False, \"lstrip\":False, \"rstrip\":False, \"normalized\":False, \"special\":True}, {\"id\":2, \"content\":\"[SEP]\", \"single_word\":False, \"lstrip\":False, \"rstrip\":False, \"normalized\":False, \"special\":True}, {\"id\":3, \"content\":\"[PAD]\", \"single_word\":False, \"lstrip\":False, \"rstrip\":False, \"normalized\":False, \"special\":True}, {\"id\":4, \"content\":\"[MASK]\", \"single_word\":False, \"lstrip\":False, \"rstrip\":False, \"normalized\":False, \"special\":True}, {\"id\":30000, \"content\":\"<|endoftext|>\", \"single_word\":False, \"lstrip\":False, \"rstrip\":False, \"normalized\":False, \"special\":True}, {\"id\":30001, \"content\":\"\n",
       "\", \"single_word\":False, \"lstrip\":False, \"rstrip\":False, \"normalized\":False, \"special\":True}], normalizer=None, pre_tokenizer=Whitespace(), post_processor=None, decoder=None, model=BPE(dropout=None, unk_token=None, continuing_subword_prefix=None, end_of_word_suffix=None, fuse_unk=False, byte_fallback=False, ignore_merges=False, vocab={\"[UNK]\":0, \"[CLS]\":1, \"[SEP]\":2, \"[PAD]\":3, \"[MASK]\":4, \"!\":5, \"\"\":6, \"#\":7, \"$\":8, \"%\":9, \"&\":10, \"'\":11, \"(\":12, \")\":13, \"*\":14, \"+\":15, \",\":16, \"-\":17, \".\":18, \"/\":19, \"0\":20, \"1\":21, \"2\":22, \"3\":23, \"4\":24, \"5\":25, \"6\":26, \"7\":27, \"8\":28, \"9\":29, \":\":30, \";\":31, \"<\":32, \"=\":33, \">\":34, \"?\":35, \"@\":36, \"A\":37, \"B\":38, \"C\":39, \"D\":40, \"E\":41, \"F\":42, \"G\":43, \"H\":44, \"I\":45, \"J\":46, \"K\":47, \"L\":48, \"M\":49, \"N\":50, \"O\":51, \"P\":52, \"Q\":53, \"R\":54, \"S\":55, \"T\":56, \"U\":57, \"V\":58, \"W\":59, \"X\":60, \"Y\":61, \"Z\":62, \"[\":63, \"\\\":64, \"]\":65, \"_\":66, \"`\":67, \"a\":68, \"b\":69, \"c\":70, \"d\":71, \"e\":72, \"f\":73, \"g\":74, \"h\":75, \"i\":76, \"j\":77, \"k\":78, \"l\":79, \"m\":80, \"n\":81, \"o\":82, \"p\":83, \"q\":84, \"r\":85, \"s\":86, \"t\":87, \"u\":88, \"v\":89, \"w\":90, \"x\":91, \"y\":92, \"z\":93, \"{\":94, \"|\":95, \"}\":96, \"~\":97, \"\":98, ...}, merges=[(\"h\", \"e\"), (\"a\", \"n\"), (\"t\", \"he\"), (\"e\", \"d\"), (\"t\", \"o\"), (\"an\", \"d\"), (\"i\", \"n\"), (\"r\", \"e\"), (\"i\", \"t\"), (\"w\", \"a\"), (\"o\", \"u\"), (\"e\", \"n\"), (\"h\", \"a\"), (\"T\", \"he\"), (\"e\", \"r\"), (\"wa\", \"s\"), (\"a\", \"y\"), (\"o\", \"m\"), (\"i\", \"s\"), (\"a\", \"r\"), (\"o\", \"n\"), (\"i\", \"m\"), (\"s\", \"a\"), (\"i\", \"d\"), (\"l\", \"l\"), (\"l\", \"e\"), (\"in\", \"g\"), (\"en\", \"d\"), (\"s\", \"t\"), (\"o\", \"t\"), (\"a\", \"m\"), (\"o\", \"r\"), (\"i\", \"r\"), (\"o\", \"f\"), (\"n\", \"e\"), (\"The\", \"y\"), (\"p\", \"l\"), (\"i\", \"g\"), (\"a\", \"t\"), (\"H\", \"e\"), (\"b\", \"e\"), (\"i\", \"l\"), (\"l\", \"o\"), (\"a\", \"ll\"), (\"r\", \"i\"), (\"v\", \"er\"), (\"h\", \"is\"), (\"d\", \"ay\"), (\"u\", \"t\"), (\"pl\", \"ay\"), (\"sa\", \"id\"), (\"T\", \"im\"), (\"it\", \"h\"), (\"s\", \"e\"), (\"w\", \"ith\"), (\"p\", \"p\"), (\"he\", \"r\"), (\"k\", \"ed\"), (\"o\", \"w\"), (\"c\", \"e\"), (\"u\", \"n\"), (\"k\", \"e\"), (\"S\", \"he\"), (\"ha\", \"t\"), (\"l\", \"d\"), (\"t\", \"h\"), (\"b\", \"ig\"), (\"y\", \"ou\"), (\"e\", \"x\"), (\"ver\", \"y\"), (\"t\", \"ed\"), (\"v\", \"e\"), (\"l\", \"i\"), (\"c\", \"k\"), (\"w\", \"e\"), (\"ha\", \"pp\"), (\"ri\", \"end\"), (\"f\", \"riend\"), (\"u\", \"p\"), (\"il\", \"y\"), (\"the\", \"y\"), (\"ha\", \"d\"), (\"a\", \"d\"), (\"of\", \"t\"), (\"n\", \"ot\"), (\"w\", \"an\"), (\"g\", \"e\"), (\"ex\", \"t\"), (\"it\", \"t\"), (\"<\", \"|\"), (\"|\", \">\"), (\"end\", \"oft\"), (\"endoft\", \"ext\"), (\"om\", \"e\"), (\"the\", \"r\"), (\"d\", \"o\"), (\"n\", \"d\"), (\"b\", \"o\"), (\"a\", \"l\"), ...]))"
      ]
     },
     "execution_count": 11,
     "metadata": {},
     "output_type": "execute_result"
    }
   ],
   "source": [
    "tokenizer.from_file(\"TinyStories_tokenizer.json\")"
   ]
  },
  {
   "cell_type": "code",
   "execution_count": 12,
   "id": "11997c82-0f6a-427e-a0cd-044ead9cd350",
   "metadata": {},
   "outputs": [
    {
     "name": "stdout",
     "output_type": "stream",
     "text": [
      "['Hello', ',', 'y', \"'\", 'all', '!', 'How', 'are', 'you', '?']\n"
     ]
    }
   ],
   "source": [
    "output = tokenizer.encode(\"Hello, y'all! How are you 😁 ?\")\n",
    "print(output.tokens)\n",
    "# [\"Hello\", \",\", \"y\", \"'\", \"all\", \"!\", \"How\", \"are\", \"you\", \"[UNK]\", \"?\"]"
   ]
  },
  {
   "cell_type": "code",
   "execution_count": null,
   "id": "9981ccf6-8aa6-4f02-b9bd-52dca827287c",
   "metadata": {},
   "outputs": [],
   "source": []
  },
  {
   "cell_type": "code",
   "execution_count": null,
   "id": "5ffc164e-dd84-4226-b831-c4255aaacd96",
   "metadata": {},
   "outputs": [],
   "source": []
  }
 ],
 "metadata": {
  "kernelspec": {
   "display_name": "Python 3 (ipykernel)",
   "language": "python",
   "name": "python3"
  },
  "language_info": {
   "codemirror_mode": {
    "name": "ipython",
    "version": 3
   },
   "file_extension": ".py",
   "mimetype": "text/x-python",
   "name": "python",
   "nbconvert_exporter": "python",
   "pygments_lexer": "ipython3",
   "version": "3.12.9"
  }
 },
 "nbformat": 4,
 "nbformat_minor": 5
}
