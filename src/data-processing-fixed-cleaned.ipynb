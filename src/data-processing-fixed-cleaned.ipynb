{
 "cells": [
  {
   "cell_type": "markdown",
   "id": "ad0cf107",
   "metadata": {},
   "source": [
    "this script processes text data into huggingface datasets and saves that to the disk.\n",
    "\n",
    "this script fixes the issue where hf dataset would split on paragraphs instead of whole stories. this script also loads the dataset directly from huggingface"
   ]
  },
  {
   "cell_type": "code",
   "execution_count": 1,
   "id": "e51df6a8",
   "metadata": {},
   "outputs": [
    {
     "name": "stdout",
     "output_type": "stream",
     "text": [
      "\u0000 \u0001 \u0002 \u0003 \u0004 \u0005 \u0006 \u0007 \t \n",
      " \u000e \u000f \u0010 \u0011 \u0012 \u0013 \u0014 \u0015 \u0016 \u0017 \u0018 \u0019 \u001a \u001b \u001c \u001d \u001e \u001f   ! \" # $ % & ' ( ) * + , - . / 0 1 2 3 4 5 6 7 8 9 : ; < = > ? @ A B C D E F G H I J K L M N O P Q R S T U V W X Y Z [ \\ ] ^ _ ` a b c d e f g h i j k l m n o p q r s t u v w x y z { | } ~  "
     ]
    }
   ],
   "source": [
    "# print chars with ord value < 127\n",
    "for i in range(128):\n",
    "    print(chr(i), end=' ')"
   ]
  },
  {
   "cell_type": "code",
   "execution_count": 2,
   "id": "a694d667",
   "metadata": {},
   "outputs": [
    {
     "name": "stdout",
     "output_type": "stream",
     "text": [
      "[0]\n"
     ]
    }
   ],
   "source": [
    "from tokenizers import Tokenizer\n",
    "\n",
    "# Load your tokenizer\n",
    "tokenizer = Tokenizer.from_file(\"./TinyStories_tokenizer_small_cleaned_BPE.json\")\n",
    "\n",
    "endoftext_token = tokenizer.encode(\"<|endoftext|>\").ids  # This is the end of text token\n",
    "print(endoftext_token)\n"
   ]
  },
  {
   "cell_type": "code",
   "execution_count": 3,
   "id": "1a0320f1",
   "metadata": {},
   "outputs": [
    {
     "name": "stderr",
     "output_type": "stream",
     "text": [
      "/home/gebrial/miniforge3/lib/python3.12/site-packages/tqdm/auto.py:21: TqdmWarning: IProgress not found. Please update jupyter and ipywidgets. See https://ipywidgets.readthedocs.io/en/stable/user_install.html\n",
      "  from .autonotebook import tqdm as notebook_tqdm\n"
     ]
    }
   ],
   "source": [
    "from datasets import load_dataset\n",
    "\n",
    "# load and split dataset into train and validation\n",
    "dataset = load_dataset(\"roneneldan/TinyStories\")"
   ]
  },
  {
   "cell_type": "code",
   "execution_count": 4,
   "id": "274463f2",
   "metadata": {},
   "outputs": [
    {
     "data": {
      "text/plain": [
       "{'train': 2, 'validation': 0}"
      ]
     },
     "execution_count": 4,
     "metadata": {},
     "output_type": "execute_result"
    }
   ],
   "source": [
    "dataset.cleanup_cache_files()"
   ]
  },
  {
   "cell_type": "code",
   "execution_count": 5,
   "id": "c508d643",
   "metadata": {},
   "outputs": [
    {
     "name": "stderr",
     "output_type": "stream",
     "text": [
      "Filter:   0%|          | 0/2119719 [00:00<?, ? examples/s]"
     ]
    },
    {
     "name": "stderr",
     "output_type": "stream",
     "text": [
      "Filter: 100%|██████████| 2119719/2119719 [00:23<00:00, 89273.02 examples/s]\n",
      "Filter: 100%|██████████| 21990/21990 [00:00<00:00, 99466.01 examples/s] \n"
     ]
    }
   ],
   "source": [
    "# delete any examples with none english characters\n",
    "def filter_func(example):\n",
    "    # remove shortest and longest 1% of stories\n",
    "    if len(example[\"text\"]) < 418 or len(example[\"text\"]) > 2505:\n",
    "        return False\n",
    "    for char in example[\"text\"]:\n",
    "        if ord(char) > 127:\n",
    "            return False\n",
    "    return True\n",
    "dataset = dataset.filter(filter_func)"
   ]
  },
  {
   "cell_type": "code",
   "execution_count": 6,
   "id": "e069c19d",
   "metadata": {},
   "outputs": [
    {
     "name": "stdout",
     "output_type": "stream",
     "text": [
      "Dataset size: 20350\n",
      "median length: 775.0\n",
      "mean length: 863.1555282555282\n",
      "stdev length: 331.29948451507494\n",
      "max length: 2504\n",
      "min length: 418\n",
      "CPU times: user 231 ms, sys: 10.5 ms, total: 241 ms\n",
      "Wall time: 223 ms\n"
     ]
    }
   ],
   "source": [
    "%%time\n",
    "\n",
    "import numpy as np\n",
    "# stats\n",
    "print(\"Dataset size:\", len(dataset[\"validation\"]))\n",
    "print(\"median length:\", np.median([len(x) for x in dataset[\"validation\"][\"text\"]]))\n",
    "print(\"mean length:\", np.mean([len(x) for x in dataset[\"validation\"][\"text\"]]))\n",
    "print(\"stdev length:\", np.std([len(x) for x in dataset[\"validation\"][\"text\"]]))\n",
    "print(\"max length:\", np.max([len(x) for x in dataset[\"validation\"][\"text\"]]))\n",
    "print(\"min length:\", np.min([len(x) for x in dataset[\"validation\"][\"text\"]]))"
   ]
  },
  {
   "cell_type": "code",
   "execution_count": 7,
   "id": "b56a3651",
   "metadata": {},
   "outputs": [
    {
     "name": "stdout",
     "output_type": "stream",
     "text": [
      "845574\n",
      "Once upon a time there was an old man and an old woman who loved each other very much. They lived in a little house with flowers around and a big tree in the backyard. Every day they enjoyed the beauty and the peacefulness of the place, however, things were not always peaceful.\n",
      "\n",
      "One day the old man and woman were walking in the garden and saw a shiny crystal on the ground. They got excited and ran to pick it up. But when they touched it, the crystal became very hot and suddenly magic started to happen! \n",
      "\n",
      "Suddenly a little girl with blonde hair appeared from inside the crystal. The old man and woman were very scared and asked the girl who she was. She said her name was Amy and explained that she was a princess from the magical kingdom inside the crystal. But unfortunately the old man had used too much of his strength to try and pick up the crystal, so he had broken it and now there was no way back home.\n",
      "\n",
      "Amy started to cry, but the old man and old woman said to her \"Don't be sad, Princess. Even when things don't happen the way you want you need to behave and be strong\". Then, the old woman found a way to repair the crystal with some magical words and the princess returned to her kingdom happily.\n",
      "\n",
      "The old man and old woman learned an important lesson that day: even when bad things happen, if you stay calm and show courage, you can find a\n"
     ]
    }
   ],
   "source": [
    "import random\n",
    "\n",
    "dataset_size = len(dataset[\"train\"])\n",
    "ind = random.randint(0, dataset_size)\n",
    "print(ind)\n",
    "print(dataset[\"train\"][ind][\"text\"])\n",
    "# print([char for char in dataset[\"train\"][ind][\"text\"] if ord(char) < 64])"
   ]
  },
  {
   "cell_type": "code",
   "execution_count": 8,
   "id": "c9d14549",
   "metadata": {},
   "outputs": [
    {
     "name": "stderr",
     "output_type": "stream",
     "text": [
      "Map (num_proc=23): 100%|██████████| 1949763/1949763 [00:31<00:00, 62528.32 examples/s]\n",
      "Map (num_proc=23): 100%|██████████| 20350/20350 [00:00<00:00, 52043.40 examples/s]\n"
     ]
    }
   ],
   "source": [
    "def tokenize_function(examples):\n",
    "    # Tokenize the batch\n",
    "    encodings = tokenizer.encode_batch_fast(examples[\"text\"])\n",
    "    \n",
    "    # Convert to dictionary format\n",
    "    return {\n",
    "        \"input_ids\": [encoding.ids + endoftext_token for encoding in encodings],\n",
    "        # \"predictions\": [encoding.ids[1:] + endoftext_token + endoftext_token for encoding in encodings],\n",
    "    }\n",
    "\n",
    "# Tokenize the dataset\n",
    "dataset = dataset.map(\n",
    "    tokenize_function,\n",
    "    batched=True,\n",
    "    remove_columns=[\"text\"],\n",
    "    num_proc=23\n",
    ")"
   ]
  },
  {
   "cell_type": "code",
   "execution_count": 9,
   "id": "1450511b",
   "metadata": {},
   "outputs": [
    {
     "name": "stdout",
     "output_type": "stream",
     "text": [
      "Dataset size: 20350\n",
      "mean length: 218.74216216216217\n",
      "stdev length: 91.11583688334093\n",
      "max length: 725\n",
      "min length: 90\n",
      "CPU times: user 3.03 s, sys: 74.7 ms, total: 3.11 s\n",
      "Wall time: 2.86 s\n"
     ]
    }
   ],
   "source": [
    "%%time\n",
    "\n",
    "import numpy as np\n",
    "# stats\n",
    "print(\"Dataset size:\", len(dataset[\"validation\"]))\n",
    "print(\"mean length:\", np.mean([len(x) for x in dataset[\"validation\"][\"input_ids\"]]))\n",
    "print(\"stdev length:\", np.std([len(x) for x in dataset[\"validation\"][\"input_ids\"]]))\n",
    "print(\"max length:\", np.max([len(x) for x in dataset[\"validation\"][\"input_ids\"]]))\n",
    "print(\"min length:\", np.min([len(x) for x in dataset[\"validation\"][\"input_ids\"]]))"
   ]
  },
  {
   "cell_type": "code",
   "execution_count": 10,
   "id": "72909609",
   "metadata": {},
   "outputs": [],
   "source": [
    "def pack_token_lists(stories, max_length=513):\n",
    "    \"\"\"\n",
    "    Packs token lists into batches without exceeding max_length.\n",
    "    \n",
    "    Args:\n",
    "        token_lists: List of lists of token IDs\n",
    "        max_length: Maximum allowed length for each batch (default: 513)\n",
    "    \n",
    "    Returns:\n",
    "        Dictionary with packed inputs no longer than max_length (not padded)\n",
    "    \"\"\"\n",
    "    # Sort token lists in descending order of length to improve packing efficiency\n",
    "    stories_len_sorted = sorted(stories[\"input_ids\"], key=len, reverse=True)\n",
    "    \n",
    "    inputs = []\n",
    "    token_positions = []\n",
    "    \n",
    "    for story in stories_len_sorted:\n",
    "        placed = False\n",
    "        story_length = len(story)\n",
    "\n",
    "        if story_length >= max_length:\n",
    "            # truncate the token list if it exceeds max_length\n",
    "            story = story[:max_length]\n",
    "            inputs.append(story)\n",
    "\n",
    "            # Add the positions of every token in the story\n",
    "            token_positions.append(list(range(len(story))))\n",
    "\n",
    "            placed = True\n",
    "            continue\n",
    "        \n",
    "        # iterate over both inputs and token_positions\n",
    "        for (input, position) in zip(inputs, token_positions):\n",
    "            input_length = len(input)\n",
    "            if input_length + story_length <= max_length:\n",
    "                # Extend the existing input with the new story\n",
    "                input.extend(story)\n",
    "                \n",
    "                # Update token positions\n",
    "                position.extend(list(range(story_length)))\n",
    "                \n",
    "                placed = True\n",
    "                break\n",
    "                \n",
    "        # If no existing batch can accommodate, create a new batch\n",
    "        if not placed:\n",
    "            inputs.append(story)\n",
    "            token_positions.append(list(range(len(story))))\n",
    "    \n",
    "    return {\n",
    "        \"packed_inputs\": inputs,\n",
    "        \"positions\": token_positions,\n",
    "    }\n"
   ]
  },
  {
   "cell_type": "code",
   "execution_count": 11,
   "id": "d181e9d6",
   "metadata": {},
   "outputs": [
    {
     "name": "stderr",
     "output_type": "stream",
     "text": [
      "Map: 100%|██████████| 1949763/1949763 [02:15<00:00, 14358.04 examples/s]\n",
      "Map: 100%|██████████| 20350/20350 [00:01<00:00, 16046.41 examples/s]\n"
     ]
    }
   ],
   "source": [
    "dataset = dataset.map(\n",
    "  pack_token_lists,\n",
    "  batched=True,\n",
    "  remove_columns=[\"input_ids\"],\n",
    "  num_proc=None,\n",
    ")"
   ]
  },
  {
   "cell_type": "code",
   "execution_count": 12,
   "id": "f5c665bf",
   "metadata": {},
   "outputs": [],
   "source": [
    "# pad inputs to max length\n",
    "def pad_sequences(example, max_length=513, padding_value=endoftext_token[0]):\n",
    "    \"\"\"\n",
    "    Pads sequences to a fixed length.\n",
    "    \n",
    "    Args:\n",
    "        examples: Dictionary containing packed inputs\n",
    "        max_length: Desired length for padding (default: 513)\n",
    "    \n",
    "    Returns:\n",
    "        Dictionary with padded sequences\n",
    "    \"\"\"\n",
    "    # Pad sequence to the specified max_length\n",
    "    sequence = example[\"packed_inputs\"]\n",
    "    padded_input = sequence + [padding_value] * (max_length - len(sequence)) if len(sequence) < max_length else sequence[:max_length]\n",
    "    positions = example[\"positions\"]\n",
    "    padded_positions = positions + [0] * (max_length - len(positions)) if len(positions) < max_length else positions[:max_length]\n",
    "\n",
    "    return {\n",
    "        \"input_ids\": padded_input,\n",
    "        \"padded_positions\": padded_positions,\n",
    "    }\n"
   ]
  },
  {
   "cell_type": "code",
   "execution_count": 13,
   "id": "5f3980b9",
   "metadata": {},
   "outputs": [
    {
     "name": "stderr",
     "output_type": "stream",
     "text": [
      "Map (num_proc=23): 100%|██████████| 901409/901409 [00:17<00:00, 52271.28 examples/s]\n",
      "Map (num_proc=23): 100%|██████████| 9140/9140 [00:00<00:00, 28980.75 examples/s]\n"
     ]
    }
   ],
   "source": [
    "dataset = dataset.map(\n",
    "  pad_sequences,\n",
    "  batched=False,\n",
    "  remove_columns=[\"packed_inputs\", \"positions\"],\n",
    "  num_proc=23,\n",
    ")"
   ]
  },
  {
   "cell_type": "code",
   "execution_count": 14,
   "id": "8e412ad3",
   "metadata": {},
   "outputs": [],
   "source": [
    "dataset.set_format(\"torch\")"
   ]
  },
  {
   "cell_type": "code",
   "execution_count": 15,
   "id": "3fbf8acc",
   "metadata": {},
   "outputs": [
    {
     "data": {
      "text/plain": [
       "DatasetDict({\n",
       "    train: Dataset({\n",
       "        features: ['input_ids', 'padded_positions'],\n",
       "        num_rows: 901409\n",
       "    })\n",
       "    validation: Dataset({\n",
       "        features: ['input_ids', 'padded_positions'],\n",
       "        num_rows: 9140\n",
       "    })\n",
       "})"
      ]
     },
     "execution_count": 15,
     "metadata": {},
     "output_type": "execute_result"
    }
   ],
   "source": [
    "dataset"
   ]
  },
  {
   "cell_type": "code",
   "execution_count": 16,
   "id": "a4c2ac1b",
   "metadata": {},
   "outputs": [],
   "source": [
    "import numpy as np\n",
    "\n",
    "# create square attention mask for sequence packed inputs\n",
    "def create_attention_mask(example, padding_value=endoftext_token[0]):\n",
    "    \"\"\"\n",
    "    Creates an attention mask for packed inputs.\n",
    "    \n",
    "    Args:\n",
    "        example: padded input example\n",
    "    \n",
    "    Returns:\n",
    "        Dictionary with attention masks\n",
    "    \"\"\"\n",
    "\n",
    "    # get indexes of padding tokens\n",
    "    input_ids = np.array(example[\"input_ids\"])\n",
    "    padding_indexes = np.where(input_ids == endoftext_token[0])[0]\n",
    "\n",
    "    # Create a square attention mask\n",
    "    # the attention mask should be 0 if there is a padding token between i and j and 1 otherwise\n",
    "    attention_mask = np.ones((len(input_ids), len(input_ids)), dtype=np.bool)\n",
    "    for padding_index in padding_indexes:\n",
    "        # each story delineated by a padding token\n",
    "        # set attention to 0 for all tokens outside of the story\n",
    "        attention_mask[:padding_index+1, padding_index+1:] = 0\n",
    "        attention_mask[padding_index+1:, :padding_index+1] = 0\n",
    "    \n",
    "    return {\n",
    "        \"packed_inputs\": example[\"input_ids\"],\n",
    "        \"attention_mask\": attention_mask,\n",
    "    }"
   ]
  },
  {
   "cell_type": "code",
   "execution_count": 17,
   "id": "2d41d281",
   "metadata": {},
   "outputs": [
    {
     "name": "stderr",
     "output_type": "stream",
     "text": [
      "Map (num_proc=23):   0%|          | 0/901409 [00:00<?, ? examples/s]/tmp/ipykernel_137315/3439229134.py:16: DeprecationWarning: __array__ implementation doesn't accept a copy keyword, so passing copy=False failed. __array__ must implement 'dtype' and 'copy' keyword arguments. To learn more, see the migration guide https://numpy.org/devdocs/numpy_2_0_migration_guide.html#adapting-to-changes-in-the-copy-keyword\n",
      "  input_ids = np.array(example[\"input_ids\"])\n",
      "/tmp/ipykernel_137315/3439229134.py:16: DeprecationWarning: __array__ implementation doesn't accept a copy keyword, so passing copy=False failed. __array__ must implement 'dtype' and 'copy' keyword arguments. To learn more, see the migration guide https://numpy.org/devdocs/numpy_2_0_migration_guide.html#adapting-to-changes-in-the-copy-keyword\n",
      "  input_ids = np.array(example[\"input_ids\"])\n",
      "/tmp/ipykernel_137315/3439229134.py:16: DeprecationWarning: __array__ implementation doesn't accept a copy keyword, so passing copy=False failed. __array__ must implement 'dtype' and 'copy' keyword arguments. To learn more, see the migration guide https://numpy.org/devdocs/numpy_2_0_migration_guide.html#adapting-to-changes-in-the-copy-keyword\n",
      "  input_ids = np.array(example[\"input_ids\"])\n",
      "/tmp/ipykernel_137315/3439229134.py:16: DeprecationWarning: __array__ implementation doesn't accept a copy keyword, so passing copy=False failed. __array__ must implement 'dtype' and 'copy' keyword arguments. To learn more, see the migration guide https://numpy.org/devdocs/numpy_2_0_migration_guide.html#adapting-to-changes-in-the-copy-keyword\n",
      "  input_ids = np.array(example[\"input_ids\"])\n",
      "/tmp/ipykernel_137315/3439229134.py:16: DeprecationWarning: __array__ implementation doesn't accept a copy keyword, so passing copy=False failed. __array__ must implement 'dtype' and 'copy' keyword arguments. To learn more, see the migration guide https://numpy.org/devdocs/numpy_2_0_migration_guide.html#adapting-to-changes-in-the-copy-keyword\n",
      "  input_ids = np.array(example[\"input_ids\"])\n",
      "/tmp/ipykernel_137315/3439229134.py:16: DeprecationWarning: __array__ implementation doesn't accept a copy keyword, so passing copy=False failed. __array__ must implement 'dtype' and 'copy' keyword arguments. To learn more, see the migration guide https://numpy.org/devdocs/numpy_2_0_migration_guide.html#adapting-to-changes-in-the-copy-keyword\n",
      "  input_ids = np.array(example[\"input_ids\"])\n",
      "/tmp/ipykernel_137315/3439229134.py:16: DeprecationWarning: __array__ implementation doesn't accept a copy keyword, so passing copy=False failed. __array__ must implement 'dtype' and 'copy' keyword arguments. To learn more, see the migration guide https://numpy.org/devdocs/numpy_2_0_migration_guide.html#adapting-to-changes-in-the-copy-keyword\n",
      "  input_ids = np.array(example[\"input_ids\"])\n",
      "/tmp/ipykernel_137315/3439229134.py:16: DeprecationWarning: __array__ implementation doesn't accept a copy keyword, so passing copy=False failed. __array__ must implement 'dtype' and 'copy' keyword arguments. To learn more, see the migration guide https://numpy.org/devdocs/numpy_2_0_migration_guide.html#adapting-to-changes-in-the-copy-keyword\n",
      "  input_ids = np.array(example[\"input_ids\"])\n",
      "/tmp/ipykernel_137315/3439229134.py:16: DeprecationWarning: __array__ implementation doesn't accept a copy keyword, so passing copy=False failed. __array__ must implement 'dtype' and 'copy' keyword arguments. To learn more, see the migration guide https://numpy.org/devdocs/numpy_2_0_migration_guide.html#adapting-to-changes-in-the-copy-keyword\n",
      "  input_ids = np.array(example[\"input_ids\"])\n",
      "/tmp/ipykernel_137315/3439229134.py:16: DeprecationWarning: __array__ implementation doesn't accept a copy keyword, so passing copy=False failed. __array__ must implement 'dtype' and 'copy' keyword arguments. To learn more, see the migration guide https://numpy.org/devdocs/numpy_2_0_migration_guide.html#adapting-to-changes-in-the-copy-keyword\n",
      "  input_ids = np.array(example[\"input_ids\"])\n",
      "/tmp/ipykernel_137315/3439229134.py:16: DeprecationWarning: __array__ implementation doesn't accept a copy keyword, so passing copy=False failed. __array__ must implement 'dtype' and 'copy' keyword arguments. To learn more, see the migration guide https://numpy.org/devdocs/numpy_2_0_migration_guide.html#adapting-to-changes-in-the-copy-keyword\n",
      "  input_ids = np.array(example[\"input_ids\"])\n",
      "/tmp/ipykernel_137315/3439229134.py:16: DeprecationWarning: __array__ implementation doesn't accept a copy keyword, so passing copy=False failed. __array__ must implement 'dtype' and 'copy' keyword arguments. To learn more, see the migration guide https://numpy.org/devdocs/numpy_2_0_migration_guide.html#adapting-to-changes-in-the-copy-keyword\n",
      "  input_ids = np.array(example[\"input_ids\"])\n",
      "/tmp/ipykernel_137315/3439229134.py:16: DeprecationWarning: __array__ implementation doesn't accept a copy keyword, so passing copy=False failed. __array__ must implement 'dtype' and 'copy' keyword arguments. To learn more, see the migration guide https://numpy.org/devdocs/numpy_2_0_migration_guide.html#adapting-to-changes-in-the-copy-keyword\n",
      "  input_ids = np.array(example[\"input_ids\"])\n",
      "/tmp/ipykernel_137315/3439229134.py:16: DeprecationWarning: __array__ implementation doesn't accept a copy keyword, so passing copy=False failed. __array__ must implement 'dtype' and 'copy' keyword arguments. To learn more, see the migration guide https://numpy.org/devdocs/numpy_2_0_migration_guide.html#adapting-to-changes-in-the-copy-keyword\n",
      "  input_ids = np.array(example[\"input_ids\"])\n",
      "/tmp/ipykernel_137315/3439229134.py:16: DeprecationWarning: __array__ implementation doesn't accept a copy keyword, so passing copy=False failed. __array__ must implement 'dtype' and 'copy' keyword arguments. To learn more, see the migration guide https://numpy.org/devdocs/numpy_2_0_migration_guide.html#adapting-to-changes-in-the-copy-keyword\n",
      "  input_ids = np.array(example[\"input_ids\"])\n",
      "/tmp/ipykernel_137315/3439229134.py:16: DeprecationWarning: __array__ implementation doesn't accept a copy keyword, so passing copy=False failed. __array__ must implement 'dtype' and 'copy' keyword arguments. To learn more, see the migration guide https://numpy.org/devdocs/numpy_2_0_migration_guide.html#adapting-to-changes-in-the-copy-keyword\n",
      "  input_ids = np.array(example[\"input_ids\"])\n",
      "/tmp/ipykernel_137315/3439229134.py:16: DeprecationWarning: __array__ implementation doesn't accept a copy keyword, so passing copy=False failed. __array__ must implement 'dtype' and 'copy' keyword arguments. To learn more, see the migration guide https://numpy.org/devdocs/numpy_2_0_migration_guide.html#adapting-to-changes-in-the-copy-keyword\n",
      "  input_ids = np.array(example[\"input_ids\"])\n",
      "/tmp/ipykernel_137315/3439229134.py:16: DeprecationWarning: __array__ implementation doesn't accept a copy keyword, so passing copy=False failed. __array__ must implement 'dtype' and 'copy' keyword arguments. To learn more, see the migration guide https://numpy.org/devdocs/numpy_2_0_migration_guide.html#adapting-to-changes-in-the-copy-keyword\n",
      "  input_ids = np.array(example[\"input_ids\"])\n",
      "/tmp/ipykernel_137315/3439229134.py:16: DeprecationWarning: __array__ implementation doesn't accept a copy keyword, so passing copy=False failed. __array__ must implement 'dtype' and 'copy' keyword arguments. To learn more, see the migration guide https://numpy.org/devdocs/numpy_2_0_migration_guide.html#adapting-to-changes-in-the-copy-keyword\n",
      "  input_ids = np.array(example[\"input_ids\"])\n",
      "/tmp/ipykernel_137315/3439229134.py:16: DeprecationWarning: __array__ implementation doesn't accept a copy keyword, so passing copy=False failed. __array__ must implement 'dtype' and 'copy' keyword arguments. To learn more, see the migration guide https://numpy.org/devdocs/numpy_2_0_migration_guide.html#adapting-to-changes-in-the-copy-keyword\n",
      "  input_ids = np.array(example[\"input_ids\"])\n",
      "/tmp/ipykernel_137315/3439229134.py:16: DeprecationWarning: __array__ implementation doesn't accept a copy keyword, so passing copy=False failed. __array__ must implement 'dtype' and 'copy' keyword arguments. To learn more, see the migration guide https://numpy.org/devdocs/numpy_2_0_migration_guide.html#adapting-to-changes-in-the-copy-keyword\n",
      "  input_ids = np.array(example[\"input_ids\"])\n",
      "/tmp/ipykernel_137315/3439229134.py:16: DeprecationWarning: __array__ implementation doesn't accept a copy keyword, so passing copy=False failed. __array__ must implement 'dtype' and 'copy' keyword arguments. To learn more, see the migration guide https://numpy.org/devdocs/numpy_2_0_migration_guide.html#adapting-to-changes-in-the-copy-keyword\n",
      "  input_ids = np.array(example[\"input_ids\"])\n",
      "Map (num_proc=23):   0%|          | 849/901409 [00:00<01:46, 8451.10 examples/s]/tmp/ipykernel_137315/3439229134.py:16: DeprecationWarning: __array__ implementation doesn't accept a copy keyword, so passing copy=False failed. __array__ must implement 'dtype' and 'copy' keyword arguments. To learn more, see the migration guide https://numpy.org/devdocs/numpy_2_0_migration_guide.html#adapting-to-changes-in-the-copy-keyword\n",
      "  input_ids = np.array(example[\"input_ids\"])\n",
      "Map (num_proc=23): 100%|██████████| 901409/901409 [00:56<00:00, 15966.56 examples/s]\n",
      "Map (num_proc=23):   0%|          | 0/9140 [00:00<?, ? examples/s]/tmp/ipykernel_137315/3439229134.py:16: DeprecationWarning: __array__ implementation doesn't accept a copy keyword, so passing copy=False failed. __array__ must implement 'dtype' and 'copy' keyword arguments. To learn more, see the migration guide https://numpy.org/devdocs/numpy_2_0_migration_guide.html#adapting-to-changes-in-the-copy-keyword\n",
      "  input_ids = np.array(example[\"input_ids\"])\n",
      "/tmp/ipykernel_137315/3439229134.py:16: DeprecationWarning: __array__ implementation doesn't accept a copy keyword, so passing copy=False failed. __array__ must implement 'dtype' and 'copy' keyword arguments. To learn more, see the migration guide https://numpy.org/devdocs/numpy_2_0_migration_guide.html#adapting-to-changes-in-the-copy-keyword\n",
      "  input_ids = np.array(example[\"input_ids\"])\n",
      "/tmp/ipykernel_137315/3439229134.py:16: DeprecationWarning: __array__ implementation doesn't accept a copy keyword, so passing copy=False failed. __array__ must implement 'dtype' and 'copy' keyword arguments. To learn more, see the migration guide https://numpy.org/devdocs/numpy_2_0_migration_guide.html#adapting-to-changes-in-the-copy-keyword\n",
      "  input_ids = np.array(example[\"input_ids\"])\n",
      "/tmp/ipykernel_137315/3439229134.py:16: DeprecationWarning: __array__ implementation doesn't accept a copy keyword, so passing copy=False failed. __array__ must implement 'dtype' and 'copy' keyword arguments. To learn more, see the migration guide https://numpy.org/devdocs/numpy_2_0_migration_guide.html#adapting-to-changes-in-the-copy-keyword\n",
      "  input_ids = np.array(example[\"input_ids\"])\n",
      "/tmp/ipykernel_137315/3439229134.py:16: DeprecationWarning: __array__ implementation doesn't accept a copy keyword, so passing copy=False failed. __array__ must implement 'dtype' and 'copy' keyword arguments. To learn more, see the migration guide https://numpy.org/devdocs/numpy_2_0_migration_guide.html#adapting-to-changes-in-the-copy-keyword\n",
      "  input_ids = np.array(example[\"input_ids\"])\n",
      "/tmp/ipykernel_137315/3439229134.py:16: DeprecationWarning: __array__ implementation doesn't accept a copy keyword, so passing copy=False failed. __array__ must implement 'dtype' and 'copy' keyword arguments. To learn more, see the migration guide https://numpy.org/devdocs/numpy_2_0_migration_guide.html#adapting-to-changes-in-the-copy-keyword\n",
      "  input_ids = np.array(example[\"input_ids\"])\n",
      "/tmp/ipykernel_137315/3439229134.py:16: DeprecationWarning: __array__ implementation doesn't accept a copy keyword, so passing copy=False failed. __array__ must implement 'dtype' and 'copy' keyword arguments. To learn more, see the migration guide https://numpy.org/devdocs/numpy_2_0_migration_guide.html#adapting-to-changes-in-the-copy-keyword\n",
      "  input_ids = np.array(example[\"input_ids\"])\n",
      "/tmp/ipykernel_137315/3439229134.py:16: DeprecationWarning: __array__ implementation doesn't accept a copy keyword, so passing copy=False failed. __array__ must implement 'dtype' and 'copy' keyword arguments. To learn more, see the migration guide https://numpy.org/devdocs/numpy_2_0_migration_guide.html#adapting-to-changes-in-the-copy-keyword\n",
      "  input_ids = np.array(example[\"input_ids\"])\n",
      "/tmp/ipykernel_137315/3439229134.py:16: DeprecationWarning: __array__ implementation doesn't accept a copy keyword, so passing copy=False failed. __array__ must implement 'dtype' and 'copy' keyword arguments. To learn more, see the migration guide https://numpy.org/devdocs/numpy_2_0_migration_guide.html#adapting-to-changes-in-the-copy-keyword\n",
      "  input_ids = np.array(example[\"input_ids\"])\n",
      "/tmp/ipykernel_137315/3439229134.py:16: DeprecationWarning: __array__ implementation doesn't accept a copy keyword, so passing copy=False failed. __array__ must implement 'dtype' and 'copy' keyword arguments. To learn more, see the migration guide https://numpy.org/devdocs/numpy_2_0_migration_guide.html#adapting-to-changes-in-the-copy-keyword\n",
      "  input_ids = np.array(example[\"input_ids\"])\n",
      "/tmp/ipykernel_137315/3439229134.py:16: DeprecationWarning: __array__ implementation doesn't accept a copy keyword, so passing copy=False failed. __array__ must implement 'dtype' and 'copy' keyword arguments. To learn more, see the migration guide https://numpy.org/devdocs/numpy_2_0_migration_guide.html#adapting-to-changes-in-the-copy-keyword\n",
      "  input_ids = np.array(example[\"input_ids\"])\n",
      "/tmp/ipykernel_137315/3439229134.py:16: DeprecationWarning: __array__ implementation doesn't accept a copy keyword, so passing copy=False failed. __array__ must implement 'dtype' and 'copy' keyword arguments. To learn more, see the migration guide https://numpy.org/devdocs/numpy_2_0_migration_guide.html#adapting-to-changes-in-the-copy-keyword\n",
      "  input_ids = np.array(example[\"input_ids\"])\n",
      "/tmp/ipykernel_137315/3439229134.py:16: DeprecationWarning: __array__ implementation doesn't accept a copy keyword, so passing copy=False failed. __array__ must implement 'dtype' and 'copy' keyword arguments. To learn more, see the migration guide https://numpy.org/devdocs/numpy_2_0_migration_guide.html#adapting-to-changes-in-the-copy-keyword\n",
      "  input_ids = np.array(example[\"input_ids\"])\n",
      "/tmp/ipykernel_137315/3439229134.py:16: DeprecationWarning: __array__ implementation doesn't accept a copy keyword, so passing copy=False failed. __array__ must implement 'dtype' and 'copy' keyword arguments. To learn more, see the migration guide https://numpy.org/devdocs/numpy_2_0_migration_guide.html#adapting-to-changes-in-the-copy-keyword\n",
      "  input_ids = np.array(example[\"input_ids\"])\n",
      "/tmp/ipykernel_137315/3439229134.py:16: DeprecationWarning: __array__ implementation doesn't accept a copy keyword, so passing copy=False failed. __array__ must implement 'dtype' and 'copy' keyword arguments. To learn more, see the migration guide https://numpy.org/devdocs/numpy_2_0_migration_guide.html#adapting-to-changes-in-the-copy-keyword\n",
      "  input_ids = np.array(example[\"input_ids\"])\n",
      "/tmp/ipykernel_137315/3439229134.py:16: DeprecationWarning: __array__ implementation doesn't accept a copy keyword, so passing copy=False failed. __array__ must implement 'dtype' and 'copy' keyword arguments. To learn more, see the migration guide https://numpy.org/devdocs/numpy_2_0_migration_guide.html#adapting-to-changes-in-the-copy-keyword\n",
      "  input_ids = np.array(example[\"input_ids\"])\n",
      "/tmp/ipykernel_137315/3439229134.py:16: DeprecationWarning: __array__ implementation doesn't accept a copy keyword, so passing copy=False failed. __array__ must implement 'dtype' and 'copy' keyword arguments. To learn more, see the migration guide https://numpy.org/devdocs/numpy_2_0_migration_guide.html#adapting-to-changes-in-the-copy-keyword\n",
      "  input_ids = np.array(example[\"input_ids\"])\n",
      "/tmp/ipykernel_137315/3439229134.py:16: DeprecationWarning: __array__ implementation doesn't accept a copy keyword, so passing copy=False failed. __array__ must implement 'dtype' and 'copy' keyword arguments. To learn more, see the migration guide https://numpy.org/devdocs/numpy_2_0_migration_guide.html#adapting-to-changes-in-the-copy-keyword\n",
      "  input_ids = np.array(example[\"input_ids\"])\n",
      "/tmp/ipykernel_137315/3439229134.py:16: DeprecationWarning: __array__ implementation doesn't accept a copy keyword, so passing copy=False failed. __array__ must implement 'dtype' and 'copy' keyword arguments. To learn more, see the migration guide https://numpy.org/devdocs/numpy_2_0_migration_guide.html#adapting-to-changes-in-the-copy-keyword\n",
      "  input_ids = np.array(example[\"input_ids\"])\n",
      "/tmp/ipykernel_137315/3439229134.py:16: DeprecationWarning: __array__ implementation doesn't accept a copy keyword, so passing copy=False failed. __array__ must implement 'dtype' and 'copy' keyword arguments. To learn more, see the migration guide https://numpy.org/devdocs/numpy_2_0_migration_guide.html#adapting-to-changes-in-the-copy-keyword\n",
      "  input_ids = np.array(example[\"input_ids\"])\n",
      "/tmp/ipykernel_137315/3439229134.py:16: DeprecationWarning: __array__ implementation doesn't accept a copy keyword, so passing copy=False failed. __array__ must implement 'dtype' and 'copy' keyword arguments. To learn more, see the migration guide https://numpy.org/devdocs/numpy_2_0_migration_guide.html#adapting-to-changes-in-the-copy-keyword\n",
      "  input_ids = np.array(example[\"input_ids\"])\n",
      "Map (num_proc=23):   0%|          | 15/9140 [00:00<01:01, 148.93 examples/s]/tmp/ipykernel_137315/3439229134.py:16: DeprecationWarning: __array__ implementation doesn't accept a copy keyword, so passing copy=False failed. __array__ must implement 'dtype' and 'copy' keyword arguments. To learn more, see the migration guide https://numpy.org/devdocs/numpy_2_0_migration_guide.html#adapting-to-changes-in-the-copy-keyword\n",
      "  input_ids = np.array(example[\"input_ids\"])\n",
      "/tmp/ipykernel_137315/3439229134.py:16: DeprecationWarning: __array__ implementation doesn't accept a copy keyword, so passing copy=False failed. __array__ must implement 'dtype' and 'copy' keyword arguments. To learn more, see the migration guide https://numpy.org/devdocs/numpy_2_0_migration_guide.html#adapting-to-changes-in-the-copy-keyword\n",
      "  input_ids = np.array(example[\"input_ids\"])\n",
      "Map (num_proc=23): 100%|██████████| 9140/9140 [00:01<00:00, 8638.05 examples/s] \n"
     ]
    }
   ],
   "source": [
    "dataset = dataset.map(\n",
    "    create_attention_mask,\n",
    "    batched=False,\n",
    "    remove_columns=[\"input_ids\"],\n",
    "    num_proc=23,\n",
    ")"
   ]
  },
  {
   "cell_type": "code",
   "execution_count": 18,
   "id": "0eccbc7a",
   "metadata": {},
   "outputs": [
    {
     "name": "stderr",
     "output_type": "stream",
     "text": [
      "Saving the dataset (78/78 shards): 100%|██████████| 901409/901409 [01:04<00:00, 13928.42 examples/s]\n",
      "Saving the dataset (1/1 shards): 100%|██████████| 9140/9140 [00:00<00:00, 21741.04 examples/s]\n"
     ]
    }
   ],
   "source": [
    "dataset.save_to_disk(\"packed_dataset_with_mask_smallVocab_cleaned_BPE\")"
   ]
  },
  {
   "cell_type": "code",
   "execution_count": 19,
   "id": "120e2a6e",
   "metadata": {},
   "outputs": [],
   "source": [
    "# Usage:\n",
    "\n",
    "from datasets import load_from_disk\n",
    "packed_dataset = load_from_disk(\"packed_dataset_with_mask_smallVocab_cleaned_BPE\")\n",
    "packed_dataset.set_format('torch')\n",
    "\n",
    "from torch.utils.data import DataLoader\n",
    "# Create DataLoader\n",
    "dataloader_train = DataLoader(packed_dataset[\"train\"], batch_size=1, shuffle=True)\n",
    "dataloader_valid = DataLoader(packed_dataset[\"validation\"], batch_size=1, shuffle=False)\n"
   ]
  },
  {
   "cell_type": "code",
   "execution_count": 20,
   "id": "a6d7bd8e",
   "metadata": {},
   "outputs": [],
   "source": [
    "# look at the first batch\n",
    "for input in dataloader_train:\n",
    "    first_batch = input\n",
    "    break"
   ]
  },
  {
   "cell_type": "code",
   "execution_count": 21,
   "id": "7d018431",
   "metadata": {},
   "outputs": [
    {
     "data": {
      "text/plain": [
       "{'padded_positions': tensor([[  0,   1,   2,   3,   4,   5,   6,   7,   8,   9,  10,  11,  12,  13,\n",
       "           14,  15,  16,  17,  18,  19,  20,  21,  22,  23,  24,  25,  26,  27,\n",
       "           28,  29,  30,  31,  32,  33,  34,  35,  36,  37,  38,  39,  40,  41,\n",
       "           42,  43,  44,  45,  46,  47,  48,  49,  50,  51,  52,  53,  54,  55,\n",
       "           56,  57,  58,  59,  60,  61,  62,  63,  64,  65,  66,  67,  68,  69,\n",
       "           70,  71,  72,  73,  74,  75,  76,  77,  78,  79,  80,  81,  82,  83,\n",
       "           84,  85,  86,  87,  88,  89,  90,  91,  92,  93,  94,  95,  96,  97,\n",
       "           98,  99, 100, 101, 102, 103, 104, 105, 106, 107, 108, 109, 110, 111,\n",
       "          112, 113, 114, 115, 116, 117, 118, 119, 120, 121, 122, 123, 124, 125,\n",
       "          126, 127, 128, 129, 130, 131, 132, 133, 134, 135, 136, 137, 138, 139,\n",
       "          140, 141, 142, 143, 144, 145, 146, 147, 148, 149, 150, 151, 152, 153,\n",
       "          154, 155, 156, 157, 158, 159, 160, 161, 162, 163, 164, 165, 166, 167,\n",
       "          168, 169, 170, 171, 172, 173,   0,   1,   2,   3,   4,   5,   6,   7,\n",
       "            8,   9,  10,  11,  12,  13,  14,  15,  16,  17,  18,  19,  20,  21,\n",
       "           22,  23,  24,  25,  26,  27,  28,  29,  30,  31,  32,  33,  34,  35,\n",
       "           36,  37,  38,  39,  40,  41,  42,  43,  44,  45,  46,  47,  48,  49,\n",
       "           50,  51,  52,  53,  54,  55,  56,  57,  58,  59,  60,  61,  62,  63,\n",
       "           64,  65,  66,  67,  68,  69,  70,  71,  72,  73,  74,  75,  76,  77,\n",
       "           78,  79,  80,  81,  82,  83,  84,  85,  86,  87,  88,  89,  90,  91,\n",
       "           92,  93,  94,  95,  96,  97,  98,  99, 100, 101, 102, 103, 104, 105,\n",
       "          106, 107, 108, 109, 110, 111, 112, 113, 114, 115, 116, 117, 118, 119,\n",
       "          120, 121, 122, 123, 124, 125, 126, 127, 128, 129, 130, 131, 132, 133,\n",
       "          134, 135, 136, 137, 138, 139, 140, 141, 142, 143, 144, 145, 146, 147,\n",
       "          148, 149, 150, 151, 152, 153, 154, 155, 156, 157, 158, 159, 160, 161,\n",
       "          162, 163, 164, 165, 166, 167, 168, 169, 170, 171, 172, 173,   0,   1,\n",
       "            2,   3,   4,   5,   6,   7,   8,   9,  10,  11,  12,  13,  14,  15,\n",
       "           16,  17,  18,  19,  20,  21,  22,  23,  24,  25,  26,  27,  28,  29,\n",
       "           30,  31,  32,  33,  34,  35,  36,  37,  38,  39,  40,  41,  42,  43,\n",
       "           44,  45,  46,  47,  48,  49,  50,  51,  52,  53,  54,  55,  56,  57,\n",
       "           58,  59,  60,  61,  62,  63,  64,  65,  66,  67,  68,  69,  70,  71,\n",
       "           72,  73,  74,  75,  76,  77,  78,  79,  80,  81,  82,  83,  84,  85,\n",
       "           86,  87,  88,  89,  90,  91,  92,  93,  94,  95,  96,  97,  98,  99,\n",
       "          100, 101, 102, 103, 104, 105, 106, 107, 108, 109, 110, 111, 112, 113,\n",
       "          114, 115, 116, 117, 118, 119, 120, 121, 122, 123, 124, 125, 126, 127,\n",
       "          128, 129, 130, 131, 132, 133, 134, 135, 136, 137, 138, 139, 140, 141,\n",
       "          142, 143, 144, 145, 146, 147, 148, 149, 150, 151, 152, 153, 154, 155,\n",
       "          156, 157, 158, 159, 160, 161, 162, 163, 164]]),\n",
       " 'packed_inputs': tensor([[ 277,  287,  105,  241,   18,  246,  128,  105, 2084, 1463,   20,  253,\n",
       "           128, 1337,  188,  807,  111, 2587,   20,    1,    1,  329,  202,   18,\n",
       "           105,  243,  292,  340, 3900,  288,  112,  284,  191,  105, 1463,   20,\n",
       "           159, 1048,  155, 1863,  111,  312,  514,   20,  159,  312,  112,  109,\n",
       "          1522,  111,  260,  555, 2084,  109, 1463,  365,   20,    1,    1, 3900,\n",
       "          1053,  583,  155, 1463, 1165,  139,  111,  401, 4007,   73, 1559,   20,\n",
       "           159,  111,  109,  969, 1772, 1104,  109,  578,  971,   20,  144,  807,\n",
       "          2199,  111,  109,  861, 1126,    7,    1,    1,  144, 1463, 1165,  139,\n",
       "          2744, 1104,  109, 1522,   18,  587, 1285,   88,  111,  364, 3318,  674,\n",
       "            20, 3900,  128, 1082,  197,  560,  338,   18,  184,  704,  111, 1092,\n",
       "           264,  209, 2744,   20, 1102,  209, 2744,   18, 3900,  128,  197,  250,\n",
       "           184, 1726,  105, 1316,   20,    1,    1,  797,  109, 1463, 1165,  139,\n",
       "          2450,   18, 3900,  128, 2012,  418, 1961,  112, 1961,   20,  159,  208,\n",
       "          1265,  109, 2084, 1463,  111,  128,  197,  250,  184,  304,  719,  233,\n",
       "           881,  112,  284,  423,   20,    0,  277,  287,  105,  241,  246,  128,\n",
       "           105,  574,  666,  437,  748,  162,  105, 1981,   20,  161,  128,  105,\n",
       "           231, 1757,  574,  666,   18,  197,  124,  468,  112,  284,  191,  105,\n",
       "          1950,   20,    1,    1, 1570,  364,  281,  128,  105,  251, 1411, 1127,\n",
       "            18, 2091,  124, 3079,  327,  202,  635,   20,  161,  759,  111,  759,\n",
       "           654,  124,  128,  231, 1119,   20,    1,    1, 1896,  124,  432,  105,\n",
       "          1902,  669, 2391,  111,  124,  468,  112, 1091,   20,  693,  124, 2158,\n",
       "           475,  162,  109, 1956,  111,  124, 1649,  196,  893,   20,    1,    1,\n",
       "           161,  128,  197,  250,  111,  197, 2592,  203,  124, 1027, 2062,   20,\n",
       "          1102,  124, 3858,  698,   18,  109, 1956,  984,  110,  205,  196, 1411,\n",
       "           574,  666,  111,  105,  858, 2209, 1614,  196,  980,   20,    1,    1,\n",
       "           161, 3858,  698,  215,  105,  635,  241,  654,  109,  573, 1353, 1250,\n",
       "           111,  109, 1782,  571,  559,  787,  162,  109,  699,   20,  797,  124,\n",
       "          1808,  205,   18,  124,  128, 2899,  117, 3819,  111, 1114,  112,  284,\n",
       "           191,  196, 1950,   20,  695,  124,  598,  360, 1757,  423,   20,    0,\n",
       "           515,  128, 2474,   20,  161,  208,  105,  251, 1616,  193, 3905,  124,\n",
       "           288,  112, 2243,  255,  124,  586,  268,   20,  738,  251, 1081,  208,\n",
       "          3530,  787,  475,  840,  112,  281,  111,  128, 1652,  231,  971,   20,\n",
       "           515,  575,  112,  596, 1548,  282,  255,  124,  619,  586,  268,  446,\n",
       "           150,  956,   20,    1,    1,  172,   43,  139,   18,  515,  267, 1092,\n",
       "           196, 1081,   20,  395,  109, 1616,  193, 3905,  128,  282,  251,  111,\n",
       "           282,  560,  215,  515,   20,    1,    1, 3569,   18,  515,  588,  205,\n",
       "           111,  260,  196, 1081,  208, 2888, 1278,   20,  161,  128,  231, 2474,\n",
       "           111,  124, 1612,  109, 1616,  191,  109,  818,   20,  102,    1,    1,\n",
       "           738, 1423,  464,  587,  162,  262,  866,  111,  576,  281,  625,   20,\n",
       "           172,  789,   18,  515,    7, 1164,  214, 1790,  384,  184,  175,  162,\n",
       "           105,  231,  771, 1004,   20,    1,    1,  515,  360,  231,  409,  111,\n",
       "           304,  236, 1060, 1621,   20,  161,  542,  124, 2417, 1141,  413, 1280,\n",
       "           111, 1887,  374, 3530,  153,  281,  475,   20,    0]]),\n",
       " 'attention_mask': tensor([[[ True,  True,  True,  ..., False, False, False],\n",
       "          [ True,  True,  True,  ..., False, False, False],\n",
       "          [ True,  True,  True,  ..., False, False, False],\n",
       "          ...,\n",
       "          [False, False, False,  ...,  True,  True,  True],\n",
       "          [False, False, False,  ...,  True,  True,  True],\n",
       "          [False, False, False,  ...,  True,  True,  True]]])}"
      ]
     },
     "execution_count": 21,
     "metadata": {},
     "output_type": "execute_result"
    }
   ],
   "source": [
    "first_batch"
   ]
  },
  {
   "cell_type": "code",
   "execution_count": null,
   "id": "7ab69043",
   "metadata": {},
   "outputs": [],
   "source": []
  }
 ],
 "metadata": {
  "kernelspec": {
   "display_name": "base",
   "language": "python",
   "name": "python3"
  },
  "language_info": {
   "codemirror_mode": {
    "name": "ipython",
    "version": 3
   },
   "file_extension": ".py",
   "mimetype": "text/x-python",
   "name": "python",
   "nbconvert_exporter": "python",
   "pygments_lexer": "ipython3",
   "version": "3.12.9"
  }
 },
 "nbformat": 4,
 "nbformat_minor": 5
}
