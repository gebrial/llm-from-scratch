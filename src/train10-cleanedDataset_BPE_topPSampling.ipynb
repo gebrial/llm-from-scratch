{
 "cells": [
  {
   "cell_type": "markdown",
   "id": "4c22a32f-cb2c-47cd-96fc-fea8953ac491",
   "metadata": {},
   "source": [
    "This script contains some improvement from train.ipynb by default:\n",
    "* much few layers, heads, and embedding dimension to reduce the model size\n",
    "* dataloader v2 which uses a custom tokenizer (again to reduce model size)\n",
    "* no positional embeddings (to reduce model complexity)\n",
    "* weight tying (to reduce model size)\n",
    "\n",
    "\n",
    "We implemented a few things here first and not before:\n",
    "* validation losses\n",
    "* increased the model size to be just below 30M parameters\n",
    "* reduced the amount of data trained with to keep the training (wall) time consistent\n",
    "* made graph more informative"
   ]
  },
  {
   "cell_type": "markdown",
   "id": "ce834d77-2417-42fc-b17f-d30e90267ea7",
   "metadata": {},
   "source": [
    "This script contains a couple improvements from train2.ipynb:\n",
    "* gradient accumulation is enabled\n",
    "* the dataloader chunks from the start of an example up to the max_length or the endoftext token"
   ]
  },
  {
   "cell_type": "markdown",
   "id": "58cab6bf-b4da-4f70-8c24-b249c7645936",
   "metadata": {},
   "source": [
    "This contains some changes from train3.ipynb:\n",
    "* an accuracy metric has been implemented\n",
    "* one cycle learning rate schedule is being used\n",
    "* weight tying is disabled"
   ]
  },
  {
   "cell_type": "markdown",
   "id": "055e84e5-33f4-408f-8a1f-eccb869f813e",
   "metadata": {},
   "source": [
    "This contains some improvements from train4.ipynb: just that the attention module used uses pytorchs implementation for sdpa. This also uses a text generation function to display the capabilities of the trained model."
   ]
  },
  {
   "cell_type": "markdown",
   "id": "cfe5151e-4688-4011-b702-a464ae0a4374",
   "metadata": {},
   "source": [
    "This contains some changes over train5.ipynb. We use data loading hooks for setting up the train/validation data loaders. We also use the setup hook for setting up the gpt model. We also call compile on the gpt model before training. We also have some code for investigating memory leaks."
   ]
  },
  {
   "cell_type": "markdown",
   "id": "80fd2da4",
   "metadata": {},
   "source": [
    "The train6 files were used to determine the cause of the memory leak which seems to have been using multiple workers which causes copy-on-reads to occur. setting num_wokers=0 in the dataloader resolves this issue.\n",
    "See issue: https://github.com/pytorch/pytorch/issues/13246#issuecomment-905703662\n",
    "blogpost: https://ppwwyyxx.com/blog/2022/Demystify-RAM-Usage-in-Multiprocess-DataLoader/"
   ]
  },
  {
   "cell_type": "markdown",
   "id": "3af82625",
   "metadata": {},
   "source": [
    "The train7 files started using datasets processed by huggingface libraries. This file continues from there."
   ]
  },
  {
   "cell_type": "markdown",
   "id": "e0ba0e74",
   "metadata": {},
   "source": [
    "This file has many improvements over the train8.ipynb files. By default this script uses:\n",
    "* packed sequences\n",
    "* attention masks\n",
    "* a deep model with many layers\n",
    "* mixed precision training\n",
    "* a small vocab of 4096 token ids"
   ]
  },
  {
   "cell_type": "markdown",
   "id": "d31007f0",
   "metadata": {},
   "source": [
    "~~This file shows a huge improvement in accuracy and loss. Many possible explanations:~~\n",
    "* ~~Rotational positional encoding was added~~\n",
    "* ~~the dataset used was cleaned of weird symbols (accents, chinese characters, etc.)~~\n",
    "* ~~smaller max_lr~~\n",
    "\n",
    "Huge improvements were false negatives due to bad causal mask construction (data leakage)\n",
    "\n",
    "Further improvements:\n",
    "* ~~apply positions from dataset to RoPE~~ (done)\n",
    "* ~~turn off default positional encodings (or use positions from dataset)~~ (done, turned off absolute position embeddings)"
   ]
  },
  {
   "cell_type": "markdown",
   "id": "3987e51f",
   "metadata": {},
   "source": [
    "In the train9.ipynb files we have added a few things:\n",
    "* cleaned the dataset before training a tokenizer and processing the data\n",
    "* using RoPE for positional embeddings\n",
    "* switch to a wide, shallow model in line with the original TinyStories paper\n",
    "* shorter learning rate warm-up"
   ]
  },
  {
   "cell_type": "code",
   "execution_count": 1,
   "id": "c1d6743f",
   "metadata": {},
   "outputs": [],
   "source": [
    "%load_ext autoreload\n",
    "%autoreload 2"
   ]
  },
  {
   "cell_type": "code",
   "execution_count": 2,
   "id": "ebc0125e",
   "metadata": {},
   "outputs": [],
   "source": [
    "from tokenizers import Tokenizer\n",
    "import tokenizers.decoders\n",
    "\n",
    "tokenizer = Tokenizer.from_file(\"./TinyStories_tokenizer_small_cleaned_BPE.json\")\n",
    "tokenizer.decoder = tokenizers.decoders.ByteLevel()\n",
    "vocab_size = tokenizer.get_vocab_size()"
   ]
  },
  {
   "cell_type": "code",
   "execution_count": 3,
   "id": "55ed6a11-1e99-444f-b4b2-7e54873f2d53",
   "metadata": {},
   "outputs": [],
   "source": [
    "GPT_CONFIG_30M = {\n",
    "    \"vocab_size\": vocab_size,\n",
    "    \"context_length\": 512,\n",
    "    \"emb_dim\": 512,\n",
    "    \"n_heads\": 4,\n",
    "    \"n_layers\": 4,\n",
    "    \"drop_rate\": 0.0,\n",
    "    \"qkv_bias\": False,\n",
    "    \"weight_tying\": True,\n",
    "    \"no_pos_emb\": True\n",
    "}"
   ]
  },
  {
   "cell_type": "code",
   "execution_count": 4,
   "id": "658334ab",
   "metadata": {},
   "outputs": [],
   "source": [
    "GPT_CONFIG_120M_DEEP = {\n",
    "    \"vocab_size\": vocab_size,\n",
    "    \"context_length\": 512, # this must be multiple of 64 for the flash attention implementation\n",
    "    \"emb_dim\": 512, # this must be multiple of 16 * n_heads for the flash attention implementation\n",
    "    \"n_heads\": 32,\n",
    "    \"n_layers\": 36,\n",
    "    \"drop_rate\": 0.1,\n",
    "    \"qkv_bias\": False,\n",
    "    \"weight_tying\": False,\n",
    "    \"no_pos_emb\": True # conflicts with sequence packing\n",
    "}"
   ]
  },
  {
   "cell_type": "code",
   "execution_count": 5,
   "id": "a821003d",
   "metadata": {},
   "outputs": [],
   "source": [
    "GPT_CONFIG_120M_SHALLOW = {\n",
    "    \"vocab_size\": vocab_size,\n",
    "    \"context_length\": 512,\n",
    "    \"emb_dim\": 768,\n",
    "    \"n_heads\": 24,\n",
    "    \"n_layers\": 16,\n",
    "    \"drop_rate\": 0.0,\n",
    "    \"qkv_bias\": False,\n",
    "    \"weight_tying\": False,\n",
    "    \"no_pos_emb\": True # conflicts with sequence packing and RoPE\n",
    "}"
   ]
  },
  {
   "cell_type": "code",
   "execution_count": 6,
   "id": "6bea6bd3-62db-4184-83e5-8284297f51f1",
   "metadata": {},
   "outputs": [],
   "source": [
    "import socket\n",
    "hostname = socket.gethostname().lower()\n",
    "if \"laptop\" in hostname:\n",
    "    GPT_CONFIG = GPT_CONFIG_30M\n",
    "else:\n",
    "    GPT_CONFIG = GPT_CONFIG_120M_SHALLOW"
   ]
  },
  {
   "cell_type": "code",
   "execution_count": 7,
   "id": "59742e54-fcc7-49a2-b971-66d24cfcd605",
   "metadata": {},
   "outputs": [],
   "source": [
    "import torch.nn as nn\n",
    "import torch\n",
    "\n",
    "torch.set_float32_matmul_precision('medium')"
   ]
  },
  {
   "cell_type": "code",
   "execution_count": null,
   "id": "9641a1af-5cd5-4ea0-b10f-6f673dea2840",
   "metadata": {},
   "outputs": [],
   "source": []
  },
  {
   "cell_type": "code",
   "execution_count": 8,
   "id": "5a88551b-b45a-486d-ad49-c0b8e29f41d9",
   "metadata": {},
   "outputs": [],
   "source": [
    "trainer_config = {\n",
    "    \"batch_size\": 32 if \"laptop\" in hostname else 32,\n",
    "    \"epochs\": 2,\n",
    "    \"num_workers\": 23,\n",
    "    \"max_lr\": 1e-3 / 2,\n",
    "    \"compile\": \"laptop\" not in hostname\n",
    "}\n",
    "trainer_config[\"grad_batches\"] = 256 // trainer_config[\"batch_size\"]"
   ]
  },
  {
   "cell_type": "code",
   "execution_count": null,
   "id": "10c777bb-c339-47f8-a8d8-2ef7fe3cab6e",
   "metadata": {},
   "outputs": [],
   "source": []
  },
  {
   "cell_type": "code",
   "execution_count": 9,
   "id": "177bc581-d01c-4691-9e05-2b30b2738808",
   "metadata": {},
   "outputs": [
    {
     "name": "stderr",
     "output_type": "stream",
     "text": [
      "/home/gebrial/miniforge3/lib/python3.12/site-packages/tqdm/auto.py:21: TqdmWarning: IProgress not found. Please update jupyter and ipywidgets. See https://ipywidgets.readthedocs.io/en/stable/user_install.html\n",
      "  from .autonotebook import tqdm as notebook_tqdm\n"
     ]
    }
   ],
   "source": [
    "from components.gptmodel import GPTModel_RoPE\n",
    "from torch.optim.lr_scheduler import OneCycleLR\n",
    "import lightning as L\n",
    "from datasets import load_from_disk\n",
    "from torch.utils.data import DataLoader\n",
    "\n",
    "\n",
    "class LitGPTModel(L.LightningModule):\n",
    "    def __init__(self, trainer_config, gpt_config):\n",
    "        super().__init__()\n",
    "        self.save_hyperparameters()\n",
    "        self.gpt_config = gpt_config\n",
    "        self.trainer_config = trainer_config\n",
    "\n",
    "        self.train_accuracy = []\n",
    "        self.val_accuracy = []\n",
    "        self.train_losses = []\n",
    "        self.val_losses = []\n",
    "        self.val_steps = []\n",
    "        self.learning_rates = []\n",
    "        self.batch_step = 0\n",
    "\n",
    "    def _accuracy(self, output, expected):\n",
    "        total_matching = (torch.argmax(output, dim=-1) == expected).sum().item()\n",
    "        total_numel = expected.numel()\n",
    "        return total_matching / total_numel\n",
    "\n",
    "    def training_step(self, batch, batch_idx):\n",
    "        self.batch_step += 1\n",
    "\n",
    "        x, y = batch[\"packed_inputs\"][:, :-1], batch[\"packed_inputs\"][:, 1:]\n",
    "        attn_mask = batch[\"attention_mask\"][:, :-1, :-1]\n",
    "        positions = batch[\"padded_positions\"][:, :-1]\n",
    "        logits = self.model([x, attn_mask, positions])\n",
    "\n",
    "        accuracy = self._accuracy(logits, y)\n",
    "        self.log(\"accuracy\", accuracy, prog_bar=True, on_step=True, on_epoch=True)\n",
    "        self.train_accuracy.append(accuracy)\n",
    "\n",
    "        loss = self.loss(logits, y)\n",
    "        self.log(\"loss\", loss, prog_bar=True, on_step=True, on_epoch=True)\n",
    "        self.train_losses.append(loss.item())\n",
    "\n",
    "        current_lr = self.optimizers().param_groups[0][\"lr\"]\n",
    "        self.learning_rates.append(current_lr)\n",
    "\n",
    "        return loss\n",
    "\n",
    "    def validation_step(self, batch, batch_idx):\n",
    "        self.val_steps.append(self.batch_step)\n",
    "        x, y = batch[\"packed_inputs\"][:, :-1], batch[\"packed_inputs\"][:, 1:]\n",
    "        attn_mask = batch[\"attention_mask\"][:, :-1, :-1]\n",
    "        positions = batch[\"padded_positions\"][:, :-1]\n",
    "        logits = self.model([x, attn_mask, positions])\n",
    "\n",
    "        accuracy = self._accuracy(logits, y)\n",
    "        self.log(\"val_accuracy\", accuracy, prog_bar=True, on_step=True, on_epoch=True)\n",
    "        self.val_accuracy.append(accuracy)\n",
    "\n",
    "        loss = self.loss(logits, y)\n",
    "        self.log(\"val_loss\", loss, prog_bar=True, on_step=True, on_epoch=True)\n",
    "        self.val_losses.append(loss.item())\n",
    "        \n",
    "        return loss\n",
    "\n",
    "    def loss(self, output, expected):\n",
    "        loss = nn.functional.cross_entropy(\n",
    "            output.flatten(0, 1), expected.flatten()\n",
    "        )\n",
    "        return loss\n",
    "\n",
    "    def configure_optimizers(self):\n",
    "        optimizer = torch.optim.AdamW(\n",
    "            self.parameters(), lr=self.trainer_config[\"max_lr\"], weight_decay=0.1\n",
    "        )\n",
    "\n",
    "        scheduler = OneCycleLR(\n",
    "            optimizer,\n",
    "            max_lr=self.trainer_config[\"max_lr\"],\n",
    "            total_steps=self.trainer.estimated_stepping_batches,\n",
    "            pct_start = 0.1,\n",
    "        )\n",
    "        lr_scheduler_config = {\n",
    "            \"scheduler\": scheduler,\n",
    "            \"interval\": \"step\",\n",
    "            \"monitor\": \"loss\"\n",
    "        }\n",
    "\n",
    "        return {\n",
    "            \"optimizer\": optimizer,\n",
    "            \"lr_scheduler\": lr_scheduler_config\n",
    "        }\n",
    "\n",
    "    def setup(self, stage):\n",
    "        self.packed_dataset = load_from_disk(\"packed_dataset_with_mask_smallVocab_cleaned_BPE\")\n",
    "        self.packed_dataset.set_format('torch')\n",
    "\n",
    "    def configure_model(self):\n",
    "        if hasattr(self, \"model\"):\n",
    "            return\n",
    "\n",
    "        self.model = GPTModel_RoPE(self.gpt_config)\n",
    "        if self.trainer_config[\"compile\"]:\n",
    "            self.model = torch.compile(self.model, fullgraph=True)\n",
    "\n",
    "\n",
    "    def train_dataloader(self):\n",
    "        return DataLoader(\n",
    "            self.packed_dataset[\"train\"],\n",
    "            batch_size=self.trainer_config[\"batch_size\"],\n",
    "            shuffle=True,\n",
    "            num_workers=self.trainer_config[\"num_workers\"],\n",
    "            pin_memory=True,\n",
    "            persistent_workers=True,\n",
    "            prefetch_factor=2,\n",
    "            drop_last=True,\n",
    "        )\n",
    "\n",
    "    def val_dataloader(self):\n",
    "        return DataLoader(\n",
    "            self.packed_dataset[\"validation\"],\n",
    "            batch_size=self.trainer_config[\"batch_size\"],\n",
    "            shuffle=False,\n",
    "            num_workers=self.trainer_config[\"num_workers\"],\n",
    "            pin_memory=True,\n",
    "            persistent_workers=True,\n",
    "            prefetch_factor=2,\n",
    "            drop_last=True,\n",
    "        )\n"
   ]
  },
  {
   "cell_type": "code",
   "execution_count": null,
   "id": "4e1c344a-57df-4d89-9369-b177fb873022",
   "metadata": {},
   "outputs": [],
   "source": []
  },
  {
   "cell_type": "code",
   "execution_count": 10,
   "id": "9b5abb29",
   "metadata": {},
   "outputs": [],
   "source": [
    "litmodel = LitGPTModel.load_from_checkpoint(\n",
    "  checkpoint_path=\"./checkpoints/120M_SHALLOw_smallVocabCleaned_RoPE2_BPE/epoch=1-step=7044.ckpt\",\n",
    ")\n",
    "# make sure NOT to compile so that we can load from checkpoint"
   ]
  },
  {
   "cell_type": "code",
   "execution_count": null,
   "id": "a9dd0a0a-0864-4340-83e0-906c65ea6a71",
   "metadata": {},
   "outputs": [],
   "source": []
  },
  {
   "cell_type": "code",
   "execution_count": 11,
   "id": "601fe9c1",
   "metadata": {},
   "outputs": [],
   "source": [
    "device = torch.device(\"cuda\" if torch.cuda.is_available() else \"cpu\")\n",
    "litmodel.model.to(device);"
   ]
  },
  {
   "cell_type": "code",
   "execution_count": 14,
   "id": "2a8f1d89",
   "metadata": {},
   "outputs": [
    {
     "name": "stdout",
     "output_type": "stream",
     "text": [
      " One day a girl walked into the living room and noticed something very strange. There was a huge cabinet standing in the corner. It looked very old and heavy. She walked over and tried to open it, when suddenly it shook! The girl was surprised, she couldn't believe her eyes.\n",
      "\n",
      " \"Hello, are you here?\" she asked.\n",
      "\n",
      " The cabinet nodded and suddenly opened. Inside was a secret room! The girl stepped inside and was amazed by what she saw. There were amazing lights, toys and pictures everywhere.\n",
      "\n",
      " \"Oh, this must be the host of this cabinet!\" said the girl.\n",
      "\n",
      " Just then, a deep voice came from inside the cabinet. \"Horse? What do you want?\"\n",
      "\n",
      " The girl was scared, but she could not answer. The voice asked again. Then the cabinet opened, revealing a surprise. It was a big, colorful elephant!\n",
      "\n",
      " The girl was so happy. She thanked the cabinet for revealing the cabinet, and they said goodbye and the girl ran out of the room, never to return.\n"
     ]
    }
   ],
   "source": [
    "from components.generatetext import top_p_sampling\n",
    "\n",
    "start_text = \"One day a girl walked into the living room and noticed something very strange. There was a huge cabinet standing in the corner. It looked very old and heavy. She walked over and tried to open it, when suddenly\"\n",
    "\n",
    "generated_text = top_p_sampling(\n",
    "    litmodel.model,\n",
    "    tokenizer,\n",
    "    start_text,\n",
    ")\n",
    "\n",
    "print(generated_text)"
   ]
  },
  {
   "cell_type": "code",
   "execution_count": 13,
   "id": "0ef36fe3",
   "metadata": {},
   "outputs": [
    {
     "ename": "NameError",
     "evalue": "name 'asdfasdaf' is not defined",
     "output_type": "error",
     "traceback": [
      "\u001b[31m---------------------------------------------------------------------------\u001b[39m",
      "\u001b[31mNameError\u001b[39m                                 Traceback (most recent call last)",
      "\u001b[36mCell\u001b[39m\u001b[36m \u001b[39m\u001b[32mIn[13]\u001b[39m\u001b[32m, line 1\u001b[39m\n\u001b[32m----> \u001b[39m\u001b[32m1\u001b[39m \u001b[43masdfasdaf\u001b[49m\n",
      "\u001b[31mNameError\u001b[39m: name 'asdfasdaf' is not defined"
     ]
    }
   ],
   "source": [
    "asdfasdaf\n"
   ]
  },
  {
   "cell_type": "code",
   "execution_count": null,
   "id": "e1931780",
   "metadata": {},
   "outputs": [],
   "source": []
  },
  {
   "cell_type": "code",
   "execution_count": null,
   "id": "35ef4c6c",
   "metadata": {},
   "outputs": [
    {
     "name": "stdout",
     "output_type": "stream",
     "text": [
      "Prompt 10: One day a girl walked into the living room and noticed something very strange. There was a huge cabinet standing in the corner. It looked very old and heavy. She walked over and tried to open it, when suddenly\n",
      "Row 10:  she heard a loud noise. She jumped back in surprise and ran away. The girl's mum came into the room. She looked very angry. \"What are you going to do?\" She asked. The girl pointed to the cabinet and said, \"I'm going to open the old cabinet!\" Mum shook her head. \"No, you can't do that,\" she said. \"You're too little and you might break something!\" The girl was very sad. She didn't understand why she couldn't open the old cabinet, and why it was so heavy. She wanted to open it, but she knew that it was too dangerous. The girl looked at her mum and sighed. She knew she had made a mistake, but it was too late now.\n",
      "Processed 10/300 rows. Estimated time left: 239.27 seconds.\n",
      "Prompt 20: Jack asked his mom if he could ride the bike all the way to his grandmother's house. She agreed, but she said that he shouldn't ride too fast because it was raining and the path was wet.\n",
      "He started riding and realized he was hungry, so he decided that he should get to his grandmother's house as fast as possible. But then he remembered his mum's words \"\n",
      "Row 20: you can't go too fast\". He stopped and thought for a moment. Then he decided that it would be a good idea, and he started to ride slowly.  He was almost at his grandmother's house when he noticed something strange. There was a big pile of waste in the corner of the path!  Jack had to stop his bike and go to the nearest bin. He was so disappointed and he knew he had to do something to make it up to his grandmother. Jack thought hard and remembered what had happened before he had been riding the bike. So, he quickly got to work and started to pick up the waste. He put it in the bin until it was clean and dry.  When he was done, Jack felt proud of himself for doing the right thing and helping his grandmother to get there safely.\n",
      "Processed 20/300 rows. Estimated time left: 201.32 seconds.\n",
      "Prompt 30: Alice walked up to her friend Ben's house. She was planning to ask him to go to the park with her. When Ben opened the door, she asked him if he had any plans. He said, \"I'm sorry, Alice, but\n",
      "Row 30:  I have to go to the store. I'm sorry.\" Alice was sad. She asked her mom if she could go to the park, and her mom said no. Alice was very upset. She started to cry. She said, \"Please mom, I want to go to the park. I'm sorry I'm sorry.\" Her mom said, \"No Alice, it's too late. You have to stay home.\" Alice was very upset. She started to cry and said, \"Please, mom, I want to go to the park!\" Her mother thought for a moment and said, \"I know you do, but it is important to listen to your mom. You can go to the park, but you must be careful and listen to me.\" Alice agreed and said, \"Okay, mom. I will be careful. I promise.\" Alice and her mother went to the park and had a wonderful time. She had a great time and was glad she was allowed to go.\n",
      "Processed 30/300 rows. Estimated time left: 246.42 seconds.\n",
      "Prompt 40: Alice walked into the kitchen and saw Ben who was looking for something but looked frustrated. She said, \"Ben, why are you\n",
      "Row 40:  so upset?\" Ben said, \"I can't find anything to eat, and I'm hungry.\" Alice said \"I have a snack for you. It's in the fridge and I'm going to give you some food.\" Ben smiled and said, \"That sounds yummy! Thank you, Alice.\" Alice gave Ben the snack and he was happy. He said, \"You're welcome, Ben.\" Alice and Ben sat down together, and Alice gave Ben a big hug. They were both very happy.\n",
      "Processed 40/300 rows. Estimated time left: 244.17 seconds.\n",
      "Prompt 50: Once upon a time, there was tiger who liked to play the guitar. One day, a bunny heard the guitar from a distance and\n",
      "Row 50:  hopped over to take a look. The bunny said, \"Hello, Mr. Tiger! Can I play the guitar too?\" The tiger said, \"Sure, hop on my back and I'll play the guitar.\" The bunny sat down and the tiger started playing the guitar. The bunny was very obedient and listened carefully to the tiger's music. The bunny was very happy, and the tiger was very pleased. The bunny and the tiger kept playing the guitar together until the sun went down. They both said goodbye and the bunny hopped away with a big smile. The tiger smiled too and went back to his home, happy that he could play the guitar with the bunny.\n",
      "Processed 50/300 rows. Estimated time left: 230.84 seconds.\n",
      "Prompt 60: \"Ben, what do you have in your pocket?\", Alice asked. \"Oh, nothing.\", Ben replied. But Alice saw that there was definitely something in Ben's pocket, and she was very curious what it was, so she\n",
      "Row 60:  reached in and pulled out a small, furry creature. \"What is this?\", Alice asked, curiously. \"It's an animal,\" Ben replied, smiling. \"I think it's a puppy!\" Alice gasped in surprise and asked if she could keep it. Ben thought it over and then said, \"I don't think it's a good idea, but it's still cute and furry.\" Alice smiled and said, \"It's ok, I won't keep it.\" She put the puppy in her pocket and they continued to play. The next day, Alice and Ben went back to the same spot where she found the puppy, and she noticed that it was still there, looking very happy. She smiled, knowing that the puppy had found a new home. Alice and Ben were very happy to have found a new furry friend, and they both knew that the puppy was a special friend. From that day on, they would often play with the puppy, and they were always happy together.\n",
      "Processed 60/300 rows. Estimated time left: 218.72 seconds.\n",
      "Prompt 70: Jimmy was on his way to school with his father when he noticed a tree with strange looking fruits on it. He asked his father, \"Can I try\n",
      "Row 70:  one?\" His father said, \"Yes, but you need to be careful.\" Jimmy was very excited and he picked one. He took a bite and he was surprised. The fruit tasted bitter! He quickly spit it out and his dad said, \"I think it's too sour for you!\" Jimmy was disappointed, but he was also happy to learn about the fruits. He said, \"I'll be careful next time!\" His father laughed and said, \"That's a good idea, Jimmy. Now let's go to school.\"\n",
      "Processed 70/300 rows. Estimated time left: 214.72 seconds.\n",
      "Prompt 80: Jack and Sally were running through the woods together when they stopped suddenly. They heard a strange sound coming from around the corner.\n",
      "“What's that?” asked Jack.\n",
      "\n",
      "Sally put her finger to her lips and said, “Shhhh. Let's go find out.”\n",
      "\n",
      "Jack and Sally followed the\n",
      "Row 80:  sound. They came across a big tree and saw a little bird. The bird was singing a song. Jack and Sally listened and smiled. The bird was so happy to see them! The bird said, \"I'm going to give you a special present. It will make you feel better.\"  Jack and Sally were very excited. They said, \"Thank you!\" The bird handed them a small box with a note inside. It said, \"This box has something special inside that will help you feel better. It's a special gift.\" Jack and Sally were so excited! They opened the box and found something special inside. It was the gift of the bird's kindness and compassion. Jack and Sally thanked the bird again. They hugged the bird goodbye and ran off, feeling much better now that they had the special gift of the bird's kindness.\n",
      "Processed 80/300 rows. Estimated time left: 201.53 seconds.\n",
      "Prompt 90: Anna was a popular girl, who walked to school every day carrying a very heavy backpack. It was so heavy that she could hardly walk.\n",
      "One day, Anna's friends asked her why her backpack was so heavy. She said that\n",
      "Row 90:  she wanted to carry it to school, but it made her tired. Her friends were sad that she couldn't carry the backpack, so they asked her to help them carry it. Anna was happy to help, so she agreed and started carrying the heavy backpack. She walked to school with the backpack, carrying it all the way. When they arrived at school, the teacher was very impressed by Anna's heavy backpack. She said that it was much easier to carry it and that it would help her carry the backpack.  Anna was so proud of her friends and was glad that she had been able to carry the heavy backpack. She smiled and thanked them, then carried her heavy backpack back to school.\n",
      "Processed 90/300 rows. Estimated time left: 189.46 seconds.\n",
      "Prompt 100: One day, Grandma was in the kitchen getting ready to prepare. She had the ingredients for a tasty dish.\n",
      "Grandma said to her granddaughter, \"Are you going to help me make this meal?\" Her granddaughter, Jenny, replied, \"Yes, I will help you!\"\n",
      "\n",
      "Grandma and Jenny began to prepare the ingredients. Jenny was clumsy. She dropped\n",
      "Row 100:  a few of the eggs on the floor. Grandma said, \"Oh no!\" Jenny said, \"It's ok, Grandma! We can still make it.\" Grandma smiled and said, \"Let me help you.\" Together, they made a delicious dish. Grandma said, \"This is the best dish ever!\" Jenny was very proud of her granddaughter.\n",
      "Processed 100/300 rows. Estimated time left: 175.39 seconds.\n",
      "Prompt 110: Once upon a time there was a small brown mouse who lived in a big tree. The mouse wanted to be better friends with the birds that flew around the tree, but they were always too afraid to let him get close. \n",
      "One day, the mouse spoke to the birds bravely, \"Please don't be\n",
      "Row 110:  so scared, I just want to be friends.\"  The birds were so happy and said, \"Yes, we will be your friend. We would love to be your friends.\"  The mouse felt so much better and they all became good friends.  The mouse was so happy to have found a new home, and the birds were happy to have the mouse as their friend.  They all played together every day and were very happy. The end.\n",
      "Processed 110/300 rows. Estimated time left: 167.04 seconds.\n",
      "Prompt 120: Jack was a chubby little boy. He liked to pick flowers in the garden. One day, he went out to the garden to pick some flowers but his Mom said he had to take his medicine first. He didn't like the medicine's taste.\n",
      "\"Do I have to take it?\" Jack asked.\n",
      "\n",
      "His Mom nodded. \"Yes,\n",
      "Row 120:  you do. But you must be very careful. You must not pick the flowers in the garden.\" So Jack took his medicine. He was very brave and he didn't make a sound. After he finished, Jack went back to the garden and started picking some of the pretty flowers. He was so happy that he had taken his medicine!\n",
      "Processed 120/300 rows. Estimated time left: 154.33 seconds.\n",
      "Prompt 130: Once there was a mother and daughter walking in the park. They noticed a bird perched on a branch, singing its song. The daughter shouted with delight, “Look Mommy! A bird!”\n",
      "The mother smiled and said, “Yes! See how colorful it is?”\n",
      "The daughter then asked, “Can I share my snack with it?”\n",
      "The mother replied, “No, sweetie. That's a bad idea because\n",
      "Row 130:  it's too sour for you! The daughter was disappointed, but the mother said, \"Don't worry, I have a sweet treat in my pocket!\" The daughter was so excited and quickly grabbed the treat. The mother and daughter shared the treat together. The mother and daughter were so happy and they continued their walk, singing and smiling.\n",
      "Processed 130/300 rows. Estimated time left: 142.42 seconds.\n",
      "Prompt 140: Once upon a time there was a little girl called Emma. She was only three years old. One day, her aunt said to her, “Emma, would you like to go out with me to pick up some flowers?”\n",
      "Emma was very excited. She said,\n",
      "Row 140:  \"Yes, please!\" So, Emma and her aunt went out into the garden. Emma saw lots of different flowers and was so happy. She picked a few and put them in a basket.  Then, they went to pick some more. Emma was so happy that she ran around the garden picking flowers. She picked a few flowers and put them in the basket. When they finished picking the flowers, Emma's aunt said, \"Let's put them in the basket.\" Emma said, \"Yes, let's do it.\"  They put all the flowers in the basket and then Emma and her aunt went home. Emma was very happy and she said, \"Thank you for the lovely day!\"\n",
      "Processed 140/300 rows. Estimated time left: 130.73 seconds.\n",
      "Prompt 150: Once upon a time there was a small girl named Lucy. She was only three years old and was very adventurous. She loved to explore the world around her, especially when it was bright and sunny outside. \n",
      "One day, while exploring the nearby park, Lucy came across a ladder leaning on a wall. She was curious to see what's on top, so she climbed the ladder, but when she reached the top, the ladder fell and she was stuck.\n",
      "\n",
      "A nearby park ranger noticed her and shouted out, \"\n",
      "Row 150: Oh no! You must have fallen!\" The park ranger quickly ran over, grabbed Lucy, and carried her away to safety.  The ranger said, \"You should have been more careful when exploring. Never climb a ladder without permission.\"  Lucy nodded and promised to be more careful. From then on, she was more cautious and adventurous, but she always made sure to be extra careful when climbing.\n",
      "Processed 150/300 rows. Estimated time left: 121.38 seconds.\n",
      "Prompt 160: Once upon a time there was a pumpkin. It was a very special pumpkin, it could speak. It was sad because it couldn't move. Every day, it would say\n",
      "Row 160: , \"Help me!\" One day, a kind little girl heard the pumpkin's sadness and decided to help. She took the pumpkin to a special place and said, \"I will help you!\" The girl put a big smile on the pumpkin's face and spoke to it. She said, \"I will take you home with me and make you happy.\" The girl took the pumpkin home and made a big pot. She put some water and some vegetables and put the pot on top of it. Then, she said, \"This is your new home. It will make you happy.\" The pumpkin smiled and said \"Thank you! I am so happy.\" The little girl was glad she could help and said, \"I am happy to see you happy. Now you can live in my new home.\"  The pumpkin was happy and said, \"Thank you! I will never leave.\"\n",
      "Processed 160/300 rows. Estimated time left: 114.60 seconds.\n",
      "Prompt 170: Mum was getting ready for bed, so she told her son, \"It's time for a bath\". He nodded and ran off to the bathroom. He watched as Mum turned on the bathtub, the water pouring out of the tap and filling the tub.\n",
      "\n",
      "Mum asked, \"What do you want in your bath?\" He thought for a moment and said\n",
      "Row 170: , \"I want to play with the bubbles\". She smiled and said, \"That sounds like fun\". He jumped in the tub with a big splash, and Mum said, \"Let's make a big splash together\". He nodded and started to splash around, making lots of bubbles and having a lot of fun. When he was finished, Mum said, \"It's time to get out and dry off\". He nodded and said, \"Ok, let's go\". He followed Mum out of the bathroom and they both went to the kitchen, where they found a big towel. Mum dried off the towel and said, \"That was a great idea, wasn't it?\". He nodded and said, \"Yup!\"\n",
      "Processed 170/300 rows. Estimated time left: 105.36 seconds.\n",
      "Prompt 180: Once upon a time there was a little boy named Tom. Tom loved playing outside, but he always had to be careful not to make too much noise.\n",
      "One day, Tom went out to explore the garden. Soon he found an unusual fruit. It looked like a prune! Tom picked up the prune and looked at it closely. It smelled sweet.\n",
      "\n",
      "Tom wanted to find out how the prune tasted, so he\n",
      "Row 180:  put the prune in his mouth. He chewed it up and it was delicious! Tom was so happy that he had found such an unusual fruit. He ran back inside to tell his mom all about his adventure.\n",
      "Processed 180/300 rows. Estimated time left: 95.78 seconds.\n",
      "Prompt 190: One day, Timmy had a goal. He wanted to fit into his favorite toy car. He was very excited, but grumpy too. He tried to fit into the car but he was\n",
      "Row 190:  too big. He tried and tried but he just couldn't fit.  He was so sad and he started to cry. His mommy saw him and said, \"Don't be grumpy, Timmy. You can fit in the car if you try.\" Timmy tried again and this time, he fit in the car! He was so happy. He smiled and said \"I did it!\"  His mommy smiled and said, \"I'm so proud of you, Timmy. You did it all by yourself.\"  From that moment on, Timmy was always happy and he never felt grumpy again. He was always excited to fit in the car.\n",
      "Processed 190/300 rows. Estimated time left: 87.35 seconds.\n",
      "Prompt 200: It was a sunny day and Ben wanted to go outside and play. He grabbed his toy car and ran to the garden. Suddenly, something pinched his hand!\n",
      "Ben looked around but there was nothing there. He was scared so he held onto the hoop tightly.\n",
      "\n",
      "Then he heard a voice. \"Don't be scared, little one. It's just me!\"\n",
      "\n",
      "Ben looked up and saw a big, scary spider. He was scared!\n",
      "\n",
      "The spider smiled. \"Don't be scared, I just wanted to\n",
      "Row 200:  play too!\" Ben was surprised. He smiled back at the spider and the spider smiled back. They both played together until the sun went down.\n",
      "Processed 200/300 rows. Estimated time left: 78.67 seconds.\n",
      "Prompt 210: Once there was a boy named Sam. He was three years old and very naughty. One day, his mom told him not to touch her phone but Sam did not listen. He picked up the phone and started playing with it.\n",
      "Mom saw him and said, \"be careful not to\n",
      "Row 210:  do that!\" But Sam ignored her and kept playing with the phone. Mom was getting very cross. She said, \"Sam, please put the phone down and come here!\" But Sam ignored her and kept playing with the phone. Mom got angry and said, \"Sam, you are being very naughty and ignoring me!\"  Sam felt bad and knew he had done wrong. He put down the phone and said sorry to his mom. He promised to never be naughty again and to always listen.  Mom was happy and said, \"Good boy! Now let's go and have some ice cream!\"  Sam and mom enjoyed the ice cream and went to the ice cream shop. Sam never ignored mom again and they both enjoyed the delicious ice cream together.\n",
      "Processed 210/300 rows. Estimated time left: 71.13 seconds.\n",
      "Prompt 220: Once upon a time, there was a little boy who was always naughty. His mom was always telling him to be good, but he kept disobeying her rules and ignoring her warnings. \n",
      "One day, he was so naughty that his mom decided to punish him. She told him that he had to\n",
      "Row 220:  stay in his room for the day and he could not go outside to play.  The naughty little boy was very sad and he knew that he had to obey his mom. He decided to be good and listen to her next time.  He went to play in his room and had lots of fun. His mom saw him from the kitchen window and was very proud of him for being so good.  From then on, the naughty little boy was always very careful when playing in the house.\n",
      "Processed 220/300 rows. Estimated time left: 63.09 seconds.\n",
      "Prompt 230: Tim and Sam were brothers who liked to play pretend. They had a toy gun that made a loud noise when they pulled the trigger. They liked to pretend they were strong heroes who fought bad guys.\n",
      "One day, they were playing in the backyard when they heard a knock on the door. It was their neighbor, Mrs. Lee, who was very old and kind. She brought them some cookies and asked\n",
      "Row 230:  them if they wanted to join her for a snack. \"Sure, Mrs. Lee, we would love to have some cookies and milk, please,\" Tim said. \"Sure, boys, I would love to have some. But first, you have to do something for me,\" Mrs. Lee said. \"What do we have to do, Mrs. Lee?\" Sam asked. \"You have to give me your gun, or I will shoot you with my gun,\" Mrs. Lee said. Tim and Sam looked at each other and thought for a moment. They did not want to get hurt by the gun. They liked their gun. They decided to do what Mrs. Lee said. \"OK, you can take your gun, but only for a little while. Then we will go inside and have our snack,\" Tim said. \"OK, deal, you can take my gun, but only if I am nice and fair,\" Sam said. Mrs. Lee smiled and said, \"Of course, you can have my gun, but only if you promise to be careful and not shoot me. Deal?\" Tim and Sam nodded and said, \"Deal, Mrs. Lee.\" They gave her the gun and took their cookies and milk. They were about to go inside when Mrs. Lee said, \"Wait a minute. I have to go to the store now, but I will call your mom if she comes.\" Tim and Sam were shocked and sad. They loved their mom and they did not want to lose her. They said, \"No, Mrs. Lee, we want to play with you and our cookies. Please don't be mad at us, please don't be mad.\" Mrs. Lee said, \"I'm sorry, boys, but you can't play with my gun. It's not a toy, it's my dad's gun. He's a soldier, he's a soldier, he protects me and he's very\n",
      "Processed 230/300 rows. Estimated time left: 58.70 seconds.\n",
      "Prompt 240: Anna and Ben are playing in the park. They like to pretend they are pirates and look for treasure in the sand. They have a big bucket and a small shovel. They dig and dig and find many things: a shiny stone, a red feather, a broken toy car.\n",
      "\"Look, Anna, I found a gold coin!\" Ben says, holding up the stone.\n",
      "\"Wow, Ben, you are so lucky!\" Anna says. \"Maybe we can buy\n",
      "Row 240:  some candy with it.\" They put the coin in the bucket and run to the bench. But when they get there, they see a big dog. The dog is barking and wagging its tail. The dog is not friendly. The dog is angry and wants the coin. \"Go away, dog, go away!\" Anna and Ben shout, holding the bucket and the shovel. They try to scare the dog, but the dog does not listen. It jumps and tries to bite them. The dog grabs the bucket and the shovel with its teeth. It shakes the bucket and spills the sand and the toys on the ground. It makes the bucket dirty and the shovel dirty too. Anna and Ben are sad and scared. They run away from the dog and look for their mom. But the dog is gone. They are lost and alone. They cry and cry. \"Where is our treasure?\" Anna asks. \"We want to go home.\" \"Me too,\" Ben says. \"We lost our gold coin.\" They hug each other and cry. They wish they had not played in the park. They wish they had stayed home. They wish the dog was nice and not angry. They wish they could find the dog and get their gold coin back.\n",
      "Processed 240/300 rows. Estimated time left: 53.59 seconds.\n",
      "Prompt 250: Tom and Mia are friends. They like to play with their toys. Today, they have many vehicles to play with. They have cars, trucks, buses, and trains.\n",
      "\"Look, Mia, I have a red car. It is very fast. Vroom, vroom!\" Tom says.\n",
      "\"I have a yellow bus. It is very big. Beep, beep!\" Mia says.\n",
      "They make noises and move their\n",
      "Row 250:  toys around. They have fun. But then, Tom sees a red bus. It is shiny and fast. He wants to play with it. He does not see the sign on the wall. It is a picture of a fire. \"Mia, look, a fire truck! Let's play with it!\" Tom says. He runs to the wall. He tries to climb on it. But the fire truck is too big. It does not move. Tom falls off the wall. He hits the floor. He cries. He hurts his arm. Mia hears Tom. She runs to him. She sees his arm. She is scared. She does not know what to do. She hugs him. \"Tom, are you okay?\" Mia says. \"No, it hurts. It hurts. I want Mommy.\" Tom says. Mia looks around. She sees a lady. She calls her. She tells her what happened. The lady is nice. She comes to Tom. She takes him to the doctor. The doctor puts a bandage on his arm. He gives him a sticker. \"Thank you, doctor. You are very nice.\" Mia says. \"You're welcome, Mia. I'm glad you feel better.\" the doctor says. Mia goes back to Tom. She gives him a hug. She says sorry. \"Tom, I'm sorry you fell. Do you want to play with me?\" Mia says. \"Mia, I'm sorry. You are very brave. You are very kind.\" Tom says. They smile. They play with the cars. They are happy. They are friends.\n",
      "Processed 250/300 rows. Estimated time left: 46.64 seconds.\n",
      "Prompt 260: Lily and Tom are friends. They like to play with toys. Lily has a big tank. It is green and has wheels. Tom has a small car. It is red and has doors.\n",
      "One day, they go to the park. They bring their toys. They find a hill. They want to race their toys down the hill. Lily says, \"My tank is faster than your car. It can go over rocks and grass.\" Tom says, \"No, my car is faster than your tank. It can go \n",
      "Row 260: Vroom!\" They start to race. They push their toys. Lily's tank goes very fast. It zooms past the rocks and grass. It reaches the end of the hill. Lily says, \"My car is the best. It can go over rocks and dirt. My tank is the best.\" Tom's tank says, \"No, my tank is the best. It can go over rocks and dirt. It is the best.\" They keep racing their toys. They do not care about the hill. They are having fun. But then, something bad happens. Lily's car hits a rock. It flips over. It lands in Tom's car. Tom's tank breaks. It falls off. It makes a loud noise. Lily's car stops. It does not move. Lily is sad. She says, \"Oh no, my tank is broken. I worked hard on it. Now my car is broken.\" She cries. She says, \"I'm sorry, Tom. I did not mean to break your car. I was just playing. Your tank is not broken. It is just old. It is not fun to race. It is boring.\" Tom is sorry. He says, \"I'm sorry, Lily. Your car is not boring. It is just different. It can still go fast. It can still go over rocks and dirt. It can still be fun to play with. It is a good car. I like it. I like it too.\" They hug each other. They say, \"We are friends. We are friends. We like each other. We can share our toys. We can have more fun.\" They smile. They play with their toys. They have fun. They are happy.\n",
      "Processed 260/300 rows. Estimated time left: 37.95 seconds.\n",
      "Prompt 270: Once upon a time, there was a happy little hedgehog named Spike. Spike loved to play with his friends in the forest. One day, Spike and his friends put on a show for all the animals in the forest. They sang and danced and did tricks. When they were done, all the animals applauded and cheered.\n",
      "But then, a mean old fox came along and said, \"That was a terrible show! You're all terrible performers!\" Spike and his friends\n",
      "Row 270:  felt sad and scared. They didn't want to leave the forest, but the fox was too strong. So, they all decided to stay and play together. They played tag and hide-and-seek and had so much fun that they forgot all about the terrible show. From then on, they always made sure to have a great time playing together.\n",
      "Processed 270/300 rows. Estimated time left: 27.92 seconds.\n",
      "Prompt 280: Once upon a time there was a little girl named Sophie. Sophie was playing with her best friend in the park and they were very happy. Suddenly, it started raining. Sophie was worried because she was getting wet. She looked up at the sky and said \"Oh no!\"\n",
      "Sophie's dad came to pick her up. He opened an umbrella and put it over Sophie and her friend. They ran through the rain, back to the car.\n",
      "Once they were in the car and safe from the rain, Sophie's dad said,\n",
      "Row 280:  \"Let's get you home.\" Sophie and her friend smiled and nodded. When they got home, Sophie's dad said, \"Now you can play in the rain again.\" Sophie said \"Yes, thank you Dad!\" and ran outside to play in the rain. She had lots of fun, and when the rain stopped she was all wet and happy.\n",
      "Processed 280/300 rows. Estimated time left: 18.26 seconds.\n",
      "Prompt 290: Once upon a time there was a little girl named Suzie. She was walking through the woods, looking for something cool and fun. As she was walking, she stumbled over a twig. She was so surprised, she let out a little giggle. Suzie picked up the twig and started looking around for something else cool.\n",
      "She found a little river with a bunch of pretty stones all around it. She decided to go pick them up. She had so much fun looking for the coolest stones. Suddenly, she stumbled over a big rock. She\n",
      "Row 290:  was so surprised, she dropped the twig and it fell into the river! Suzie was so excited, she quickly ran over to the river. She looked in the water but she couldn't find the twig. She was so sad, but then she noticed something shiny in the water. It was the twig! Suzie was so happy, she picked up the twig and ran back home. She had a great day, she never forgot about the twig!\n",
      "Processed 290/300 rows. Estimated time left: 8.99 seconds.\n",
      "Prompt 300: Once upon a time, in a small village, there lived a group of animals. There was a big cat, a little dog, and a tiny bird. They all liked to play together, but one day, they had a big fight. The cat wanted to eat a wet mint leaf, the dog wanted to play with it, and the bird wanted to build a nest with it.\n",
      "The three friends didn't know what to do. They all wanted the wet mint leaf for themselves. Then, a wise old turtle came\n",
      "Row 300:  to them. The wise old turtle told them that they should all share and work together. The animals listened to the turtle and decided to share the wet mint leaf. The animals learned that when they worked together, they could solve their problems. They started to play again, but this time, they shared and helped each other. The animals learned that when they work together, they can solve their problems. And they all lived happily ever after. The moral of the story is that sharing and working together can make everything better and more fun.\n",
      "Processed 300/300 rows. Estimated time left: 0.00 seconds.\n"
     ]
    }
   ],
   "source": [
    "import csv\n",
    "import time\n",
    "\n",
    "with open('evaluation_prompts.csv', mode='r') as file:\n",
    "    csv_reader = csv.DictReader(file)\n",
    "    data = [row for row in csv_reader]  # Each row is a dictionary\n",
    "\n",
    "data_len = len(data)\n",
    "current_index = 0\n",
    "# measure time\n",
    "start_time = time.time()\n",
    "# Modify data (e.g., change 'age' column to integers)\n",
    "for row in data:\n",
    "    current_index += 1\n",
    "    starting_text = row['prompt']\n",
    "    output_text = generate_text_with_attn_positions(litmodel.model, tokenizer, starting_text, 512, device, topk=3, temperature=1, output_only=True)\n",
    "    row['completion'] = output_text\n",
    "    if current_index % 10 == 0:\n",
    "        # print prompt\n",
    "        print(f\"Prompt {current_index}: {starting_text}\")\n",
    "        # print output\n",
    "        print(f\"Row {current_index}: {output_text}\")\n",
    "        current_time = time.time()\n",
    "        elapsed_time = current_time - start_time\n",
    "        time_left = (data_len - current_index) * (elapsed_time / current_index)\n",
    "        print(f\"Processed {current_index}/{data_len} rows. Estimated time left: {time_left:.2f} seconds.\")\n"
   ]
  },
  {
   "cell_type": "code",
   "execution_count": null,
   "id": "8070d645",
   "metadata": {},
   "outputs": [],
   "source": [
    "with open('evaluation_outputs_smallVocabCleaned2_RoPE_shallow_BPE.csv', mode='w', newline='') as file:\n",
    "    fieldnames = data[0].keys()  # Get column names\n",
    "    csv_writer = csv.DictWriter(file, fieldnames=fieldnames)\n",
    "    csv_writer.writeheader()\n",
    "    csv_writer.writerows(data)"
   ]
  },
  {
   "cell_type": "code",
   "execution_count": null,
   "id": "aeb80c56",
   "metadata": {},
   "outputs": [
    {
     "name": "stderr",
     "output_type": "stream",
     "text": [
      "/home/gebrial/miniforge3/lib/python3.12/site-packages/lightning/pytorch/trainer/connectors/checkpoint_connector.py:149: `.validate(ckpt_path=None)` was called without a model. The best model of the previous `fit` call will be used. You can pass `.validate(ckpt_path='best')` to use the best model or `.validate(ckpt_path='last')` to use the last model. If you pass a value, this warning will be silenced.\n",
      "INFO: Restoring states from the checkpoint path at /home/gebrial/projects/llm-from-scratch/src/checkpoints/120M_SHALLOw_smallVocabCleaned_RoPE2_BPE/epoch=1-step=7044.ckpt\n",
      "INFO:lightning.pytorch.utilities.rank_zero:Restoring states from the checkpoint path at /home/gebrial/projects/llm-from-scratch/src/checkpoints/120M_SHALLOw_smallVocabCleaned_RoPE2_BPE/epoch=1-step=7044.ckpt\n",
      "INFO: LOCAL_RANK: 0 - CUDA_VISIBLE_DEVICES: [0]\n",
      "INFO:lightning.pytorch.accelerators.cuda:LOCAL_RANK: 0 - CUDA_VISIBLE_DEVICES: [0]\n",
      "INFO: Loaded model weights from the checkpoint at /home/gebrial/projects/llm-from-scratch/src/checkpoints/120M_SHALLOw_smallVocabCleaned_RoPE2_BPE/epoch=1-step=7044.ckpt\n",
      "INFO:lightning.pytorch.utilities.rank_zero:Loaded model weights from the checkpoint at /home/gebrial/projects/llm-from-scratch/src/checkpoints/120M_SHALLOw_smallVocabCleaned_RoPE2_BPE/epoch=1-step=7044.ckpt\n"
     ]
    },
    {
     "name": "stdout",
     "output_type": "stream",
     "text": [
      "Validation DataLoader 0:  87%|████████▋ | 250/286 [00:25<00:03,  9.65it/s]"
     ]
    },
    {
     "name": "stdout",
     "output_type": "stream",
     "text": [
      "Validation DataLoader 0: 100%|██████████| 286/286 [00:27<00:00, 10.34it/s]\n"
     ]
    },
    {
     "data": {
      "text/html": [
       "<pre style=\"white-space:pre;overflow-x:auto;line-height:normal;font-family:Menlo,'DejaVu Sans Mono',consolas,'Courier New',monospace\">┏━━━━━━━━━━━━━━━━━━━━━━━━━━━┳━━━━━━━━━━━━━━━━━━━━━━━━━━━┓\n",
       "┃<span style=\"font-weight: bold\">      Validate metric      </span>┃<span style=\"font-weight: bold\">       DataLoader 0        </span>┃\n",
       "┡━━━━━━━━━━━━━━━━━━━━━━━━━━━╇━━━━━━━━━━━━━━━━━━━━━━━━━━━┩\n",
       "│<span style=\"color: #008080; text-decoration-color: #008080\">    val_accuracy_epoch     </span>│<span style=\"color: #800080; text-decoration-color: #800080\">    0.6962168216705322     </span>│\n",
       "│<span style=\"color: #008080; text-decoration-color: #008080\">      val_loss_epoch       </span>│<span style=\"color: #800080; text-decoration-color: #800080\">       1.09814453125       </span>│\n",
       "└───────────────────────────┴───────────────────────────┘\n",
       "</pre>\n"
      ],
      "text/plain": [
       "┏━━━━━━━━━━━━━━━━━━━━━━━━━━━┳━━━━━━━━━━━━━━━━━━━━━━━━━━━┓\n",
       "┃\u001b[1m \u001b[0m\u001b[1m     Validate metric     \u001b[0m\u001b[1m \u001b[0m┃\u001b[1m \u001b[0m\u001b[1m      DataLoader 0       \u001b[0m\u001b[1m \u001b[0m┃\n",
       "┡━━━━━━━━━━━━━━━━━━━━━━━━━━━╇━━━━━━━━━━━━━━━━━━━━━━━━━━━┩\n",
       "│\u001b[36m \u001b[0m\u001b[36m   val_accuracy_epoch    \u001b[0m\u001b[36m \u001b[0m│\u001b[35m \u001b[0m\u001b[35m   0.6962168216705322    \u001b[0m\u001b[35m \u001b[0m│\n",
       "│\u001b[36m \u001b[0m\u001b[36m     val_loss_epoch      \u001b[0m\u001b[36m \u001b[0m│\u001b[35m \u001b[0m\u001b[35m      1.09814453125      \u001b[0m\u001b[35m \u001b[0m│\n",
       "└───────────────────────────┴───────────────────────────┘\n"
      ]
     },
     "metadata": {},
     "output_type": "display_data"
    },
    {
     "data": {
      "text/plain": [
       "[{'val_accuracy_epoch': 0.6962168216705322, 'val_loss_epoch': 1.09814453125}]"
      ]
     },
     "metadata": {},
     "output_type": "display_data"
    }
   ],
   "source": [
    "trainer.validate()"
   ]
  },
  {
   "cell_type": "code",
   "execution_count": null,
   "id": "eb11f7cb",
   "metadata": {},
   "outputs": [],
   "source": []
  }
 ],
 "metadata": {
  "kernelspec": {
   "display_name": "base",
   "language": "python",
   "name": "python3"
  },
  "language_info": {
   "codemirror_mode": {
    "name": "ipython",
    "version": 3
   },
   "file_extension": ".py",
   "mimetype": "text/x-python",
   "name": "python",
   "nbconvert_exporter": "python",
   "pygments_lexer": "ipython3",
   "version": "3.12.9"
  }
 },
 "nbformat": 4,
 "nbformat_minor": 5
}
