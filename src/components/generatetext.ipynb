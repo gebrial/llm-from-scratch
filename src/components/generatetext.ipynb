{
 "cells": [
  {
   "cell_type": "code",
   "execution_count": null,
   "id": "6fb2581d-1eab-4f7b-b647-96f4dd50e7a2",
   "metadata": {},
   "outputs": [],
   "source": []
  },
  {
   "cell_type": "code",
   "execution_count": 189,
   "id": "e71c9f3a-18bb-46a8-b4aa-4df814608d2b",
   "metadata": {},
   "outputs": [],
   "source": [
    "import torch\n",
    "\n",
    "def generate_next_token(tokens, model, device, temperature=0, topk=0):\n",
    "    # add temperature and topk functionality\n",
    "    logits = model(tokens)\n",
    "    tokens_output = torch.argmax(logits, dim=-1)\n",
    "    return tokens_output[0][-1]\n",
    "\n",
    "def generate_tokens(model, start_tokens, max_length, device, eot_token):\n",
    "    final_tokens = torch.full(size=(1, max_length), fill_value=eot_token, device=device)\n",
    "\n",
    "    idx = len(start_tokens)\n",
    "    final_tokens[0][:idx] = start_tokens\n",
    "    while idx < max_length:\n",
    "        tokens = final_tokens[:, :idx]\n",
    "        next_token = generate_next_token(tokens, model, device)\n",
    "        final_tokens[0][idx] = next_token\n",
    "        idx += 1\n",
    "\n",
    "        if next_token == eot_token:\n",
    "            break\n",
    "\n",
    "    return final_tokens\n",
    "\n",
    "\n",
    "def generate_text(model, tokenizer, start_text, max_length, device, eot_string=\"<|endoftext|>\"):\n",
    "    \"\"\"\n",
    "    Ensure tokenizer decode is set to tokenizers.decoders.WordPiece() for best results\n",
    "    max_length refers to number of tokens\n",
    "    device can be either \"cpu\" or \"cuda\"\n",
    "    \"\"\"\n",
    "    eot_token = tokenizer.encode(eot_string).ids[0]\n",
    "    start_tokens = tokenizer.encode(start_text).ids\n",
    "    start_tokens = torch.tensor(start_tokens).to(device)\n",
    "    tokens = generate_tokens(model, start_tokens, max_length, device, eot_token)\n",
    "    return tokenizer.decode(tokens[0].tolist())"
   ]
  }
 ],
 "metadata": {
  "kernelspec": {
   "display_name": "Python 3 (ipykernel)",
   "language": "python",
   "name": "python3"
  },
  "language_info": {
   "codemirror_mode": {
    "name": "ipython",
    "version": 3
   },
   "file_extension": ".py",
   "mimetype": "text/x-python",
   "name": "python",
   "nbconvert_exporter": "python",
   "pygments_lexer": "ipython3",
   "version": "3.12.9"
  }
 },
 "nbformat": 4,
 "nbformat_minor": 5
}
