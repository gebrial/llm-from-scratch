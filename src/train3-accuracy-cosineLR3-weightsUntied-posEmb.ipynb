{
 "cells": [
  {
   "cell_type": "markdown",
   "id": "4c22a32f-cb2c-47cd-96fc-fea8953ac491",
   "metadata": {},
   "source": [
    "This script contains some improvement from train.ipynb by default:\n",
    "* much few layers, heads, and embedding dimension to reduce the model size\n",
    "* dataloader v2 which uses a custom tokenizer (again to reduce model size)\n",
    "* no positional embeddings (to reduce model complexity)\n",
    "* weight tying (to reduce model size)\n",
    "\n",
    "\n",
    "We implemented a few things here first and not before:\n",
    "* validation losses\n",
    "* increased the model size to be just below 30M parameters\n",
    "* reduced the amount of data trained with to keep the training (wall) time consistent\n",
    "* made graph more informative"
   ]
  },
  {
   "cell_type": "markdown",
   "id": "ce834d77-2417-42fc-b17f-d30e90267ea7",
   "metadata": {},
   "source": [
    "This script contains a couple improvements from train2.ipynb:\n",
    "* gradient accumulation is enabled\n",
    "* the dataloader chunks from the start of an example up to the max_length or the endoftext token"
   ]
  },
  {
   "cell_type": "code",
   "execution_count": 1,
   "id": "c3ec2b36-0149-43b7-b4ba-7871b8d45d6e",
   "metadata": {},
   "outputs": [],
   "source": [
    "from components.gptmodel import GPTModel"
   ]
  },
  {
   "cell_type": "code",
   "execution_count": 2,
   "id": "6d23feb8-a522-4258-90a7-0c74ad37f0b0",
   "metadata": {},
   "outputs": [],
   "source": [
    "import lightning as L"
   ]
  },
  {
   "cell_type": "code",
   "execution_count": null,
   "id": "3ddf0a0e-0358-4ec9-9302-4bd57b06de88",
   "metadata": {},
   "outputs": [],
   "source": []
  },
  {
   "cell_type": "code",
   "execution_count": 3,
   "id": "55ed6a11-1e99-444f-b4b2-7e54873f2d53",
   "metadata": {},
   "outputs": [],
   "source": [
    "GPT_CONFIG_124M = {\n",
    "    \"vocab_size\": 30002,\n",
    "    \"context_length\": 256,\n",
    "    \"emb_dim\": 512,\n",
    "    \"n_heads\": 4,\n",
    "    \"n_layers\": 4,\n",
    "    \"drop_rate\": 0.1,\n",
    "    \"qkv_bias\": False,\n",
    "    \"weight_tying\": False,\n",
    "    \"no_pos_emb\": False\n",
    "}"
   ]
  },
  {
   "cell_type": "code",
   "execution_count": 4,
   "id": "59742e54-fcc7-49a2-b971-66d24cfcd605",
   "metadata": {},
   "outputs": [],
   "source": [
    "import torch.nn as nn\n",
    "import torch\n",
    "\n",
    "torch.set_float32_matmul_precision('medium')"
   ]
  },
  {
   "cell_type": "code",
   "execution_count": null,
   "id": "9641a1af-5cd5-4ea0-b10f-6f673dea2840",
   "metadata": {},
   "outputs": [],
   "source": []
  },
  {
   "cell_type": "code",
   "execution_count": 5,
   "id": "57750fa6-f436-42f1-87fa-2b7c52f01543",
   "metadata": {},
   "outputs": [],
   "source": [
    "from components.data import create_dataloader_v3"
   ]
  },
  {
   "cell_type": "code",
   "execution_count": 6,
   "id": "5a88551b-b45a-486d-ad49-c0b8e29f41d9",
   "metadata": {},
   "outputs": [],
   "source": [
    "trainer_config = {\n",
    "    \"dataset_scale\": 3,\n",
    "    \"batch_size\": 64,\n",
    "    \"epochs\": 1\n",
    "}\n",
    "trainer_config[\"grad_batches\"] = 256 // trainer_config[\"batch_size\"]"
   ]
  },
  {
   "cell_type": "code",
   "execution_count": 7,
   "id": "467a93a2-032a-4a22-b2b8-dca86bb51c93",
   "metadata": {},
   "outputs": [],
   "source": [
    "def create_dataloader(text, train=True):\n",
    "    return create_dataloader_v3(\n",
    "        text,\n",
    "        batch_size=trainer_config[\"batch_size\"],\n",
    "        max_length=GPT_CONFIG_124M[\"context_length\"],\n",
    "        stride=GPT_CONFIG_124M[\"context_length\"],\n",
    "        drop_last=train,\n",
    "        shuffle=train,\n",
    "        num_workers=23\n",
    "    )"
   ]
  },
  {
   "cell_type": "code",
   "execution_count": 8,
   "id": "968ce8c6-9d09-47d7-a447-e680bfdb273d",
   "metadata": {},
   "outputs": [
    {
     "name": "stdout",
     "output_type": "stream",
     "text": [
      "CPU times: user 1min 36s, sys: 4.01 s, total: 1min 40s\n",
      "Wall time: 1min 40s\n"
     ]
    }
   ],
   "source": [
    "%%time\n",
    "\n",
    "train_file = \"../data/TinyStories/TinyStoriesV2-GPT4-train.txt\"\n",
    "with open(train_file, \"r\", encoding=\"utf-8\") as f:\n",
    "    train_text = f.read()\n",
    "\n",
    "train_len = len(train_text)\n",
    "train_text = train_text[:train_len // trainer_config[\"dataset_scale\"]]\n",
    "train_loader = create_dataloader(train_text)"
   ]
  },
  {
   "cell_type": "code",
   "execution_count": 9,
   "id": "5601360e-c8f4-4753-9e7c-f62e7c099c25",
   "metadata": {},
   "outputs": [],
   "source": [
    "val_file = \"../data/TinyStories/TinyStoriesV2-GPT4-valid.txt\"\n",
    "with open(val_file, \"r\", encoding=\"utf-8\") as f:\n",
    "    val_text = f.read()\n",
    "\n",
    "val_loader = create_dataloader(val_text, train=False)"
   ]
  },
  {
   "cell_type": "code",
   "execution_count": null,
   "id": "10c777bb-c339-47f8-a8d8-2ef7fe3cab6e",
   "metadata": {},
   "outputs": [],
   "source": []
  },
  {
   "cell_type": "code",
   "execution_count": 10,
   "id": "177bc581-d01c-4691-9e05-2b30b2738808",
   "metadata": {},
   "outputs": [],
   "source": [
    "from torch.optim.lr_scheduler import OneCycleLR\n",
    "\n",
    "class LitGPTModel(L.LightningModule):\n",
    "    def __init__(self, GPTModel, total_steps, max_lr=1e-3):\n",
    "        super().__init__()\n",
    "        self.max_lr = max_lr\n",
    "        self.total_steps = total_steps\n",
    "        self.model = GPTModel\n",
    "\n",
    "        self.train_accuracy = []\n",
    "        self.val_accuracy = []\n",
    "        self.train_losses = []\n",
    "        self.val_losses = []\n",
    "        self.val_steps = []\n",
    "        self.learning_rates = []\n",
    "        self.batch_step = 0\n",
    "\n",
    "    def _accuracy(self, output, expected):\n",
    "        total_matching = (torch.argmax(output, dim=-1) == expected).sum().item()\n",
    "        total_numel = expected.numel()\n",
    "        return total_matching / total_numel\n",
    "\n",
    "    def training_step(self, batch, batch_idx):\n",
    "        self.batch_step += 1\n",
    "        x, y = batch\n",
    "        logits = self.model(x)\n",
    "\n",
    "        accuracy = self._accuracy(logits, y)\n",
    "        self.log(\"accuracy\", accuracy, prog_bar=True, on_step=True, on_epoch=True)\n",
    "        self.train_accuracy.append(accuracy)\n",
    "\n",
    "        loss = self.loss(logits, y)\n",
    "        self.log(\"loss\", loss, prog_bar=True, on_step=True, on_epoch=True)\n",
    "        self.train_losses.append(loss.item())\n",
    "\n",
    "        current_lr = self.optimizers().param_groups[0][\"lr\"]\n",
    "        self.learning_rates.append(current_lr)\n",
    "\n",
    "        return loss\n",
    "\n",
    "    def validation_step(self, batch, batch_idx):\n",
    "        self.val_steps.append(self.batch_step)\n",
    "        x, y = batch\n",
    "\n",
    "        logits = self.model(x)\n",
    "\n",
    "        accuracy = self._accuracy(logits, y)\n",
    "        self.log(\"val_accuracy\", accuracy, prog_bar=True, on_step=True, on_epoch=True)\n",
    "        self.val_accuracy.append(accuracy)\n",
    "\n",
    "        loss = self.loss(logits, y)\n",
    "        self.log(\"val_loss\", loss, prog_bar=True, on_step=True, on_epoch=True)\n",
    "        self.val_losses.append(loss.item())\n",
    "        \n",
    "        return loss\n",
    "\n",
    "    def loss(self, output, expected):\n",
    "        loss = nn.functional.cross_entropy(\n",
    "            output.flatten(0, 1), expected.flatten()\n",
    "        )\n",
    "        return loss\n",
    "\n",
    "    def configure_optimizers(self):\n",
    "        optimizer = torch.optim.AdamW(\n",
    "            self.parameters(), lr=self.max_lr, weight_decay=0.1\n",
    "        )\n",
    "        # scheduler = torch.optim.lr_scheduler.ReduceLROnPlateau(optimizer, patience=100)\n",
    "\n",
    "        scheduler = OneCycleLR(\n",
    "            optimizer,\n",
    "            max_lr=self.max_lr,\n",
    "            total_steps=self.total_steps,\n",
    "            pct_start=0.1,  # 10% warmup\n",
    "            anneal_strategy='cos'\n",
    "        )\n",
    "        lr_scheduler_config = {\n",
    "            \"scheduler\": scheduler,\n",
    "            \"interval\": \"step\",\n",
    "            \"monitor\": \"loss\"\n",
    "        }\n",
    "\n",
    "        return {\n",
    "            \"optimizer\": optimizer,\n",
    "            \"lr_scheduler\": lr_scheduler_config\n",
    "        }"
   ]
  },
  {
   "cell_type": "code",
   "execution_count": null,
   "id": "b995d95d-edd2-4a21-9e69-0361d5bf21b3",
   "metadata": {},
   "outputs": [],
   "source": []
  },
  {
   "cell_type": "code",
   "execution_count": 11,
   "id": "3af01d54-1a9d-484d-bd23-573bb249cb58",
   "metadata": {},
   "outputs": [],
   "source": [
    "model = GPTModel(GPT_CONFIG_124M)\n",
    "litmodel = LitGPTModel(model, 1 + trainer_config[\"epochs\"]*len(train_loader)//trainer_config[\"grad_batches\"])"
   ]
  },
  {
   "cell_type": "code",
   "execution_count": null,
   "id": "d9a8b447-2a4d-4eaf-aeef-fc98a417e7c1",
   "metadata": {
    "scrolled": true
   },
   "outputs": [
    {
     "name": "stderr",
     "output_type": "stream",
     "text": [
      "You are using the plain ModelCheckpoint callback. Consider using LitModelCheckpoint which with seamless uploading to Model registry.\n",
      "GPU available: True (cuda), used: True\n",
      "TPU available: False, using: 0 TPU cores\n",
      "HPU available: False, using: 0 HPUs\n",
      "2025-03-31 02:41:44.863600: I tensorflow/core/util/port.cc:153] oneDNN custom operations are on. You may see slightly different numerical results due to floating-point round-off errors from different computation orders. To turn them off, set the environment variable `TF_ENABLE_ONEDNN_OPTS=0`.\n",
      "2025-03-31 02:41:44.879897: E external/local_xla/xla/stream_executor/cuda/cuda_fft.cc:467] Unable to register cuFFT factory: Attempting to register factory for plugin cuFFT when one has already been registered\n",
      "WARNING: All log messages before absl::InitializeLog() is called are written to STDERR\n",
      "E0000 00:00:1743414104.891519    9984 cuda_dnn.cc:8579] Unable to register cuDNN factory: Attempting to register factory for plugin cuDNN when one has already been registered\n",
      "E0000 00:00:1743414104.894881    9984 cuda_blas.cc:1407] Unable to register cuBLAS factory: Attempting to register factory for plugin cuBLAS when one has already been registered\n",
      "W0000 00:00:1743414104.908365    9984 computation_placer.cc:177] computation placer already registered. Please check linkage and avoid linking the same target more than once.\n",
      "W0000 00:00:1743414104.908384    9984 computation_placer.cc:177] computation placer already registered. Please check linkage and avoid linking the same target more than once.\n",
      "W0000 00:00:1743414104.908386    9984 computation_placer.cc:177] computation placer already registered. Please check linkage and avoid linking the same target more than once.\n",
      "W0000 00:00:1743414104.908386    9984 computation_placer.cc:177] computation placer already registered. Please check linkage and avoid linking the same target more than once.\n",
      "2025-03-31 02:41:44.913503: I tensorflow/core/platform/cpu_feature_guard.cc:210] This TensorFlow binary is optimized to use available CPU instructions in performance-critical operations.\n",
      "To enable the following instructions: AVX2 AVX_VNNI FMA, in other operations, rebuild TensorFlow with the appropriate compiler flags.\n",
      "LOCAL_RANK: 0 - CUDA_VISIBLE_DEVICES: [0]\n",
      "\n",
      "  | Name  | Type     | Params | Mode \n",
      "-------------------------------------------\n",
      "0 | model | GPTModel | 43.5 M | train\n",
      "-------------------------------------------\n",
      "43.5 M    Trainable params\n",
      "0         Non-trainable params\n",
      "43.5 M    Total params\n",
      "173.830   Total estimated model params size (MB)\n",
      "68        Modules in train mode\n",
      "0         Modules in eval mode\n"
     ]
    },
    {
     "name": "stdout",
     "output_type": "stream",
     "text": [
      "Epoch 0:  10%|████████▎                                                                               | 1347/14163 [01:47<17:05, 12.50it/s, v_num=12, accuracy_step=0.537, loss_step=2.330]"
     ]
    }
   ],
   "source": [
    "%%time\n",
    "\n",
    "trainer = L.Trainer(max_epochs=trainer_config[\"epochs\"], enable_progress_bar=True, accumulate_grad_batches=trainer_config[\"grad_batches\"])\n",
    "trainer.fit(model=litmodel, train_dataloaders=train_loader, val_dataloaders=val_loader)"
   ]
  },
  {
   "cell_type": "code",
   "execution_count": null,
   "id": "d2a5eaef-72ed-4086-9f39-52de8fecda65",
   "metadata": {},
   "outputs": [],
   "source": [
    "import matplotlib.pyplot as plt\n",
    "\n",
    "fig, ax1 = plt.subplots(figsize=(10, 6))\n",
    "\n",
    "ax1.plot(litmodel.train_losses, label=\"Training Loss\", color=\"blue\")\n",
    "ax1.scatter(litmodel.val_steps, litmodel.val_losses, label=\"Validation Loss\", color=\"red\")\n",
    "ax1.set_ylim(0, 20)\n",
    "ax1.set_xlabel(\"Training Step\")\n",
    "ax1.set_ylabel(\"Loss\")\n",
    "ax1.legend(loc=\"upper left\")\n",
    "\n",
    "ax2 = ax1.twinx()\n",
    "ax2.plot(litmodel.learning_rates, label=\"Learning Rate\", color=\"green\")\n",
    "ax2.set_ylabel(\"Learning Rate\")\n",
    "ax2.legend(loc=\"upper right\")\n",
    "\n",
    "plt.title(\"Training/Validation Loss and Learning Rate\")\n",
    "plt.tight_layout()\n",
    "plt.grid(True)\n",
    "plt.show()"
   ]
  },
  {
   "cell_type": "code",
   "execution_count": null,
   "id": "12848dbc-0678-43d4-a13b-12ce7be0a4a7",
   "metadata": {},
   "outputs": [],
   "source": [
    "plt.figure(figsize=(10, 6))\n",
    "plt.plot(litmodel.train_accuracy, color=\"blue\")\n",
    "plt.scatter(litmodel.val_steps, litmodel.val_accuracy, color=\"red\")\n",
    "plt.xlabel(\"Training Step\")\n",
    "plt.ylabel(\"Accuracy\")\n",
    "plt.grid(True)\n",
    "plt.show()"
   ]
  },
  {
   "cell_type": "code",
   "execution_count": null,
   "id": "4e1c344a-57df-4d89-9369-b177fb873022",
   "metadata": {},
   "outputs": [],
   "source": []
  },
  {
   "cell_type": "code",
   "execution_count": null,
   "id": "a9dd0a0a-0864-4340-83e0-906c65ea6a71",
   "metadata": {},
   "outputs": [],
   "source": []
  },
  {
   "cell_type": "code",
   "execution_count": null,
   "id": "687d2c30-2a2c-480c-b2c9-568372d957d0",
   "metadata": {},
   "outputs": [],
   "source": []
  },
  {
   "cell_type": "code",
   "execution_count": null,
   "id": "85dfb03b-8787-4978-bbb5-3242b470d963",
   "metadata": {},
   "outputs": [],
   "source": []
  }
 ],
 "metadata": {
  "kernelspec": {
   "display_name": "Python 3 (ipykernel)",
   "language": "python",
   "name": "python3"
  },
  "language_info": {
   "codemirror_mode": {
    "name": "ipython",
    "version": 3
   },
   "file_extension": ".py",
   "mimetype": "text/x-python",
   "name": "python",
   "nbconvert_exporter": "python",
   "pygments_lexer": "ipython3",
   "version": "3.12.9"
  }
 },
 "nbformat": 4,
 "nbformat_minor": 5
}
